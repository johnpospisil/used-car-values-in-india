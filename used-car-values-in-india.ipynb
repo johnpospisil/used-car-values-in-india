{
 "cells": [
  {
   "cell_type": "code",
   "execution_count": 1,
   "id": "f81859ff",
   "metadata": {
    "_cell_guid": "b1076dfc-b9ad-4769-8c92-a6c4dae69d19",
    "_uuid": "8f2839f25d086af736a60e9eeb907d3b93b6e0e5",
    "execution": {
     "iopub.execute_input": "2024-11-25T00:08:17.529569Z",
     "iopub.status.busy": "2024-11-25T00:08:17.529005Z",
     "iopub.status.idle": "2024-11-25T00:08:18.602315Z",
     "shell.execute_reply": "2024-11-25T00:08:18.600793Z"
    },
    "papermill": {
     "duration": 1.083707,
     "end_time": "2024-11-25T00:08:18.605601",
     "exception": false,
     "start_time": "2024-11-25T00:08:17.521894",
     "status": "completed"
    },
    "tags": []
   },
   "outputs": [
    {
     "name": "stdout",
     "output_type": "stream",
     "text": [
      "/kaggle/input/used-car-dataset/used_car_dataset.csv\n"
     ]
    }
   ],
   "source": [
    "# This Python 3 environment comes with many helpful analytics libraries installed\n",
    "# It is defined by the kaggle/python Docker image: https://github.com/kaggle/docker-python\n",
    "# For example, here's several helpful packages to load\n",
    "\n",
    "import numpy as np # linear algebra\n",
    "import pandas as pd # data processing, CSV file I/O (e.g. pd.read_csv)\n",
    "\n",
    "# Input data files are available in the read-only \"../input/\" directory\n",
    "# For example, running this (by clicking run or pressing Shift+Enter) will list all files under the input directory\n",
    "\n",
    "import os\n",
    "for dirname, _, filenames in os.walk('/kaggle/input'):\n",
    "    for filename in filenames:\n",
    "        print(os.path.join(dirname, filename))\n",
    "\n",
    "# You can write up to 20GB to the current directory (/kaggle/working/) that gets preserved as output when you create a version using \"Save & Run All\" \n",
    "# You can also write temporary files to /kaggle/temp/, but they won't be saved outside of the current session"
   ]
  },
  {
   "cell_type": "markdown",
   "id": "f66c20b3",
   "metadata": {
    "papermill": {
     "duration": 0.004382,
     "end_time": "2024-11-25T00:08:18.615196",
     "exception": false,
     "start_time": "2024-11-25T00:08:18.610814",
     "status": "completed"
    },
    "tags": []
   },
   "source": [
    "Load the dataset and look at the first few rows of data."
   ]
  },
  {
   "cell_type": "code",
   "execution_count": 2,
   "id": "c5a6b059",
   "metadata": {
    "execution": {
     "iopub.execute_input": "2024-11-25T00:08:18.627240Z",
     "iopub.status.busy": "2024-11-25T00:08:18.626083Z",
     "iopub.status.idle": "2024-11-25T00:08:18.727668Z",
     "shell.execute_reply": "2024-11-25T00:08:18.725969Z"
    },
    "papermill": {
     "duration": 0.110857,
     "end_time": "2024-11-25T00:08:18.730743",
     "exception": false,
     "start_time": "2024-11-25T00:08:18.619886",
     "status": "completed"
    },
    "tags": []
   },
   "outputs": [
    {
     "data": {
      "text/html": [
       "<div>\n",
       "<style scoped>\n",
       "    .dataframe tbody tr th:only-of-type {\n",
       "        vertical-align: middle;\n",
       "    }\n",
       "\n",
       "    .dataframe tbody tr th {\n",
       "        vertical-align: top;\n",
       "    }\n",
       "\n",
       "    .dataframe thead th {\n",
       "        text-align: right;\n",
       "    }\n",
       "</style>\n",
       "<table border=\"1\" class=\"dataframe\">\n",
       "  <thead>\n",
       "    <tr style=\"text-align: right;\">\n",
       "      <th></th>\n",
       "      <th>Brand</th>\n",
       "      <th>model</th>\n",
       "      <th>Year</th>\n",
       "      <th>Age</th>\n",
       "      <th>kmDriven</th>\n",
       "      <th>Transmission</th>\n",
       "      <th>Owner</th>\n",
       "      <th>FuelType</th>\n",
       "      <th>PostedDate</th>\n",
       "      <th>AdditionInfo</th>\n",
       "      <th>AskPrice</th>\n",
       "    </tr>\n",
       "  </thead>\n",
       "  <tbody>\n",
       "    <tr>\n",
       "      <th>0</th>\n",
       "      <td>Honda</td>\n",
       "      <td>City</td>\n",
       "      <td>2001</td>\n",
       "      <td>23</td>\n",
       "      <td>98,000 km</td>\n",
       "      <td>Manual</td>\n",
       "      <td>second</td>\n",
       "      <td>Petrol</td>\n",
       "      <td>Nov-24</td>\n",
       "      <td>Honda City v teck in mint condition, valid gen...</td>\n",
       "      <td>₹ 1,95,000</td>\n",
       "    </tr>\n",
       "    <tr>\n",
       "      <th>1</th>\n",
       "      <td>Toyota</td>\n",
       "      <td>Innova</td>\n",
       "      <td>2009</td>\n",
       "      <td>15</td>\n",
       "      <td>190000.0 km</td>\n",
       "      <td>Manual</td>\n",
       "      <td>second</td>\n",
       "      <td>Diesel</td>\n",
       "      <td>Jul-24</td>\n",
       "      <td>Toyota Innova 2.5 G (Diesel) 7 Seater, 2009, D...</td>\n",
       "      <td>₹ 3,75,000</td>\n",
       "    </tr>\n",
       "    <tr>\n",
       "      <th>2</th>\n",
       "      <td>Volkswagen</td>\n",
       "      <td>VentoTest</td>\n",
       "      <td>2010</td>\n",
       "      <td>14</td>\n",
       "      <td>77,246 km</td>\n",
       "      <td>Manual</td>\n",
       "      <td>first</td>\n",
       "      <td>Diesel</td>\n",
       "      <td>Nov-24</td>\n",
       "      <td>Volkswagen Vento 2010-2013 Diesel Breeze, 2010...</td>\n",
       "      <td>₹ 1,84,999</td>\n",
       "    </tr>\n",
       "    <tr>\n",
       "      <th>3</th>\n",
       "      <td>Maruti Suzuki</td>\n",
       "      <td>Swift</td>\n",
       "      <td>2017</td>\n",
       "      <td>7</td>\n",
       "      <td>83,500 km</td>\n",
       "      <td>Manual</td>\n",
       "      <td>second</td>\n",
       "      <td>Diesel</td>\n",
       "      <td>Nov-24</td>\n",
       "      <td>Maruti Suzuki Swift 2017 Diesel Good Condition</td>\n",
       "      <td>₹ 5,65,000</td>\n",
       "    </tr>\n",
       "    <tr>\n",
       "      <th>4</th>\n",
       "      <td>Maruti Suzuki</td>\n",
       "      <td>Baleno</td>\n",
       "      <td>2019</td>\n",
       "      <td>5</td>\n",
       "      <td>45,000 km</td>\n",
       "      <td>Automatic</td>\n",
       "      <td>first</td>\n",
       "      <td>Petrol</td>\n",
       "      <td>Nov-24</td>\n",
       "      <td>Maruti Suzuki Baleno Alpha CVT, 2019, Petrol</td>\n",
       "      <td>₹ 6,85,000</td>\n",
       "    </tr>\n",
       "  </tbody>\n",
       "</table>\n",
       "</div>"
      ],
      "text/plain": [
       "           Brand      model  Year  Age     kmDriven Transmission   Owner  \\\n",
       "0          Honda       City  2001   23    98,000 km       Manual  second   \n",
       "1         Toyota     Innova  2009   15  190000.0 km       Manual  second   \n",
       "2     Volkswagen  VentoTest  2010   14    77,246 km       Manual   first   \n",
       "3  Maruti Suzuki      Swift  2017    7    83,500 km       Manual  second   \n",
       "4  Maruti Suzuki     Baleno  2019    5    45,000 km    Automatic   first   \n",
       "\n",
       "  FuelType PostedDate                                       AdditionInfo  \\\n",
       "0   Petrol     Nov-24  Honda City v teck in mint condition, valid gen...   \n",
       "1   Diesel     Jul-24  Toyota Innova 2.5 G (Diesel) 7 Seater, 2009, D...   \n",
       "2   Diesel     Nov-24  Volkswagen Vento 2010-2013 Diesel Breeze, 2010...   \n",
       "3   Diesel     Nov-24     Maruti Suzuki Swift 2017 Diesel Good Condition   \n",
       "4   Petrol     Nov-24       Maruti Suzuki Baleno Alpha CVT, 2019, Petrol   \n",
       "\n",
       "     AskPrice  \n",
       "0  ₹ 1,95,000  \n",
       "1  ₹ 3,75,000  \n",
       "2  ₹ 1,84,999  \n",
       "3  ₹ 5,65,000  \n",
       "4  ₹ 6,85,000  "
      ]
     },
     "execution_count": 2,
     "metadata": {},
     "output_type": "execute_result"
    }
   ],
   "source": [
    "df = pd.read_csv('/kaggle/input/used-car-dataset/used_car_dataset.csv')\n",
    "df.head()"
   ]
  },
  {
   "cell_type": "markdown",
   "id": "31364e04",
   "metadata": {
    "papermill": {
     "duration": 0.005945,
     "end_time": "2024-11-25T00:08:18.745585",
     "exception": false,
     "start_time": "2024-11-25T00:08:18.739640",
     "status": "completed"
    },
    "tags": []
   },
   "source": [
    "Let's see the total number of rows and columns."
   ]
  },
  {
   "cell_type": "code",
   "execution_count": 3,
   "id": "21e700c1",
   "metadata": {
    "execution": {
     "iopub.execute_input": "2024-11-25T00:08:18.758467Z",
     "iopub.status.busy": "2024-11-25T00:08:18.757236Z",
     "iopub.status.idle": "2024-11-25T00:08:18.765753Z",
     "shell.execute_reply": "2024-11-25T00:08:18.764304Z"
    },
    "papermill": {
     "duration": 0.017466,
     "end_time": "2024-11-25T00:08:18.768171",
     "exception": false,
     "start_time": "2024-11-25T00:08:18.750705",
     "status": "completed"
    },
    "tags": []
   },
   "outputs": [
    {
     "data": {
      "text/plain": [
       "(9582, 11)"
      ]
     },
     "execution_count": 3,
     "metadata": {},
     "output_type": "execute_result"
    }
   ],
   "source": [
    "df.shape"
   ]
  },
  {
   "cell_type": "markdown",
   "id": "68768a10",
   "metadata": {
    "papermill": {
     "duration": 0.005784,
     "end_time": "2024-11-25T00:08:18.779524",
     "exception": false,
     "start_time": "2024-11-25T00:08:18.773740",
     "status": "completed"
    },
    "tags": []
   },
   "source": [
    "Let's see if we have any missing values in this table."
   ]
  },
  {
   "cell_type": "code",
   "execution_count": 4,
   "id": "37658520",
   "metadata": {
    "execution": {
     "iopub.execute_input": "2024-11-25T00:08:18.791650Z",
     "iopub.status.busy": "2024-11-25T00:08:18.791096Z",
     "iopub.status.idle": "2024-11-25T00:08:18.826638Z",
     "shell.execute_reply": "2024-11-25T00:08:18.825318Z"
    },
    "papermill": {
     "duration": 0.044877,
     "end_time": "2024-11-25T00:08:18.829420",
     "exception": false,
     "start_time": "2024-11-25T00:08:18.784543",
     "status": "completed"
    },
    "tags": []
   },
   "outputs": [
    {
     "name": "stdout",
     "output_type": "stream",
     "text": [
      "<class 'pandas.core.frame.DataFrame'>\n",
      "RangeIndex: 9582 entries, 0 to 9581\n",
      "Data columns (total 11 columns):\n",
      " #   Column        Non-Null Count  Dtype \n",
      "---  ------        --------------  ----- \n",
      " 0   Brand         9582 non-null   object\n",
      " 1   model         9582 non-null   object\n",
      " 2   Year          9582 non-null   int64 \n",
      " 3   Age           9582 non-null   int64 \n",
      " 4   kmDriven      9535 non-null   object\n",
      " 5   Transmission  9582 non-null   object\n",
      " 6   Owner         9582 non-null   object\n",
      " 7   FuelType      9582 non-null   object\n",
      " 8   PostedDate    9582 non-null   object\n",
      " 9   AdditionInfo  9582 non-null   object\n",
      " 10  AskPrice      9582 non-null   object\n",
      "dtypes: int64(2), object(9)\n",
      "memory usage: 823.6+ KB\n"
     ]
    }
   ],
   "source": [
    "df.info()       # Information about columns, data types, and non-null counts"
   ]
  },
  {
   "cell_type": "markdown",
   "id": "61c99066",
   "metadata": {
    "papermill": {
     "duration": 0.005314,
     "end_time": "2024-11-25T00:08:18.840082",
     "exception": false,
     "start_time": "2024-11-25T00:08:18.834768",
     "status": "completed"
    },
    "tags": []
   },
   "source": [
    "All of the features except 'kmDriven' are complete."
   ]
  },
  {
   "cell_type": "code",
   "execution_count": 5,
   "id": "a8a90ddd",
   "metadata": {
    "execution": {
     "iopub.execute_input": "2024-11-25T00:08:18.853462Z",
     "iopub.status.busy": "2024-11-25T00:08:18.852187Z",
     "iopub.status.idle": "2024-11-25T00:08:18.861624Z",
     "shell.execute_reply": "2024-11-25T00:08:18.860001Z"
    },
    "papermill": {
     "duration": 0.018971,
     "end_time": "2024-11-25T00:08:18.864309",
     "exception": false,
     "start_time": "2024-11-25T00:08:18.845338",
     "status": "completed"
    },
    "tags": []
   },
   "outputs": [
    {
     "name": "stdout",
     "output_type": "stream",
     "text": [
      "The kmDriven feature is missing 47 values\n"
     ]
    }
   ],
   "source": [
    "# Count missing values in 'kmDriven'\n",
    "missing_values = df.kmDriven.isna().sum()\n",
    "\n",
    "# Display the result\n",
    "print(f'The kmDriven feature is missing {missing_values} values')"
   ]
  },
  {
   "cell_type": "markdown",
   "id": "7d4ce2ef",
   "metadata": {
    "papermill": {
     "duration": 0.005231,
     "end_time": "2024-11-25T00:08:18.874847",
     "exception": false,
     "start_time": "2024-11-25T00:08:18.869616",
     "status": "completed"
    },
    "tags": []
   },
   "source": [
    "Let's see the rows with missing kmDriven and see if we can spot any similarities between the entries."
   ]
  },
  {
   "cell_type": "code",
   "execution_count": 6,
   "id": "489f7e2f",
   "metadata": {
    "execution": {
     "iopub.execute_input": "2024-11-25T00:08:18.887465Z",
     "iopub.status.busy": "2024-11-25T00:08:18.886867Z",
     "iopub.status.idle": "2024-11-25T00:08:18.910948Z",
     "shell.execute_reply": "2024-11-25T00:08:18.909779Z"
    },
    "papermill": {
     "duration": 0.034197,
     "end_time": "2024-11-25T00:08:18.914325",
     "exception": false,
     "start_time": "2024-11-25T00:08:18.880128",
     "status": "completed"
    },
    "tags": []
   },
   "outputs": [
    {
     "name": "stdout",
     "output_type": "stream",
     "text": [
      "              Brand              model  Year  Age kmDriven Transmission  \\\n",
      "231   Maruti Suzuki           Alto-800  2019    5      NaN       Manual   \n",
      "353          Toyota             Innova  2016    8      NaN       Manual   \n",
      "444           Honda            City ZX  2024    0      NaN    Automatic   \n",
      "476         Hyundai        Santro Xing  2010   14      NaN    Automatic   \n",
      "608          Toyota              Etios  2012   12      NaN       Manual   \n",
      "793           Skoda             Kushaq  2010   14      NaN    Automatic   \n",
      "976        Mahindra    Bolero Neo Plus  2015    9      NaN    Automatic   \n",
      "1164       Mahindra         Bolero Neo  2023    1      NaN       Manual   \n",
      "1199           Tata             Indica  2014   10      NaN       Manual   \n",
      "1413        Hyundai        Santro Xing  2007   17      NaN       Manual   \n",
      "1978           Tata          Tiago Nrg  2021    3      NaN    Automatic   \n",
      "2680  Maruti Suzuki         Zen-Estilo  2008   16      NaN    Automatic   \n",
      "2847  Maruti Suzuki           S-Presso  2021    3      NaN    Automatic   \n",
      "3009  Maruti Suzuki             Baleno  2018    6      NaN       Manual   \n",
      "3361     Ambassador         Ambassador  2008   16      NaN       Manual   \n",
      "3418          Honda               City  2001   23      NaN       Manual   \n",
      "3749       Mahindra  Bolero Power Plus  2015    9      NaN    Automatic   \n",
      "3869  Maruti Suzuki             Esteem  2007   17      NaN       Manual   \n",
      "3922  Maruti Suzuki               Omni  2008   16      NaN       Manual   \n",
      "4192           ICML           Rhino Rx  2010   14      NaN       Manual   \n",
      "4937         Toyota             Innova  2014   10      NaN       Manual   \n",
      "5056  Maruti Suzuki        Swift-Dzire  2011   13      NaN       Manual   \n",
      "5074        Hyundai          Grand i10  2019    5      NaN       Manual   \n",
      "5180           Tata              Tiago  2018    6      NaN    Automatic   \n",
      "5398  Maruti Suzuki        Swift-Dzire  2014   10      NaN       Manual   \n",
      "5690  Maruti Suzuki              Swift  2007   17      NaN    Automatic   \n",
      "5762        Renault               KWID  2019    5      NaN    Automatic   \n",
      "5953  Maruti Suzuki          Baleno-RS  2017    7      NaN       Manual   \n",
      "5971  Maruti Suzuki               Eeco  2019    5      NaN    Automatic   \n",
      "6003           Tata          Indigo Cs  2016    8      NaN    Automatic   \n",
      "6384  Maruti Suzuki            Wagon-R  2010   14      NaN    Automatic   \n",
      "6718        Hyundai               Aura  2022    2      NaN    Automatic   \n",
      "6749  Maruti Suzuki             Brezza  2023    1      NaN    Automatic   \n",
      "7023         Toyota              Etios  2013   11      NaN    Automatic   \n",
      "7076  Maruti Suzuki        Swift-Dzire  2013   11      NaN       Manual   \n",
      "7242  Maruti Suzuki         Zen-Estilo  1998   26      NaN       Manual   \n",
      "7867  Maruti Suzuki               Eeco  2015    9      NaN    Automatic   \n",
      "7904  Maruti Suzuki            Wagon-R  2015    9      NaN       Manual   \n",
      "8039     Volkswagen              Jetta  2013   11      NaN       Manual   \n",
      "8238           Tata               Nano  2015    9      NaN       Manual   \n",
      "8361  Maruti Suzuki               Alto  2005   19      NaN       Manual   \n",
      "8591  Maruti Suzuki               Eeco  2015    9      NaN    Automatic   \n",
      "8851        Hyundai          Elite i20  2019    5      NaN       Manual   \n",
      "9015          Honda             Accord  2007   17      NaN    Automatic   \n",
      "9105  Maruti Suzuki                800  2004   20      NaN    Automatic   \n",
      "9178        Hyundai        Santro Xing  2007   17      NaN       Manual   \n",
      "9563  Maruti Suzuki               Eeco  2015    9      NaN       Manual   \n",
      "\n",
      "       Owner    FuelType PostedDate  \\\n",
      "231    first      Petrol     Nov-24   \n",
      "353   second      Diesel     Nov-24   \n",
      "444    first      Petrol     Nov-24   \n",
      "476   second      Petrol     Nov-24   \n",
      "608   second      Diesel     Nov-24   \n",
      "793    first      Petrol     Nov-24   \n",
      "976    first      Diesel     Nov-24   \n",
      "1164   first      Diesel     Nov-24   \n",
      "1199   first      Diesel     Nov-24   \n",
      "1413  second      Petrol     Nov-24   \n",
      "1978   first      Petrol     Nov-24   \n",
      "2680  second      Petrol     Nov-24   \n",
      "2847   first      Petrol     Nov-24   \n",
      "3009   first      Petrol     Nov-24   \n",
      "3361   first      Diesel     Nov-24   \n",
      "3418  second      Petrol     Nov-24   \n",
      "3749  second      Diesel     Nov-24   \n",
      "3869  second  Hybrid/CNG     Nov-24   \n",
      "3922  second  Hybrid/CNG     Nov-24   \n",
      "4192  second      Diesel     Nov-24   \n",
      "4937  second      Diesel     Nov-24   \n",
      "5056  second      Petrol     Nov-24   \n",
      "5074   first      Petrol     Nov-24   \n",
      "5180  second  Hybrid/CNG     Nov-24   \n",
      "5398  second      Diesel     Nov-24   \n",
      "5690  second  Hybrid/CNG     Nov-24   \n",
      "5762  second  Hybrid/CNG     Nov-24   \n",
      "5953   first      Petrol     Nov-24   \n",
      "5971  second  Hybrid/CNG     Nov-24   \n",
      "6003   first  Hybrid/CNG     Oct-24   \n",
      "6384   first  Hybrid/CNG     Nov-24   \n",
      "6718   first  Hybrid/CNG     Nov-24   \n",
      "6749   first  Hybrid/CNG     Nov-24   \n",
      "7023  second      Petrol     Nov-24   \n",
      "7076  second      Diesel     Nov-24   \n",
      "7242  second      Petrol     Nov-24   \n",
      "7867  second  Hybrid/CNG     Nov-24   \n",
      "7904  second  Hybrid/CNG     Nov-24   \n",
      "8039  second      Diesel     Nov-24   \n",
      "8238  second      Petrol     Nov-24   \n",
      "8361  second      Petrol     Nov-24   \n",
      "8591  second  Hybrid/CNG     Nov-24   \n",
      "8851   first      Petrol     Nov-24   \n",
      "9015  second  Hybrid/CNG     Nov-24   \n",
      "9105  second      Petrol     Nov-24   \n",
      "9178  second      Petrol     Nov-24   \n",
      "9563  second  Hybrid/CNG     Nov-24   \n",
      "\n",
      "                                           AdditionInfo     AskPrice  \n",
      "231                              Maruti Suzuki Alto 800   ₹ 3,00,000  \n",
      "353                     Toyota Innova 2016 model Diesel   ₹ 8,60,000  \n",
      "444                                          Honda City  ₹ 15,50,000  \n",
      "476                            Hyundai Santro Xing 2010   ₹ 1,20,000  \n",
      "608                  Toyota Etios Diesel Good Condition   ₹ 3,30,000  \n",
      "793   Car will have perfect condition,negotiation ar...   ₹ 4,00,000  \n",
      "976                       Mahindra Bolero Neo Plus 2015   ₹ 4,50,000  \n",
      "1164                    Mahindra Bolero Neo 2023 Diesel  ₹ 10,00,000  \n",
      "1199                                       Good running   ₹ 2,50,000  \n",
      "1413     Hyundai Santro Xing 2007 Petrol Good Condition   ₹ 1,48,000  \n",
      "1978     Tata Tiago NRG 2021Last Petrol Well Maintained   ₹ 4,30,000  \n",
      "2680                             Renuw RR validity 2028   ₹ 1,80,000  \n",
      "2847                             Maruti Suzuki S-Presso   ₹ 4,25,000  \n",
      "3009                          Maruti Suzuki Baleno 2018   ₹ 4,85,000  \n",
      "3361  Ambassador Ambassador 2008 Diesel Well Maintained   ₹ 1,50,000  \n",
      "3418  Honda City 2001 Petrol with CNG for immediate ...     ₹ 55,000  \n",
      "3749  Mahindra Bolero Power Plus 2015 Diesel Good Co...   ₹ 4,50,000  \n",
      "3869  Maruti Suzuki Esteem 2007 CNG & Hybrids Good C...   ₹ 1,00,000  \n",
      "3922                                       Sell for car     ₹ 51,786  \n",
      "4192          ICML Rhino Rx 2010 Diesel Well Maintained   ₹ 1,95,000  \n",
      "4937                                 Toyota Innova 2014  ₹ 10,50,000  \n",
      "5056  Maruti Suzuki Swift Dzire 2011 Petrol Well Mai...   ₹ 3,50,000  \n",
      "5074      Hyundai Grand i10 2019 Petrol Well Maintained   ₹ 5,50,000  \n",
      "5180                      Tata Tiago 2018 CNG & Hybrids   ₹ 4,20,000  \n",
      "5398                     Maruti Suzuki Swift Dzire 2014   ₹ 4,10,000  \n",
      "5690             Maruti Suzuki Swift 2007 CNG & Hybrids   ₹ 1,18,000  \n",
      "5762                   CNG car with GPS  good condition   ₹ 3,10,000  \n",
      "5953                Maruti Suzuki Baleno RS 2017 Petrol   ₹ 4,70,000  \n",
      "5971                          CNG bahar se lagi Hui hai   ₹ 4,50,000  \n",
      "6003                         Tata Indigo CS 2016 Petrol   ₹ 1,60,000  \n",
      "6384           Maruti Suzuki Wagon R 2010 CNG & Hybrids     ₹ 95,000  \n",
      "6718    Hyundai Aura 2022 CNG & Hybrids Well Maintained   ₹ 7,80,000  \n",
      "6749                             Toli  becani  h urgent   ₹ 1,50,000  \n",
      "7023             Etios v 2013 modal didwana sell 320000   ₹ 3,20,000  \n",
      "7076              Maruti Suzuki Swift Dzire 2013 Diesel   ₹ 2,45,000  \n",
      "7242  Zen 1998 model,insurence renewed,test in 2025 ...     ₹ 27,000  \n",
      "7867                                  ecco7 full okay h   ₹ 2,60,000  \n",
      "7904                         Maruti Suzuki Wagon R 2015   ₹ 2,15,000  \n",
      "8039        Volkswagen Jetta 2013 Diesel Good Condition   ₹ 3,10,000  \n",
      "8238                      Tata Nano 2015 Good Condition   ₹ 1,14,999  \n",
      "8361      Maruti Suzuki Alto 2005 Petrol Good Condition     ₹ 40,000  \n",
      "8591                                  ecco7 full okay h   ₹ 2,60,000  \n",
      "8851      Hyundai Elite i20 2019 Petrol Well Maintained   ₹ 4,75,000  \n",
      "9015                    Honda Accord 2007 CNG & Hybrids   ₹ 1,35,000  \n",
      "9105                      Maruti Suzuki 800 2004 Petrol     ₹ 60,000  \n",
      "9178                                Well maintained car     ₹ 90,000  \n",
      "9563  Maruti Suzuki Eeco 2015 CNG & Hybrids Well Mai...   ₹ 3,20,000  \n"
     ]
    }
   ],
   "source": [
    "# Show rows where column kmDriven has missing values\n",
    "rows_with_missing = df[df['kmDriven'].isna()]\n",
    "\n",
    "# Display the result\n",
    "print(rows_with_missing)"
   ]
  },
  {
   "cell_type": "markdown",
   "id": "6454b867",
   "metadata": {
    "papermill": {
     "duration": 0.008294,
     "end_time": "2024-11-25T00:08:18.932092",
     "exception": false,
     "start_time": "2024-11-25T00:08:18.923798",
     "status": "completed"
    },
    "tags": []
   },
   "source": [
    "I'm seeing a lot of 'Maruti Suzuki' entries. I wonder how common this Brand is in India? There are a few rows with this value for Brand in the rows with missing prices. Let's see how many rows have 'Maruti Suzuki' as the Brand in the whole dataset."
   ]
  },
  {
   "cell_type": "code",
   "execution_count": 7,
   "id": "209398a3",
   "metadata": {
    "execution": {
     "iopub.execute_input": "2024-11-25T00:08:18.945563Z",
     "iopub.status.busy": "2024-11-25T00:08:18.945020Z",
     "iopub.status.idle": "2024-11-25T00:08:18.956406Z",
     "shell.execute_reply": "2024-11-25T00:08:18.955028Z"
    },
    "papermill": {
     "duration": 0.021095,
     "end_time": "2024-11-25T00:08:18.958857",
     "exception": false,
     "start_time": "2024-11-25T00:08:18.937762",
     "status": "completed"
    },
    "tags": []
   },
   "outputs": [
    {
     "data": {
      "text/plain": [
       "2720"
      ]
     },
     "execution_count": 7,
     "metadata": {},
     "output_type": "execute_result"
    }
   ],
   "source": [
    "# Count rows where model has the value \"Maruti Suzuki\"\n",
    "rows_count = (df['Brand'] == 'Maruti Suzuki').sum()\n",
    "rows_count"
   ]
  },
  {
   "cell_type": "markdown",
   "id": "0591c5c5",
   "metadata": {
    "papermill": {
     "duration": 0.005662,
     "end_time": "2024-11-25T00:08:18.970185",
     "exception": false,
     "start_time": "2024-11-25T00:08:18.964523",
     "status": "completed"
    },
    "tags": []
   },
   "source": [
    "OK! That's a lot more than I expected. I don't think we need to worry too much about the large representation of 'Maruti Suzuki' branded cars in the rows with missing prices."
   ]
  },
  {
   "cell_type": "code",
   "execution_count": 8,
   "id": "c15eb967",
   "metadata": {
    "execution": {
     "iopub.execute_input": "2024-11-25T00:08:18.983880Z",
     "iopub.status.busy": "2024-11-25T00:08:18.983405Z",
     "iopub.status.idle": "2024-11-25T00:08:18.989280Z",
     "shell.execute_reply": "2024-11-25T00:08:18.987901Z"
    },
    "papermill": {
     "duration": 0.016056,
     "end_time": "2024-11-25T00:08:18.991861",
     "exception": false,
     "start_time": "2024-11-25T00:08:18.975805",
     "status": "completed"
    },
    "tags": []
   },
   "outputs": [],
   "source": [
    "# TODO: Put the average or median of the used car prices per manufacurer in the missing 47 spots."
   ]
  },
  {
   "cell_type": "markdown",
   "id": "589d7db2",
   "metadata": {
    "papermill": {
     "duration": 0.005372,
     "end_time": "2024-11-25T00:08:19.003195",
     "exception": false,
     "start_time": "2024-11-25T00:08:18.997823",
     "status": "completed"
    },
    "tags": []
   },
   "source": [
    "What kind if datatypes are in these columns?"
   ]
  },
  {
   "cell_type": "code",
   "execution_count": 9,
   "id": "a9feba7b",
   "metadata": {
    "execution": {
     "iopub.execute_input": "2024-11-25T00:08:19.017782Z",
     "iopub.status.busy": "2024-11-25T00:08:19.017285Z",
     "iopub.status.idle": "2024-11-25T00:08:19.027386Z",
     "shell.execute_reply": "2024-11-25T00:08:19.026071Z"
    },
    "papermill": {
     "duration": 0.019889,
     "end_time": "2024-11-25T00:08:19.029754",
     "exception": false,
     "start_time": "2024-11-25T00:08:19.009865",
     "status": "completed"
    },
    "tags": []
   },
   "outputs": [
    {
     "data": {
      "text/plain": [
       "Brand           object\n",
       "model           object\n",
       "Year             int64\n",
       "Age              int64\n",
       "kmDriven        object\n",
       "Transmission    object\n",
       "Owner           object\n",
       "FuelType        object\n",
       "PostedDate      object\n",
       "AdditionInfo    object\n",
       "AskPrice        object\n",
       "dtype: object"
      ]
     },
     "execution_count": 9,
     "metadata": {},
     "output_type": "execute_result"
    }
   ],
   "source": [
    "df.dtypes"
   ]
  },
  {
   "cell_type": "markdown",
   "id": "c290a202",
   "metadata": {
    "papermill": {
     "duration": 0.006251,
     "end_time": "2024-11-25T00:08:19.042086",
     "exception": false,
     "start_time": "2024-11-25T00:08:19.035835",
     "status": "completed"
    },
    "tags": []
   },
   "source": [
    "Now we need to look at some of these columns and determine the type of data in them, and how we may need to encode some of them."
   ]
  },
  {
   "cell_type": "code",
   "execution_count": 10,
   "id": "cca0cedf",
   "metadata": {
    "execution": {
     "iopub.execute_input": "2024-11-25T00:08:19.056201Z",
     "iopub.status.busy": "2024-11-25T00:08:19.055646Z",
     "iopub.status.idle": "2024-11-25T00:08:19.078271Z",
     "shell.execute_reply": "2024-11-25T00:08:19.076536Z"
    },
    "papermill": {
     "duration": 0.033049,
     "end_time": "2024-11-25T00:08:19.080968",
     "exception": false,
     "start_time": "2024-11-25T00:08:19.047919",
     "status": "completed"
    },
    "tags": []
   },
   "outputs": [
    {
     "name": "stdout",
     "output_type": "stream",
     "text": [
      "Brand             39\n",
      "model            400\n",
      "Year              32\n",
      "Age               32\n",
      "kmDriven        1911\n",
      "Transmission       2\n",
      "Owner              2\n",
      "FuelType           3\n",
      "PostedDate        12\n",
      "AdditionInfo    7307\n",
      "AskPrice        1330\n",
      "dtype: int64\n"
     ]
    }
   ],
   "source": [
    "unique_counts = df.nunique(dropna=False)\n",
    "\n",
    "# Display the result\n",
    "print(unique_counts)"
   ]
  },
  {
   "cell_type": "markdown",
   "id": "6b126896",
   "metadata": {
    "papermill": {
     "duration": 0.005504,
     "end_time": "2024-11-25T00:08:19.093347",
     "exception": false,
     "start_time": "2024-11-25T00:08:19.087843",
     "status": "completed"
    },
    "tags": []
   },
   "source": [
    "Here are the unique Brands. Let's look for any accidental duplicates caused by mispelling or other causes."
   ]
  },
  {
   "cell_type": "code",
   "execution_count": 11,
   "id": "6a4d8bba",
   "metadata": {
    "execution": {
     "iopub.execute_input": "2024-11-25T00:08:19.106955Z",
     "iopub.status.busy": "2024-11-25T00:08:19.106549Z",
     "iopub.status.idle": "2024-11-25T00:08:19.114105Z",
     "shell.execute_reply": "2024-11-25T00:08:19.112742Z"
    },
    "papermill": {
     "duration": 0.01697,
     "end_time": "2024-11-25T00:08:19.116398",
     "exception": false,
     "start_time": "2024-11-25T00:08:19.099428",
     "status": "completed"
    },
    "tags": []
   },
   "outputs": [
    {
     "name": "stdout",
     "output_type": "stream",
     "text": [
      "['Ambassador', 'Ashok', 'Aston Martin', 'Audi', 'BMW', 'Bajaj', 'Bentley', 'Chevrolet', 'Datsun', 'Fiat', 'Force', 'Ford', 'Honda', 'Hyundai', 'ICML', 'Isuzu', 'Jaguar', 'Jeep', 'Kia', 'Land Rover', 'Lexus', 'MG', 'Mahindra', 'Maruti Suzuki', 'Maserati', 'Mercedes-Benz', 'Mini', 'Mitsubishi', 'Nissan', 'Opel', 'Porsche', 'Renault', 'Rolls-Royce', 'Skoda', 'Ssangyong', 'Tata', 'Toyota', 'Volkswagen', 'Volvo']\n"
     ]
    }
   ],
   "source": [
    "# Show unique values of Brand\n",
    "unique_brands = sorted(df[\"Brand\"].unique())\n",
    "\n",
    "# Display the result\n",
    "print(unique_brands)"
   ]
  },
  {
   "cell_type": "markdown",
   "id": "0068e67b",
   "metadata": {
    "papermill": {
     "duration": 0.008976,
     "end_time": "2024-11-25T00:08:19.131450",
     "exception": false,
     "start_time": "2024-11-25T00:08:19.122474",
     "status": "completed"
    },
    "tags": []
   },
   "source": [
    "Good. They are all unique brands."
   ]
  },
  {
   "cell_type": "code",
   "execution_count": 12,
   "id": "a92369d8",
   "metadata": {
    "execution": {
     "iopub.execute_input": "2024-11-25T00:08:19.153446Z",
     "iopub.status.busy": "2024-11-25T00:08:19.153011Z",
     "iopub.status.idle": "2024-11-25T00:08:19.160457Z",
     "shell.execute_reply": "2024-11-25T00:08:19.159294Z"
    },
    "papermill": {
     "duration": 0.022132,
     "end_time": "2024-11-25T00:08:19.163650",
     "exception": false,
     "start_time": "2024-11-25T00:08:19.141518",
     "status": "completed"
    },
    "tags": []
   },
   "outputs": [
    {
     "name": "stdout",
     "output_type": "stream",
     "text": [
      "[' Wagon R', '1 Series', '1000', '2 Series', '2.8 Legender 4X2', '2.9 Sportback', '3 DOOR', '3 Series', '3 Series GT', '3 Series Gran Limousine', '5 DOOR', '5 Series', '5 Series Gt', '6 Series', '6 Series GT', '7 Series', '718', '800', 'A Class', 'A-Class Limousine', 'A-Star', 'A-class Limousine', 'A3', 'A3 Cabriolet', 'A4', 'A5', 'A6', 'A8 L', 'AMG', 'AMG A35', 'AMG C 43', 'AMG GLE Coupe', 'ASTOR', 'Accent', 'Accent Hatchback', 'Accord', 'Alcazar', 'Alto', 'Alto 800', 'Alto K10', 'Alto-800', 'Alto-K10', 'Altroz', 'Alturas G4', 'Amaze', 'Ambassador', 'Ameo', 'Aspire', 'Aura', 'Avventura', 'B Class', 'BRV', 'Baleno', 'Baleno-RS', 'Beat', 'Beetle', 'Bolero', 'Bolero Neo', 'Bolero Neo Plus', 'Bolero Power Plus', 'Bolt', 'Boxster', 'Brezza', 'Brio', 'C Class', 'C-Class', 'CERATO', 'CLA', 'CLS-Class', 'CR-V', 'CRV', 'Camry', 'Captiva', 'Captur', 'Carens', 'Carnival', 'Cayenne', 'Cayenne Coupe', 'Cayman', 'Cedia', 'Celerio', 'Celerio X', 'Celerio-X', 'Ciaz', 'City', 'City Hybrid eHEV', 'City ZX', 'Civic', 'Compass', 'Cooper', 'Cooper 3 DOOR', 'Cooper 5 DOOR', 'Cooper Clubman', 'Cooper Convertible', 'Cooper Countryman', 'Cooper S', 'Corolla', 'Corolla Altis', 'Corsa', 'Countryman', 'Creta', 'Creta Facelift', 'CrossPolo', 'Cruze', 'Curvv', 'D-Max V-Cross', 'Defender', 'Discovery', 'Discovery Sport', 'Duster', 'Dzire', 'E-20', 'E-Class', 'EON', 'ES', 'Ecosport', 'Eeco', 'Elantra', 'Elevate', 'Elite i20', 'Endeavour', 'Enjoy', 'Eon', 'Ertiga', 'Esteem', 'Estilo', 'Estima', 'Etios', 'Etios Cross', 'Etios Liva', 'Exter', 'F-Pace', 'Fabia', 'Fiesta', 'Fiesta Classic', 'Figo', 'Figo Aspire', 'Fluence', 'Fluidic Verna', 'Flying Spur', 'Fortuner', 'Free Style', 'Freelander 2', 'Fronx', 'Fronx ', 'G', 'G Class', 'G-Class', 'GL-Class', 'GLA', 'GLA Class', 'GLC', 'GLC Class', 'GLC Coupe', 'GLE', 'GLE COUPE', 'GLE Class', 'GLS', 'GO', 'GO Plus', 'GTI', 'Getz', 'Getz Prime', 'Glanza', 'Gloster', 'Gran Turismo', 'Grand Punto', 'Grand Vitara', 'Grand i10', 'Grand i10 Nios', 'Grand i10 Prime', 'Gypsy', 'H5x', 'Harrier', 'Hector', 'Hector Plus', 'Hexa', 'Hi-Lande Isuzu Hi-Lander', 'Ignis', 'Ikon', 'Indica', 'Indica Ev2', 'Indica V2', 'Indica Vista', 'Indigo Cs', 'Indigo Ecs', 'Indigo Marina', 'Innova', 'Innova Crysta', 'Innova Hycross', 'Invicto', 'Jazz', 'Jeep', 'Jetta', 'Jimny', 'KUV 100', 'KUV100 NXT', 'KWID', 'Kicks', 'Kiger', 'Kodiaq', 'Kushaq', 'LS', 'LX', 'Lancer', 'Land Cruiser', 'Land Cruiser Prado', 'Laura', 'Leyland Stile', 'Linea', 'Lodgy', 'M-Class', 'M340i', 'MAX', 'MICRA PRIMO', 'MUX', 'Macan', 'Magnite', 'Manza', 'Marazzo', 'Marshal', 'Meridian', 'Micra', 'Micra Active', 'Mobilio', 'Motors FM Force One Test', 'Motors FM Gurkha', 'Motors FM Trax Cruiser', 'Mustang', 'NX', 'Nano', 'Nano Genx', 'New Accord', 'New Duster', 'New Elantra', 'New Santro', 'New i20', 'New-gen Swift', 'Nexon', 'Nuvosport', 'Octavia', 'Omni', 'Optra', 'Optra Magnum', 'OptraSRV', 'Others', 'Outlander', 'PATROL', 'Pajero Sport', 'Panamera', 'Passat', 'Phantom Drop HeadCoupe', 'Phantom Series II', 'Polo', 'Polo GTI', 'Pulse', 'Punch', 'Punch ', 'Punto', 'Punto EVO', 'Punto Pure', 'Q3', 'Q5', 'Q7', 'Quanto', 'RE60', 'RX', 'Range Rover', 'Range Rover Evoque', 'Range Rover Sport', 'Range Rover Velar', 'Rapid', 'Redi Go', 'RediGO', 'Renault Logan', 'Rexton', 'Rhino Rx', 'Ritz', 'S 80', 'S-Class', 'S-Cross', 'S-Cross1', 'S-Presso', 'S60', 'S60 Cross Country', 'S80', 'S90', 'SL-Class', 'SLK-Class', 'SX4', 'Safari', 'Safari Storme', 'Sail', 'Sail U-VA', 'Santa Fe', 'Santro', 'Santro Xing', 'Scala', 'Scorpio', 'Scorpio Classic', 'Scorpio N', 'Scorpio-N', 'Seltos', 'Slavia', 'Sonata', 'Sonata Embera', 'Sonet', 'Spark', 'Ssangyong Rexton', 'Ssangyong-Rexton', 'Stingray', 'Sumo', 'Sumo Gold', 'Sumo Grande MK II', 'Sumo Victa', 'Sunny', 'Superb', 'Swift', 'Swift Dzire', 'Swift-Dzire', 'Swift-Dzire-Tour', 'Sx4', 'TUV', 'TUV 300', 'TUV 300-plus', 'Taigun', 'Tavera', 'Teana', 'Terrano', 'Thar', 'Tiago', 'Tiago Nrg', 'Tigor', 'Tiguan', 'Tiguan All Space', 'Trailblazer', 'Triber', 'Tucson', 'Urban Cross', 'Urban Cruiser', 'Urban Cruiser Hyryder', 'Urvan', 'V-Class', 'V40 Cross Country', 'VELLFIRE', 'Vanquish', 'Vento', 'VentoTest', 'Venture', 'Venue', 'Venue N Line', 'Verito', 'Verna', 'Virtus', 'Vista Tech', 'Vitara Brezza', 'Vitara-Brezza', 'WR-V', 'WRV', 'Wagon R', 'Wagon R 1.0', 'Wagon-R', 'Wagon-R-1-0', 'Wagon-R-Stingray', 'Wrangler', 'X1', 'X3', 'X4', 'X5', 'X5 M', 'X6', 'X7', 'XC 90', 'XC40', 'XC60', 'XC90', 'XE', 'XF', 'XJ', 'XL6', 'XUV 300', 'XUV300', 'XUV500', 'XUV700', 'Xcent', 'Xcent Prime', 'Xenon XT', 'Xylo', 'Yaris', 'Z4', 'Zen Estilo', 'Zen-Estilo', 'Zest', 'i10', 'i20', 'i20 Active', 'i20 N Line', 'maruti-suzuki-brezza', 'maruti-suzuki-dzire', 'tata-punch']\n"
     ]
    }
   ],
   "source": [
    "# Show unique values of Brand\n",
    "unique_models = sorted(df[\"model\"].unique())\n",
    "\n",
    "# Display the result\n",
    "print(unique_models)"
   ]
  },
  {
   "cell_type": "code",
   "execution_count": null,
   "id": "e409d603",
   "metadata": {
    "papermill": {
     "duration": 0.00611,
     "end_time": "2024-11-25T00:08:19.179890",
     "exception": false,
     "start_time": "2024-11-25T00:08:19.173780",
     "status": "completed"
    },
    "tags": []
   },
   "outputs": [],
   "source": []
  }
 ],
 "metadata": {
  "kaggle": {
   "accelerator": "none",
   "dataSources": [
    {
     "datasetId": 6153826,
     "sourceId": 9998181,
     "sourceType": "datasetVersion"
    }
   ],
   "dockerImageVersionId": 30786,
   "isGpuEnabled": false,
   "isInternetEnabled": true,
   "language": "python",
   "sourceType": "notebook"
  },
  "kernelspec": {
   "display_name": "Python 3",
   "language": "python",
   "name": "python3"
  },
  "language_info": {
   "codemirror_mode": {
    "name": "ipython",
    "version": 3
   },
   "file_extension": ".py",
   "mimetype": "text/x-python",
   "name": "python",
   "nbconvert_exporter": "python",
   "pygments_lexer": "ipython3",
   "version": "3.10.14"
  },
  "papermill": {
   "default_parameters": {},
   "duration": 5.495375,
   "end_time": "2024-11-25T00:08:19.708204",
   "environment_variables": {},
   "exception": null,
   "input_path": "__notebook__.ipynb",
   "output_path": "__notebook__.ipynb",
   "parameters": {},
   "start_time": "2024-11-25T00:08:14.212829",
   "version": "2.6.0"
  }
 },
 "nbformat": 4,
 "nbformat_minor": 5
}
