{
 "cells": [
  {
   "cell_type": "code",
   "execution_count": 1,
   "id": "22488568",
   "metadata": {
    "_cell_guid": "b1076dfc-b9ad-4769-8c92-a6c4dae69d19",
    "_uuid": "8f2839f25d086af736a60e9eeb907d3b93b6e0e5",
    "execution": {
     "iopub.execute_input": "2024-11-25T17:53:22.928017Z",
     "iopub.status.busy": "2024-11-25T17:53:22.927428Z",
     "iopub.status.idle": "2024-11-25T17:53:23.757978Z",
     "shell.execute_reply": "2024-11-25T17:53:23.756834Z"
    },
    "papermill": {
     "duration": 0.842447,
     "end_time": "2024-11-25T17:53:23.760521",
     "exception": false,
     "start_time": "2024-11-25T17:53:22.918074",
     "status": "completed"
    },
    "tags": []
   },
   "outputs": [
    {
     "name": "stdout",
     "output_type": "stream",
     "text": [
      "/kaggle/input/used-car-dataset/used_car_dataset.csv\n"
     ]
    }
   ],
   "source": [
    "# This Python 3 environment comes with many helpful analytics libraries installed\n",
    "# It is defined by the kaggle/python Docker image: https://github.com/kaggle/docker-python\n",
    "# For example, here's several helpful packages to load\n",
    "\n",
    "import numpy as np # linear algebra\n",
    "import pandas as pd # data processing, CSV file I/O (e.g. pd.read_csv)\n",
    "\n",
    "# Input data files are available in the read-only \"../input/\" directory\n",
    "# For example, running this (by clicking run or pressing Shift+Enter) will list all files under the input directory\n",
    "\n",
    "import os\n",
    "for dirname, _, filenames in os.walk('/kaggle/input'):\n",
    "    for filename in filenames:\n",
    "        print(os.path.join(dirname, filename))\n",
    "\n",
    "# You can write up to 20GB to the current directory (/kaggle/working/) that gets preserved as output when you create a version using \"Save & Run All\" \n",
    "# You can also write temporary files to /kaggle/temp/, but they won't be saved outside of the current session"
   ]
  },
  {
   "cell_type": "markdown",
   "id": "32fcf934",
   "metadata": {
    "papermill": {
     "duration": 0.006524,
     "end_time": "2024-11-25T17:53:23.775403",
     "exception": false,
     "start_time": "2024-11-25T17:53:23.768879",
     "status": "completed"
    },
    "tags": []
   },
   "source": [
    "Load the dataset and look at the first few rows of data."
   ]
  },
  {
   "cell_type": "code",
   "execution_count": 2,
   "id": "0887706a",
   "metadata": {
    "execution": {
     "iopub.execute_input": "2024-11-25T17:53:23.790428Z",
     "iopub.status.busy": "2024-11-25T17:53:23.789921Z",
     "iopub.status.idle": "2024-11-25T17:53:23.867910Z",
     "shell.execute_reply": "2024-11-25T17:53:23.866918Z"
    },
    "papermill": {
     "duration": 0.087936,
     "end_time": "2024-11-25T17:53:23.870073",
     "exception": false,
     "start_time": "2024-11-25T17:53:23.782137",
     "status": "completed"
    },
    "tags": []
   },
   "outputs": [
    {
     "data": {
      "text/html": [
       "<div>\n",
       "<style scoped>\n",
       "    .dataframe tbody tr th:only-of-type {\n",
       "        vertical-align: middle;\n",
       "    }\n",
       "\n",
       "    .dataframe tbody tr th {\n",
       "        vertical-align: top;\n",
       "    }\n",
       "\n",
       "    .dataframe thead th {\n",
       "        text-align: right;\n",
       "    }\n",
       "</style>\n",
       "<table border=\"1\" class=\"dataframe\">\n",
       "  <thead>\n",
       "    <tr style=\"text-align: right;\">\n",
       "      <th></th>\n",
       "      <th>Brand</th>\n",
       "      <th>model</th>\n",
       "      <th>Year</th>\n",
       "      <th>Age</th>\n",
       "      <th>kmDriven</th>\n",
       "      <th>Transmission</th>\n",
       "      <th>Owner</th>\n",
       "      <th>FuelType</th>\n",
       "      <th>PostedDate</th>\n",
       "      <th>AdditionInfo</th>\n",
       "      <th>AskPrice</th>\n",
       "    </tr>\n",
       "  </thead>\n",
       "  <tbody>\n",
       "    <tr>\n",
       "      <th>0</th>\n",
       "      <td>Honda</td>\n",
       "      <td>City</td>\n",
       "      <td>2001</td>\n",
       "      <td>23</td>\n",
       "      <td>98,000 km</td>\n",
       "      <td>Manual</td>\n",
       "      <td>second</td>\n",
       "      <td>Petrol</td>\n",
       "      <td>Nov-24</td>\n",
       "      <td>Honda City v teck in mint condition, valid gen...</td>\n",
       "      <td>₹ 1,95,000</td>\n",
       "    </tr>\n",
       "    <tr>\n",
       "      <th>1</th>\n",
       "      <td>Toyota</td>\n",
       "      <td>Innova</td>\n",
       "      <td>2009</td>\n",
       "      <td>15</td>\n",
       "      <td>190000.0 km</td>\n",
       "      <td>Manual</td>\n",
       "      <td>second</td>\n",
       "      <td>Diesel</td>\n",
       "      <td>Jul-24</td>\n",
       "      <td>Toyota Innova 2.5 G (Diesel) 7 Seater, 2009, D...</td>\n",
       "      <td>₹ 3,75,000</td>\n",
       "    </tr>\n",
       "    <tr>\n",
       "      <th>2</th>\n",
       "      <td>Volkswagen</td>\n",
       "      <td>VentoTest</td>\n",
       "      <td>2010</td>\n",
       "      <td>14</td>\n",
       "      <td>77,246 km</td>\n",
       "      <td>Manual</td>\n",
       "      <td>first</td>\n",
       "      <td>Diesel</td>\n",
       "      <td>Nov-24</td>\n",
       "      <td>Volkswagen Vento 2010-2013 Diesel Breeze, 2010...</td>\n",
       "      <td>₹ 1,84,999</td>\n",
       "    </tr>\n",
       "    <tr>\n",
       "      <th>3</th>\n",
       "      <td>Maruti Suzuki</td>\n",
       "      <td>Swift</td>\n",
       "      <td>2017</td>\n",
       "      <td>7</td>\n",
       "      <td>83,500 km</td>\n",
       "      <td>Manual</td>\n",
       "      <td>second</td>\n",
       "      <td>Diesel</td>\n",
       "      <td>Nov-24</td>\n",
       "      <td>Maruti Suzuki Swift 2017 Diesel Good Condition</td>\n",
       "      <td>₹ 5,65,000</td>\n",
       "    </tr>\n",
       "    <tr>\n",
       "      <th>4</th>\n",
       "      <td>Maruti Suzuki</td>\n",
       "      <td>Baleno</td>\n",
       "      <td>2019</td>\n",
       "      <td>5</td>\n",
       "      <td>45,000 km</td>\n",
       "      <td>Automatic</td>\n",
       "      <td>first</td>\n",
       "      <td>Petrol</td>\n",
       "      <td>Nov-24</td>\n",
       "      <td>Maruti Suzuki Baleno Alpha CVT, 2019, Petrol</td>\n",
       "      <td>₹ 6,85,000</td>\n",
       "    </tr>\n",
       "  </tbody>\n",
       "</table>\n",
       "</div>"
      ],
      "text/plain": [
       "           Brand      model  Year  Age     kmDriven Transmission   Owner  \\\n",
       "0          Honda       City  2001   23    98,000 km       Manual  second   \n",
       "1         Toyota     Innova  2009   15  190000.0 km       Manual  second   \n",
       "2     Volkswagen  VentoTest  2010   14    77,246 km       Manual   first   \n",
       "3  Maruti Suzuki      Swift  2017    7    83,500 km       Manual  second   \n",
       "4  Maruti Suzuki     Baleno  2019    5    45,000 km    Automatic   first   \n",
       "\n",
       "  FuelType PostedDate                                       AdditionInfo  \\\n",
       "0   Petrol     Nov-24  Honda City v teck in mint condition, valid gen...   \n",
       "1   Diesel     Jul-24  Toyota Innova 2.5 G (Diesel) 7 Seater, 2009, D...   \n",
       "2   Diesel     Nov-24  Volkswagen Vento 2010-2013 Diesel Breeze, 2010...   \n",
       "3   Diesel     Nov-24     Maruti Suzuki Swift 2017 Diesel Good Condition   \n",
       "4   Petrol     Nov-24       Maruti Suzuki Baleno Alpha CVT, 2019, Petrol   \n",
       "\n",
       "     AskPrice  \n",
       "0  ₹ 1,95,000  \n",
       "1  ₹ 3,75,000  \n",
       "2  ₹ 1,84,999  \n",
       "3  ₹ 5,65,000  \n",
       "4  ₹ 6,85,000  "
      ]
     },
     "execution_count": 2,
     "metadata": {},
     "output_type": "execute_result"
    }
   ],
   "source": [
    "df = pd.read_csv('/kaggle/input/used-car-dataset/used_car_dataset.csv')\n",
    "df.head()"
   ]
  },
  {
   "cell_type": "markdown",
   "id": "cd5327c9",
   "metadata": {
    "papermill": {
     "duration": 0.006814,
     "end_time": "2024-11-25T17:53:23.885131",
     "exception": false,
     "start_time": "2024-11-25T17:53:23.878317",
     "status": "completed"
    },
    "tags": []
   },
   "source": [
    "Let's see the total number of rows and columns."
   ]
  },
  {
   "cell_type": "code",
   "execution_count": 3,
   "id": "d8648125",
   "metadata": {
    "execution": {
     "iopub.execute_input": "2024-11-25T17:53:23.901378Z",
     "iopub.status.busy": "2024-11-25T17:53:23.900987Z",
     "iopub.status.idle": "2024-11-25T17:53:23.907366Z",
     "shell.execute_reply": "2024-11-25T17:53:23.906464Z"
    },
    "papermill": {
     "duration": 0.016797,
     "end_time": "2024-11-25T17:53:23.909344",
     "exception": false,
     "start_time": "2024-11-25T17:53:23.892547",
     "status": "completed"
    },
    "tags": []
   },
   "outputs": [
    {
     "data": {
      "text/plain": [
       "(9582, 11)"
      ]
     },
     "execution_count": 3,
     "metadata": {},
     "output_type": "execute_result"
    }
   ],
   "source": [
    "df.shape"
   ]
  },
  {
   "cell_type": "markdown",
   "id": "deae76c0",
   "metadata": {
    "papermill": {
     "duration": 0.006883,
     "end_time": "2024-11-25T17:53:23.923534",
     "exception": false,
     "start_time": "2024-11-25T17:53:23.916651",
     "status": "completed"
    },
    "tags": []
   },
   "source": [
    "Let's see if we have any missing values in this table."
   ]
  },
  {
   "cell_type": "code",
   "execution_count": 4,
   "id": "b0ae71cc",
   "metadata": {
    "execution": {
     "iopub.execute_input": "2024-11-25T17:53:23.939054Z",
     "iopub.status.busy": "2024-11-25T17:53:23.938707Z",
     "iopub.status.idle": "2024-11-25T17:53:23.966200Z",
     "shell.execute_reply": "2024-11-25T17:53:23.965208Z"
    },
    "papermill": {
     "duration": 0.037855,
     "end_time": "2024-11-25T17:53:23.968480",
     "exception": false,
     "start_time": "2024-11-25T17:53:23.930625",
     "status": "completed"
    },
    "tags": []
   },
   "outputs": [
    {
     "name": "stdout",
     "output_type": "stream",
     "text": [
      "<class 'pandas.core.frame.DataFrame'>\n",
      "RangeIndex: 9582 entries, 0 to 9581\n",
      "Data columns (total 11 columns):\n",
      " #   Column        Non-Null Count  Dtype \n",
      "---  ------        --------------  ----- \n",
      " 0   Brand         9582 non-null   object\n",
      " 1   model         9582 non-null   object\n",
      " 2   Year          9582 non-null   int64 \n",
      " 3   Age           9582 non-null   int64 \n",
      " 4   kmDriven      9535 non-null   object\n",
      " 5   Transmission  9582 non-null   object\n",
      " 6   Owner         9582 non-null   object\n",
      " 7   FuelType      9582 non-null   object\n",
      " 8   PostedDate    9582 non-null   object\n",
      " 9   AdditionInfo  9582 non-null   object\n",
      " 10  AskPrice      9582 non-null   object\n",
      "dtypes: int64(2), object(9)\n",
      "memory usage: 823.6+ KB\n"
     ]
    }
   ],
   "source": [
    "df.info()       # Information about columns, data types, and non-null counts"
   ]
  },
  {
   "cell_type": "markdown",
   "id": "399f5a83",
   "metadata": {
    "papermill": {
     "duration": 0.007169,
     "end_time": "2024-11-25T17:53:23.983042",
     "exception": false,
     "start_time": "2024-11-25T17:53:23.975873",
     "status": "completed"
    },
    "tags": []
   },
   "source": [
    "All of the features except 'kmDriven' are complete."
   ]
  },
  {
   "cell_type": "code",
   "execution_count": 5,
   "id": "3f87bf95",
   "metadata": {
    "execution": {
     "iopub.execute_input": "2024-11-25T17:53:23.999055Z",
     "iopub.status.busy": "2024-11-25T17:53:23.998691Z",
     "iopub.status.idle": "2024-11-25T17:53:24.005100Z",
     "shell.execute_reply": "2024-11-25T17:53:24.003987Z"
    },
    "papermill": {
     "duration": 0.016713,
     "end_time": "2024-11-25T17:53:24.007023",
     "exception": false,
     "start_time": "2024-11-25T17:53:23.990310",
     "status": "completed"
    },
    "tags": []
   },
   "outputs": [
    {
     "name": "stdout",
     "output_type": "stream",
     "text": [
      "The kmDriven feature is missing 47 values\n"
     ]
    }
   ],
   "source": [
    "# Count missing values in 'kmDriven'\n",
    "missing_values = df.kmDriven.isna().sum()\n",
    "\n",
    "# Display the result\n",
    "print(f'The kmDriven feature is missing {missing_values} values')"
   ]
  },
  {
   "cell_type": "markdown",
   "id": "18627368",
   "metadata": {
    "papermill": {
     "duration": 0.007446,
     "end_time": "2024-11-25T17:53:24.021974",
     "exception": false,
     "start_time": "2024-11-25T17:53:24.014528",
     "status": "completed"
    },
    "tags": []
   },
   "source": [
    "Let's see the rows with missing kmDriven and see if we can spot any similarities between the entries."
   ]
  },
  {
   "cell_type": "code",
   "execution_count": 6,
   "id": "671689d9",
   "metadata": {
    "execution": {
     "iopub.execute_input": "2024-11-25T17:53:24.038544Z",
     "iopub.status.busy": "2024-11-25T17:53:24.038189Z",
     "iopub.status.idle": "2024-11-25T17:53:24.054554Z",
     "shell.execute_reply": "2024-11-25T17:53:24.053571Z"
    },
    "papermill": {
     "duration": 0.027294,
     "end_time": "2024-11-25T17:53:24.057072",
     "exception": false,
     "start_time": "2024-11-25T17:53:24.029778",
     "status": "completed"
    },
    "tags": []
   },
   "outputs": [
    {
     "name": "stdout",
     "output_type": "stream",
     "text": [
      "              Brand              model  Year  Age kmDriven Transmission  \\\n",
      "231   Maruti Suzuki           Alto-800  2019    5      NaN       Manual   \n",
      "353          Toyota             Innova  2016    8      NaN       Manual   \n",
      "444           Honda            City ZX  2024    0      NaN    Automatic   \n",
      "476         Hyundai        Santro Xing  2010   14      NaN    Automatic   \n",
      "608          Toyota              Etios  2012   12      NaN       Manual   \n",
      "793           Skoda             Kushaq  2010   14      NaN    Automatic   \n",
      "976        Mahindra    Bolero Neo Plus  2015    9      NaN    Automatic   \n",
      "1164       Mahindra         Bolero Neo  2023    1      NaN       Manual   \n",
      "1199           Tata             Indica  2014   10      NaN       Manual   \n",
      "1413        Hyundai        Santro Xing  2007   17      NaN       Manual   \n",
      "1978           Tata          Tiago Nrg  2021    3      NaN    Automatic   \n",
      "2680  Maruti Suzuki         Zen-Estilo  2008   16      NaN    Automatic   \n",
      "2847  Maruti Suzuki           S-Presso  2021    3      NaN    Automatic   \n",
      "3009  Maruti Suzuki             Baleno  2018    6      NaN       Manual   \n",
      "3361     Ambassador         Ambassador  2008   16      NaN       Manual   \n",
      "3418          Honda               City  2001   23      NaN       Manual   \n",
      "3749       Mahindra  Bolero Power Plus  2015    9      NaN    Automatic   \n",
      "3869  Maruti Suzuki             Esteem  2007   17      NaN       Manual   \n",
      "3922  Maruti Suzuki               Omni  2008   16      NaN       Manual   \n",
      "4192           ICML           Rhino Rx  2010   14      NaN       Manual   \n",
      "4937         Toyota             Innova  2014   10      NaN       Manual   \n",
      "5056  Maruti Suzuki        Swift-Dzire  2011   13      NaN       Manual   \n",
      "5074        Hyundai          Grand i10  2019    5      NaN       Manual   \n",
      "5180           Tata              Tiago  2018    6      NaN    Automatic   \n",
      "5398  Maruti Suzuki        Swift-Dzire  2014   10      NaN       Manual   \n",
      "5690  Maruti Suzuki              Swift  2007   17      NaN    Automatic   \n",
      "5762        Renault               KWID  2019    5      NaN    Automatic   \n",
      "5953  Maruti Suzuki          Baleno-RS  2017    7      NaN       Manual   \n",
      "5971  Maruti Suzuki               Eeco  2019    5      NaN    Automatic   \n",
      "6003           Tata          Indigo Cs  2016    8      NaN    Automatic   \n",
      "6384  Maruti Suzuki            Wagon-R  2010   14      NaN    Automatic   \n",
      "6718        Hyundai               Aura  2022    2      NaN    Automatic   \n",
      "6749  Maruti Suzuki             Brezza  2023    1      NaN    Automatic   \n",
      "7023         Toyota              Etios  2013   11      NaN    Automatic   \n",
      "7076  Maruti Suzuki        Swift-Dzire  2013   11      NaN       Manual   \n",
      "7242  Maruti Suzuki         Zen-Estilo  1998   26      NaN       Manual   \n",
      "7867  Maruti Suzuki               Eeco  2015    9      NaN    Automatic   \n",
      "7904  Maruti Suzuki            Wagon-R  2015    9      NaN       Manual   \n",
      "8039     Volkswagen              Jetta  2013   11      NaN       Manual   \n",
      "8238           Tata               Nano  2015    9      NaN       Manual   \n",
      "8361  Maruti Suzuki               Alto  2005   19      NaN       Manual   \n",
      "8591  Maruti Suzuki               Eeco  2015    9      NaN    Automatic   \n",
      "8851        Hyundai          Elite i20  2019    5      NaN       Manual   \n",
      "9015          Honda             Accord  2007   17      NaN    Automatic   \n",
      "9105  Maruti Suzuki                800  2004   20      NaN    Automatic   \n",
      "9178        Hyundai        Santro Xing  2007   17      NaN       Manual   \n",
      "9563  Maruti Suzuki               Eeco  2015    9      NaN       Manual   \n",
      "\n",
      "       Owner    FuelType PostedDate  \\\n",
      "231    first      Petrol     Nov-24   \n",
      "353   second      Diesel     Nov-24   \n",
      "444    first      Petrol     Nov-24   \n",
      "476   second      Petrol     Nov-24   \n",
      "608   second      Diesel     Nov-24   \n",
      "793    first      Petrol     Nov-24   \n",
      "976    first      Diesel     Nov-24   \n",
      "1164   first      Diesel     Nov-24   \n",
      "1199   first      Diesel     Nov-24   \n",
      "1413  second      Petrol     Nov-24   \n",
      "1978   first      Petrol     Nov-24   \n",
      "2680  second      Petrol     Nov-24   \n",
      "2847   first      Petrol     Nov-24   \n",
      "3009   first      Petrol     Nov-24   \n",
      "3361   first      Diesel     Nov-24   \n",
      "3418  second      Petrol     Nov-24   \n",
      "3749  second      Diesel     Nov-24   \n",
      "3869  second  Hybrid/CNG     Nov-24   \n",
      "3922  second  Hybrid/CNG     Nov-24   \n",
      "4192  second      Diesel     Nov-24   \n",
      "4937  second      Diesel     Nov-24   \n",
      "5056  second      Petrol     Nov-24   \n",
      "5074   first      Petrol     Nov-24   \n",
      "5180  second  Hybrid/CNG     Nov-24   \n",
      "5398  second      Diesel     Nov-24   \n",
      "5690  second  Hybrid/CNG     Nov-24   \n",
      "5762  second  Hybrid/CNG     Nov-24   \n",
      "5953   first      Petrol     Nov-24   \n",
      "5971  second  Hybrid/CNG     Nov-24   \n",
      "6003   first  Hybrid/CNG     Oct-24   \n",
      "6384   first  Hybrid/CNG     Nov-24   \n",
      "6718   first  Hybrid/CNG     Nov-24   \n",
      "6749   first  Hybrid/CNG     Nov-24   \n",
      "7023  second      Petrol     Nov-24   \n",
      "7076  second      Diesel     Nov-24   \n",
      "7242  second      Petrol     Nov-24   \n",
      "7867  second  Hybrid/CNG     Nov-24   \n",
      "7904  second  Hybrid/CNG     Nov-24   \n",
      "8039  second      Diesel     Nov-24   \n",
      "8238  second      Petrol     Nov-24   \n",
      "8361  second      Petrol     Nov-24   \n",
      "8591  second  Hybrid/CNG     Nov-24   \n",
      "8851   first      Petrol     Nov-24   \n",
      "9015  second  Hybrid/CNG     Nov-24   \n",
      "9105  second      Petrol     Nov-24   \n",
      "9178  second      Petrol     Nov-24   \n",
      "9563  second  Hybrid/CNG     Nov-24   \n",
      "\n",
      "                                           AdditionInfo     AskPrice  \n",
      "231                              Maruti Suzuki Alto 800   ₹ 3,00,000  \n",
      "353                     Toyota Innova 2016 model Diesel   ₹ 8,60,000  \n",
      "444                                          Honda City  ₹ 15,50,000  \n",
      "476                            Hyundai Santro Xing 2010   ₹ 1,20,000  \n",
      "608                  Toyota Etios Diesel Good Condition   ₹ 3,30,000  \n",
      "793   Car will have perfect condition,negotiation ar...   ₹ 4,00,000  \n",
      "976                       Mahindra Bolero Neo Plus 2015   ₹ 4,50,000  \n",
      "1164                    Mahindra Bolero Neo 2023 Diesel  ₹ 10,00,000  \n",
      "1199                                       Good running   ₹ 2,50,000  \n",
      "1413     Hyundai Santro Xing 2007 Petrol Good Condition   ₹ 1,48,000  \n",
      "1978     Tata Tiago NRG 2021Last Petrol Well Maintained   ₹ 4,30,000  \n",
      "2680                             Renuw RR validity 2028   ₹ 1,80,000  \n",
      "2847                             Maruti Suzuki S-Presso   ₹ 4,25,000  \n",
      "3009                          Maruti Suzuki Baleno 2018   ₹ 4,85,000  \n",
      "3361  Ambassador Ambassador 2008 Diesel Well Maintained   ₹ 1,50,000  \n",
      "3418  Honda City 2001 Petrol with CNG for immediate ...     ₹ 55,000  \n",
      "3749  Mahindra Bolero Power Plus 2015 Diesel Good Co...   ₹ 4,50,000  \n",
      "3869  Maruti Suzuki Esteem 2007 CNG & Hybrids Good C...   ₹ 1,00,000  \n",
      "3922                                       Sell for car     ₹ 51,786  \n",
      "4192          ICML Rhino Rx 2010 Diesel Well Maintained   ₹ 1,95,000  \n",
      "4937                                 Toyota Innova 2014  ₹ 10,50,000  \n",
      "5056  Maruti Suzuki Swift Dzire 2011 Petrol Well Mai...   ₹ 3,50,000  \n",
      "5074      Hyundai Grand i10 2019 Petrol Well Maintained   ₹ 5,50,000  \n",
      "5180                      Tata Tiago 2018 CNG & Hybrids   ₹ 4,20,000  \n",
      "5398                     Maruti Suzuki Swift Dzire 2014   ₹ 4,10,000  \n",
      "5690             Maruti Suzuki Swift 2007 CNG & Hybrids   ₹ 1,18,000  \n",
      "5762                   CNG car with GPS  good condition   ₹ 3,10,000  \n",
      "5953                Maruti Suzuki Baleno RS 2017 Petrol   ₹ 4,70,000  \n",
      "5971                          CNG bahar se lagi Hui hai   ₹ 4,50,000  \n",
      "6003                         Tata Indigo CS 2016 Petrol   ₹ 1,60,000  \n",
      "6384           Maruti Suzuki Wagon R 2010 CNG & Hybrids     ₹ 95,000  \n",
      "6718    Hyundai Aura 2022 CNG & Hybrids Well Maintained   ₹ 7,80,000  \n",
      "6749                             Toli  becani  h urgent   ₹ 1,50,000  \n",
      "7023             Etios v 2013 modal didwana sell 320000   ₹ 3,20,000  \n",
      "7076              Maruti Suzuki Swift Dzire 2013 Diesel   ₹ 2,45,000  \n",
      "7242  Zen 1998 model,insurence renewed,test in 2025 ...     ₹ 27,000  \n",
      "7867                                  ecco7 full okay h   ₹ 2,60,000  \n",
      "7904                         Maruti Suzuki Wagon R 2015   ₹ 2,15,000  \n",
      "8039        Volkswagen Jetta 2013 Diesel Good Condition   ₹ 3,10,000  \n",
      "8238                      Tata Nano 2015 Good Condition   ₹ 1,14,999  \n",
      "8361      Maruti Suzuki Alto 2005 Petrol Good Condition     ₹ 40,000  \n",
      "8591                                  ecco7 full okay h   ₹ 2,60,000  \n",
      "8851      Hyundai Elite i20 2019 Petrol Well Maintained   ₹ 4,75,000  \n",
      "9015                    Honda Accord 2007 CNG & Hybrids   ₹ 1,35,000  \n",
      "9105                      Maruti Suzuki 800 2004 Petrol     ₹ 60,000  \n",
      "9178                                Well maintained car     ₹ 90,000  \n",
      "9563  Maruti Suzuki Eeco 2015 CNG & Hybrids Well Mai...   ₹ 3,20,000  \n"
     ]
    }
   ],
   "source": [
    "# Show rows where column kmDriven has missing values\n",
    "rows_with_missing = df[df['kmDriven'].isna()]\n",
    "\n",
    "# Display the result\n",
    "print(rows_with_missing)"
   ]
  },
  {
   "cell_type": "markdown",
   "id": "d01b9446",
   "metadata": {
    "papermill": {
     "duration": 0.007369,
     "end_time": "2024-11-25T17:53:24.072429",
     "exception": false,
     "start_time": "2024-11-25T17:53:24.065060",
     "status": "completed"
    },
    "tags": []
   },
   "source": [
    "I'm seeing a lot of 'Maruti Suzuki' entries. I wonder how common this Brand is in India? There are a few rows with this value for Brand in the rows with missing prices. Let's see how many rows have 'Maruti Suzuki' as the Brand in the whole dataset."
   ]
  },
  {
   "cell_type": "code",
   "execution_count": 7,
   "id": "acc50f99",
   "metadata": {
    "execution": {
     "iopub.execute_input": "2024-11-25T17:53:24.089480Z",
     "iopub.status.busy": "2024-11-25T17:53:24.089119Z",
     "iopub.status.idle": "2024-11-25T17:53:24.096802Z",
     "shell.execute_reply": "2024-11-25T17:53:24.095810Z"
    },
    "papermill": {
     "duration": 0.018664,
     "end_time": "2024-11-25T17:53:24.098677",
     "exception": false,
     "start_time": "2024-11-25T17:53:24.080013",
     "status": "completed"
    },
    "tags": []
   },
   "outputs": [
    {
     "data": {
      "text/plain": [
       "2720"
      ]
     },
     "execution_count": 7,
     "metadata": {},
     "output_type": "execute_result"
    }
   ],
   "source": [
    "# Count rows where model has the value \"Maruti Suzuki\"\n",
    "rows_count = (df['Brand'] == 'Maruti Suzuki').sum()\n",
    "rows_count"
   ]
  },
  {
   "cell_type": "markdown",
   "id": "5d3979c0",
   "metadata": {
    "papermill": {
     "duration": 0.007439,
     "end_time": "2024-11-25T17:53:24.114019",
     "exception": false,
     "start_time": "2024-11-25T17:53:24.106580",
     "status": "completed"
    },
    "tags": []
   },
   "source": [
    "OK! That's a lot more than I expected. I don't think we need to worry too much about the large representation of 'Maruti Suzuki' branded cars in the rows with missing prices."
   ]
  },
  {
   "cell_type": "markdown",
   "id": "caf5a5c5",
   "metadata": {
    "papermill": {
     "duration": 0.007342,
     "end_time": "2024-11-25T17:53:24.129031",
     "exception": false,
     "start_time": "2024-11-25T17:53:24.121689",
     "status": "completed"
    },
    "tags": []
   },
   "source": [
    "Next Let's remove the rows with missing 'kmDriven' values."
   ]
  },
  {
   "cell_type": "code",
   "execution_count": 8,
   "id": "1f7f77ea",
   "metadata": {
    "execution": {
     "iopub.execute_input": "2024-11-25T17:53:24.147088Z",
     "iopub.status.busy": "2024-11-25T17:53:24.146687Z",
     "iopub.status.idle": "2024-11-25T17:53:24.165108Z",
     "shell.execute_reply": "2024-11-25T17:53:24.164088Z"
    },
    "papermill": {
     "duration": 0.029346,
     "end_time": "2024-11-25T17:53:24.167120",
     "exception": false,
     "start_time": "2024-11-25T17:53:24.137774",
     "status": "completed"
    },
    "tags": []
   },
   "outputs": [],
   "source": [
    "#  Clean up the kmDriven text\n",
    "df[\"kmDriven\"] = (\n",
    "    df[\"kmDriven\"]\n",
    "    .str.replace(\",\", \"\", regex=False)\n",
    "    .str.replace(\" km\", \"\", regex=False)\n",
    "    .astype(float)  # Convert to float\n",
    ")\n",
    "\n",
    "# Drop rows with NaN in kmDriven\n",
    "df = df.dropna(subset=[\"kmDriven\"])\n",
    "\n",
    "# Convert to integer\n",
    "df[\"kmDriven\"] = df[\"kmDriven\"].astype(int)"
   ]
  },
  {
   "cell_type": "markdown",
   "id": "1f18046b",
   "metadata": {
    "papermill": {
     "duration": 0.007478,
     "end_time": "2024-11-25T17:53:24.182442",
     "exception": false,
     "start_time": "2024-11-25T17:53:24.174964",
     "status": "completed"
    },
    "tags": []
   },
   "source": [
    "Let's also clean up Ask Price."
   ]
  },
  {
   "cell_type": "code",
   "execution_count": 9,
   "id": "37f322c6",
   "metadata": {
    "execution": {
     "iopub.execute_input": "2024-11-25T17:53:24.201097Z",
     "iopub.status.busy": "2024-11-25T17:53:24.200280Z",
     "iopub.status.idle": "2024-11-25T17:53:24.222783Z",
     "shell.execute_reply": "2024-11-25T17:53:24.221538Z"
    },
    "papermill": {
     "duration": 0.03579,
     "end_time": "2024-11-25T17:53:24.225900",
     "exception": false,
     "start_time": "2024-11-25T17:53:24.190110",
     "status": "completed"
    },
    "tags": []
   },
   "outputs": [],
   "source": [
    "#  Clean up the kmDriven text\n",
    "df[\"AskPrice\"] = (\n",
    "    df[\"AskPrice\"]\n",
    "    .str.replace(\",\", \"\", regex=False)\n",
    "    .str.replace(\"₹\", \"\", regex=False)\n",
    "    .astype(float)  # Convert to float\n",
    ")\n",
    "\n",
    "# Convert to integer\n",
    "df[\"AskPrice\"] = df[\"AskPrice\"].astype(int)"
   ]
  },
  {
   "cell_type": "code",
   "execution_count": 10,
   "id": "436fc64d",
   "metadata": {
    "execution": {
     "iopub.execute_input": "2024-11-25T17:53:24.254993Z",
     "iopub.status.busy": "2024-11-25T17:53:24.254607Z",
     "iopub.status.idle": "2024-11-25T17:53:24.268045Z",
     "shell.execute_reply": "2024-11-25T17:53:24.266996Z"
    },
    "papermill": {
     "duration": 0.029325,
     "end_time": "2024-11-25T17:53:24.270554",
     "exception": false,
     "start_time": "2024-11-25T17:53:24.241229",
     "status": "completed"
    },
    "tags": []
   },
   "outputs": [
    {
     "data": {
      "text/html": [
       "<div>\n",
       "<style scoped>\n",
       "    .dataframe tbody tr th:only-of-type {\n",
       "        vertical-align: middle;\n",
       "    }\n",
       "\n",
       "    .dataframe tbody tr th {\n",
       "        vertical-align: top;\n",
       "    }\n",
       "\n",
       "    .dataframe thead th {\n",
       "        text-align: right;\n",
       "    }\n",
       "</style>\n",
       "<table border=\"1\" class=\"dataframe\">\n",
       "  <thead>\n",
       "    <tr style=\"text-align: right;\">\n",
       "      <th></th>\n",
       "      <th>Brand</th>\n",
       "      <th>model</th>\n",
       "      <th>Year</th>\n",
       "      <th>Age</th>\n",
       "      <th>kmDriven</th>\n",
       "      <th>Transmission</th>\n",
       "      <th>Owner</th>\n",
       "      <th>FuelType</th>\n",
       "      <th>PostedDate</th>\n",
       "      <th>AdditionInfo</th>\n",
       "      <th>AskPrice</th>\n",
       "    </tr>\n",
       "  </thead>\n",
       "  <tbody>\n",
       "    <tr>\n",
       "      <th>0</th>\n",
       "      <td>Honda</td>\n",
       "      <td>City</td>\n",
       "      <td>2001</td>\n",
       "      <td>23</td>\n",
       "      <td>98000</td>\n",
       "      <td>Manual</td>\n",
       "      <td>second</td>\n",
       "      <td>Petrol</td>\n",
       "      <td>Nov-24</td>\n",
       "      <td>Honda City v teck in mint condition, valid gen...</td>\n",
       "      <td>195000</td>\n",
       "    </tr>\n",
       "    <tr>\n",
       "      <th>1</th>\n",
       "      <td>Toyota</td>\n",
       "      <td>Innova</td>\n",
       "      <td>2009</td>\n",
       "      <td>15</td>\n",
       "      <td>190000</td>\n",
       "      <td>Manual</td>\n",
       "      <td>second</td>\n",
       "      <td>Diesel</td>\n",
       "      <td>Jul-24</td>\n",
       "      <td>Toyota Innova 2.5 G (Diesel) 7 Seater, 2009, D...</td>\n",
       "      <td>375000</td>\n",
       "    </tr>\n",
       "    <tr>\n",
       "      <th>2</th>\n",
       "      <td>Volkswagen</td>\n",
       "      <td>VentoTest</td>\n",
       "      <td>2010</td>\n",
       "      <td>14</td>\n",
       "      <td>77246</td>\n",
       "      <td>Manual</td>\n",
       "      <td>first</td>\n",
       "      <td>Diesel</td>\n",
       "      <td>Nov-24</td>\n",
       "      <td>Volkswagen Vento 2010-2013 Diesel Breeze, 2010...</td>\n",
       "      <td>184999</td>\n",
       "    </tr>\n",
       "    <tr>\n",
       "      <th>3</th>\n",
       "      <td>Maruti Suzuki</td>\n",
       "      <td>Swift</td>\n",
       "      <td>2017</td>\n",
       "      <td>7</td>\n",
       "      <td>83500</td>\n",
       "      <td>Manual</td>\n",
       "      <td>second</td>\n",
       "      <td>Diesel</td>\n",
       "      <td>Nov-24</td>\n",
       "      <td>Maruti Suzuki Swift 2017 Diesel Good Condition</td>\n",
       "      <td>565000</td>\n",
       "    </tr>\n",
       "    <tr>\n",
       "      <th>4</th>\n",
       "      <td>Maruti Suzuki</td>\n",
       "      <td>Baleno</td>\n",
       "      <td>2019</td>\n",
       "      <td>5</td>\n",
       "      <td>45000</td>\n",
       "      <td>Automatic</td>\n",
       "      <td>first</td>\n",
       "      <td>Petrol</td>\n",
       "      <td>Nov-24</td>\n",
       "      <td>Maruti Suzuki Baleno Alpha CVT, 2019, Petrol</td>\n",
       "      <td>685000</td>\n",
       "    </tr>\n",
       "  </tbody>\n",
       "</table>\n",
       "</div>"
      ],
      "text/plain": [
       "           Brand      model  Year  Age  kmDriven Transmission   Owner  \\\n",
       "0          Honda       City  2001   23     98000       Manual  second   \n",
       "1         Toyota     Innova  2009   15    190000       Manual  second   \n",
       "2     Volkswagen  VentoTest  2010   14     77246       Manual   first   \n",
       "3  Maruti Suzuki      Swift  2017    7     83500       Manual  second   \n",
       "4  Maruti Suzuki     Baleno  2019    5     45000    Automatic   first   \n",
       "\n",
       "  FuelType PostedDate                                       AdditionInfo  \\\n",
       "0   Petrol     Nov-24  Honda City v teck in mint condition, valid gen...   \n",
       "1   Diesel     Jul-24  Toyota Innova 2.5 G (Diesel) 7 Seater, 2009, D...   \n",
       "2   Diesel     Nov-24  Volkswagen Vento 2010-2013 Diesel Breeze, 2010...   \n",
       "3   Diesel     Nov-24     Maruti Suzuki Swift 2017 Diesel Good Condition   \n",
       "4   Petrol     Nov-24       Maruti Suzuki Baleno Alpha CVT, 2019, Petrol   \n",
       "\n",
       "   AskPrice  \n",
       "0    195000  \n",
       "1    375000  \n",
       "2    184999  \n",
       "3    565000  \n",
       "4    685000  "
      ]
     },
     "execution_count": 10,
     "metadata": {},
     "output_type": "execute_result"
    }
   ],
   "source": [
    "df.head()"
   ]
  },
  {
   "cell_type": "markdown",
   "id": "aee383d2",
   "metadata": {
    "papermill": {
     "duration": 0.008341,
     "end_time": "2024-11-25T17:53:24.293315",
     "exception": false,
     "start_time": "2024-11-25T17:53:24.284974",
     "status": "completed"
    },
    "tags": []
   },
   "source": [
    "Are the rows with missing values gone?"
   ]
  },
  {
   "cell_type": "code",
   "execution_count": 11,
   "id": "3d33d1f7",
   "metadata": {
    "execution": {
     "iopub.execute_input": "2024-11-25T17:53:24.311552Z",
     "iopub.status.busy": "2024-11-25T17:53:24.311085Z",
     "iopub.status.idle": "2024-11-25T17:53:24.331242Z",
     "shell.execute_reply": "2024-11-25T17:53:24.330004Z"
    },
    "papermill": {
     "duration": 0.031705,
     "end_time": "2024-11-25T17:53:24.333276",
     "exception": false,
     "start_time": "2024-11-25T17:53:24.301571",
     "status": "completed"
    },
    "tags": []
   },
   "outputs": [
    {
     "name": "stdout",
     "output_type": "stream",
     "text": [
      "<class 'pandas.core.frame.DataFrame'>\n",
      "Index: 9535 entries, 0 to 9581\n",
      "Data columns (total 11 columns):\n",
      " #   Column        Non-Null Count  Dtype \n",
      "---  ------        --------------  ----- \n",
      " 0   Brand         9535 non-null   object\n",
      " 1   model         9535 non-null   object\n",
      " 2   Year          9535 non-null   int64 \n",
      " 3   Age           9535 non-null   int64 \n",
      " 4   kmDriven      9535 non-null   int64 \n",
      " 5   Transmission  9535 non-null   object\n",
      " 6   Owner         9535 non-null   object\n",
      " 7   FuelType      9535 non-null   object\n",
      " 8   PostedDate    9535 non-null   object\n",
      " 9   AdditionInfo  9535 non-null   object\n",
      " 10  AskPrice      9535 non-null   int64 \n",
      "dtypes: int64(4), object(7)\n",
      "memory usage: 893.9+ KB\n"
     ]
    }
   ],
   "source": [
    "df.info()       "
   ]
  },
  {
   "cell_type": "markdown",
   "id": "8118ea69",
   "metadata": {
    "papermill": {
     "duration": 0.007819,
     "end_time": "2024-11-25T17:53:24.349810",
     "exception": false,
     "start_time": "2024-11-25T17:53:24.341991",
     "status": "completed"
    },
    "tags": []
   },
   "source": [
    "Yes they are! The dataset has no missing values now."
   ]
  },
  {
   "cell_type": "markdown",
   "id": "b25dfb0a",
   "metadata": {
    "papermill": {
     "duration": 0.01161,
     "end_time": "2024-11-25T17:53:24.369425",
     "exception": false,
     "start_time": "2024-11-25T17:53:24.357815",
     "status": "completed"
    },
    "tags": []
   },
   "source": []
  },
  {
   "cell_type": "code",
   "execution_count": 12,
   "id": "1f685435",
   "metadata": {
    "execution": {
     "iopub.execute_input": "2024-11-25T17:53:24.391291Z",
     "iopub.status.busy": "2024-11-25T17:53:24.390911Z",
     "iopub.status.idle": "2024-11-25T17:53:24.398310Z",
     "shell.execute_reply": "2024-11-25T17:53:24.397368Z"
    },
    "papermill": {
     "duration": 0.019879,
     "end_time": "2024-11-25T17:53:24.400653",
     "exception": false,
     "start_time": "2024-11-25T17:53:24.380774",
     "status": "completed"
    },
    "tags": []
   },
   "outputs": [
    {
     "data": {
      "text/plain": [
       "Brand           object\n",
       "model           object\n",
       "Year             int64\n",
       "Age              int64\n",
       "kmDriven         int64\n",
       "Transmission    object\n",
       "Owner           object\n",
       "FuelType        object\n",
       "PostedDate      object\n",
       "AdditionInfo    object\n",
       "AskPrice         int64\n",
       "dtype: object"
      ]
     },
     "execution_count": 12,
     "metadata": {},
     "output_type": "execute_result"
    }
   ],
   "source": [
    "df.dtypes"
   ]
  },
  {
   "cell_type": "markdown",
   "id": "6dfabb6b",
   "metadata": {
    "papermill": {
     "duration": 0.008112,
     "end_time": "2024-11-25T17:53:24.423088",
     "exception": false,
     "start_time": "2024-11-25T17:53:24.414976",
     "status": "completed"
    },
    "tags": []
   },
   "source": [
    "Now we need to look at some of these columns and determine the type of data in them, and how we may need to encode some of them."
   ]
  },
  {
   "cell_type": "code",
   "execution_count": 13,
   "id": "42d87f66",
   "metadata": {
    "execution": {
     "iopub.execute_input": "2024-11-25T17:53:24.441241Z",
     "iopub.status.busy": "2024-11-25T17:53:24.440746Z",
     "iopub.status.idle": "2024-11-25T17:53:24.460120Z",
     "shell.execute_reply": "2024-11-25T17:53:24.458727Z"
    },
    "papermill": {
     "duration": 0.031138,
     "end_time": "2024-11-25T17:53:24.462368",
     "exception": false,
     "start_time": "2024-11-25T17:53:24.431230",
     "status": "completed"
    },
    "tags": []
   },
   "outputs": [
    {
     "name": "stdout",
     "output_type": "stream",
     "text": [
      "Brand             38\n",
      "model            398\n",
      "Year              32\n",
      "Age               32\n",
      "kmDriven        1745\n",
      "Transmission       2\n",
      "Owner              2\n",
      "FuelType           3\n",
      "PostedDate        12\n",
      "AdditionInfo    7270\n",
      "AskPrice        1326\n",
      "dtype: int64\n"
     ]
    }
   ],
   "source": [
    "unique_counts = df.nunique(dropna=False)\n",
    "\n",
    "# Display the result\n",
    "print(unique_counts)"
   ]
  },
  {
   "cell_type": "markdown",
   "id": "5db2e0e8",
   "metadata": {
    "papermill": {
     "duration": 0.007909,
     "end_time": "2024-11-25T17:53:24.478899",
     "exception": false,
     "start_time": "2024-11-25T17:53:24.470990",
     "status": "completed"
    },
    "tags": []
   },
   "source": [
    "Here are the unique Brands. Let's look for any accidental duplicates caused by mispelling or other causes."
   ]
  },
  {
   "cell_type": "code",
   "execution_count": 14,
   "id": "45b998e6",
   "metadata": {
    "execution": {
     "iopub.execute_input": "2024-11-25T17:53:24.497417Z",
     "iopub.status.busy": "2024-11-25T17:53:24.496520Z",
     "iopub.status.idle": "2024-11-25T17:53:24.504097Z",
     "shell.execute_reply": "2024-11-25T17:53:24.502914Z"
    },
    "papermill": {
     "duration": 0.019031,
     "end_time": "2024-11-25T17:53:24.506084",
     "exception": false,
     "start_time": "2024-11-25T17:53:24.487053",
     "status": "completed"
    },
    "tags": []
   },
   "outputs": [
    {
     "name": "stdout",
     "output_type": "stream",
     "text": [
      "['Ambassador', 'Ashok', 'Aston Martin', 'Audi', 'BMW', 'Bajaj', 'Bentley', 'Chevrolet', 'Datsun', 'Fiat', 'Force', 'Ford', 'Honda', 'Hyundai', 'Isuzu', 'Jaguar', 'Jeep', 'Kia', 'Land Rover', 'Lexus', 'MG', 'Mahindra', 'Maruti Suzuki', 'Maserati', 'Mercedes-Benz', 'Mini', 'Mitsubishi', 'Nissan', 'Opel', 'Porsche', 'Renault', 'Rolls-Royce', 'Skoda', 'Ssangyong', 'Tata', 'Toyota', 'Volkswagen', 'Volvo']\n"
     ]
    }
   ],
   "source": [
    "# Show unique values of Brand\n",
    "unique_brands = sorted(df[\"Brand\"].unique())\n",
    "\n",
    "# Display the result\n",
    "print(unique_brands)"
   ]
  },
  {
   "cell_type": "markdown",
   "id": "1cd1b619",
   "metadata": {
    "papermill": {
     "duration": 0.008016,
     "end_time": "2024-11-25T17:53:24.522601",
     "exception": false,
     "start_time": "2024-11-25T17:53:24.514585",
     "status": "completed"
    },
    "tags": []
   },
   "source": [
    "Good. They are all unique brands."
   ]
  },
  {
   "cell_type": "markdown",
   "id": "cbb1be51",
   "metadata": {
    "papermill": {
     "duration": 0.010498,
     "end_time": "2024-11-25T17:53:24.541401",
     "exception": false,
     "start_time": "2024-11-25T17:53:24.530903",
     "status": "completed"
    },
    "tags": []
   },
   "source": [
    "Let's check for typos in Year and Age."
   ]
  },
  {
   "cell_type": "code",
   "execution_count": 15,
   "id": "075f4004",
   "metadata": {
    "execution": {
     "iopub.execute_input": "2024-11-25T17:53:24.564347Z",
     "iopub.status.busy": "2024-11-25T17:53:24.563670Z",
     "iopub.status.idle": "2024-11-25T17:53:24.570008Z",
     "shell.execute_reply": "2024-11-25T17:53:24.568787Z"
    },
    "papermill": {
     "duration": 0.018463,
     "end_time": "2024-11-25T17:53:24.572566",
     "exception": false,
     "start_time": "2024-11-25T17:53:24.554103",
     "status": "completed"
    },
    "tags": []
   },
   "outputs": [
    {
     "name": "stdout",
     "output_type": "stream",
     "text": [
      "[1986, 1990, 1994, 1996, 1997, 1998, 1999, 2000, 2001, 2002, 2003, 2004, 2005, 2006, 2007, 2008, 2009, 2010, 2011, 2012, 2013, 2014, 2015, 2016, 2017, 2018, 2019, 2020, 2021, 2022, 2023, 2024]\n"
     ]
    }
   ],
   "source": [
    "# Show unique values of Year\n",
    "unique_years = sorted(df[\"Year\"].unique())\n",
    "\n",
    "# Display the result\n",
    "print(unique_years)"
   ]
  },
  {
   "cell_type": "code",
   "execution_count": 16,
   "id": "7f174fe9",
   "metadata": {
    "execution": {
     "iopub.execute_input": "2024-11-25T17:53:24.602756Z",
     "iopub.status.busy": "2024-11-25T17:53:24.602404Z",
     "iopub.status.idle": "2024-11-25T17:53:24.608482Z",
     "shell.execute_reply": "2024-11-25T17:53:24.607344Z"
    },
    "papermill": {
     "duration": 0.023755,
     "end_time": "2024-11-25T17:53:24.611284",
     "exception": false,
     "start_time": "2024-11-25T17:53:24.587529",
     "status": "completed"
    },
    "tags": []
   },
   "outputs": [
    {
     "name": "stdout",
     "output_type": "stream",
     "text": [
      "[0, 1, 2, 3, 4, 5, 6, 7, 8, 9, 10, 11, 12, 13, 14, 15, 16, 17, 18, 19, 20, 21, 22, 23, 24, 25, 26, 27, 28, 30, 34, 38]\n"
     ]
    }
   ],
   "source": [
    "# Show unique values of Age\n",
    "unique_ages = sorted(df[\"Age\"].unique())\n",
    "\n",
    "# Display the result\n",
    "print(unique_ages)"
   ]
  },
  {
   "cell_type": "markdown",
   "id": "ea71b320",
   "metadata": {
    "papermill": {
     "duration": 0.008182,
     "end_time": "2024-11-25T17:53:24.634519",
     "exception": false,
     "start_time": "2024-11-25T17:53:24.626337",
     "status": "completed"
    },
    "tags": []
   },
   "source": [
    "No typos."
   ]
  },
  {
   "cell_type": "markdown",
   "id": "a13d398a",
   "metadata": {
    "papermill": {
     "duration": 0.008066,
     "end_time": "2024-11-25T17:53:24.650864",
     "exception": false,
     "start_time": "2024-11-25T17:53:24.642798",
     "status": "completed"
    },
    "tags": []
   },
   "source": [
    "Now let's check the unique values of Transmission, Owners, and FuelType."
   ]
  },
  {
   "cell_type": "code",
   "execution_count": 17,
   "id": "d2eb1e6b",
   "metadata": {
    "execution": {
     "iopub.execute_input": "2024-11-25T17:53:24.669054Z",
     "iopub.status.busy": "2024-11-25T17:53:24.668667Z",
     "iopub.status.idle": "2024-11-25T17:53:24.674636Z",
     "shell.execute_reply": "2024-11-25T17:53:24.673536Z"
    },
    "papermill": {
     "duration": 0.017925,
     "end_time": "2024-11-25T17:53:24.677182",
     "exception": false,
     "start_time": "2024-11-25T17:53:24.659257",
     "status": "completed"
    },
    "tags": []
   },
   "outputs": [
    {
     "name": "stdout",
     "output_type": "stream",
     "text": [
      "['Automatic', 'Manual']\n"
     ]
    }
   ],
   "source": [
    "# Show unique values of Transmission\n",
    "unique_transmissions = sorted(df[\"Transmission\"].unique())\n",
    "\n",
    "# Display the result\n",
    "print(unique_transmissions)"
   ]
  },
  {
   "cell_type": "code",
   "execution_count": 18,
   "id": "f0624fd1",
   "metadata": {
    "execution": {
     "iopub.execute_input": "2024-11-25T17:53:24.701296Z",
     "iopub.status.busy": "2024-11-25T17:53:24.700866Z",
     "iopub.status.idle": "2024-11-25T17:53:24.707167Z",
     "shell.execute_reply": "2024-11-25T17:53:24.706198Z"
    },
    "papermill": {
     "duration": 0.022715,
     "end_time": "2024-11-25T17:53:24.709416",
     "exception": false,
     "start_time": "2024-11-25T17:53:24.686701",
     "status": "completed"
    },
    "tags": []
   },
   "outputs": [
    {
     "name": "stdout",
     "output_type": "stream",
     "text": [
      "['first', 'second']\n"
     ]
    }
   ],
   "source": [
    "# Show unique values of Owner\n",
    "unique_owners = sorted(df[\"Owner\"].unique())\n",
    "\n",
    "# Display the result\n",
    "print(unique_owners)"
   ]
  },
  {
   "cell_type": "code",
   "execution_count": 19,
   "id": "4b96eb23",
   "metadata": {
    "execution": {
     "iopub.execute_input": "2024-11-25T17:53:24.741055Z",
     "iopub.status.busy": "2024-11-25T17:53:24.740310Z",
     "iopub.status.idle": "2024-11-25T17:53:24.746241Z",
     "shell.execute_reply": "2024-11-25T17:53:24.745305Z"
    },
    "papermill": {
     "duration": 0.025358,
     "end_time": "2024-11-25T17:53:24.748829",
     "exception": false,
     "start_time": "2024-11-25T17:53:24.723471",
     "status": "completed"
    },
    "tags": []
   },
   "outputs": [
    {
     "name": "stdout",
     "output_type": "stream",
     "text": [
      "['Diesel', 'Hybrid/CNG', 'Petrol']\n"
     ]
    }
   ],
   "source": [
    "# Show unique values of FuelType\n",
    "unique_fuel_types = sorted(df[\"FuelType\"].unique())\n",
    "\n",
    "# Display the result\n",
    "print(unique_fuel_types)"
   ]
  },
  {
   "cell_type": "markdown",
   "id": "7dec674b",
   "metadata": {
    "papermill": {
     "duration": 0.008249,
     "end_time": "2024-11-25T17:53:24.773011",
     "exception": false,
     "start_time": "2024-11-25T17:53:24.764762",
     "status": "completed"
    },
    "tags": []
   },
   "source": [
    "See which variables relate to each other."
   ]
  },
  {
   "cell_type": "markdown",
   "id": "6871a814",
   "metadata": {
    "papermill": {
     "duration": 0.008286,
     "end_time": "2024-11-25T17:53:24.789788",
     "exception": false,
     "start_time": "2024-11-25T17:53:24.781502",
     "status": "completed"
    },
    "tags": []
   },
   "source": [
    "Plot AskPrice versus Transmission, Owner, and FuelType."
   ]
  },
  {
   "cell_type": "code",
   "execution_count": 20,
   "id": "395a0953",
   "metadata": {
    "execution": {
     "iopub.execute_input": "2024-11-25T17:53:24.808989Z",
     "iopub.status.busy": "2024-11-25T17:53:24.807925Z",
     "iopub.status.idle": "2024-11-25T17:53:26.699176Z",
     "shell.execute_reply": "2024-11-25T17:53:26.697978Z"
    },
    "papermill": {
     "duration": 1.903128,
     "end_time": "2024-11-25T17:53:26.701319",
     "exception": false,
     "start_time": "2024-11-25T17:53:24.798191",
     "status": "completed"
    },
    "tags": []
   },
   "outputs": [
    {
     "data": {
      "image/png": "[encoded data removed]",
      "text/plain": [
       "<Figure size 800x500 with 1 Axes>"
      ]
     },
     "metadata": {},
     "output_type": "display_data"
    }
   ],
   "source": [
    "import seaborn as sns\n",
    "import matplotlib.pyplot as plt\n",
    "\n",
    "# Group by transmission type and calculate average price\n",
    "price_trends_by_transmission = (\n",
    "    df.groupby('Transmission')['AskPrice']\n",
    "    .mean()\n",
    "    .sort_values(ascending=False)\n",
    "    .reset_index()\n",
    ")\n",
    "\n",
    "# Create a bar plot for price trends by transmission\n",
    "plt.figure(figsize=(8, 5))\n",
    "sns.barplot(\n",
    "    data=price_trends_by_transmission, \n",
    "    x='Transmission', \n",
    "    y='AskPrice'\n",
    ")\n",
    "plt.title('Average Car Prices by Transmission Type', fontsize=14)\n",
    "plt.xlabel('Transmission Type', fontsize=12)\n",
    "plt.ylabel('Average Ask Price (₹)', fontsize=12)\n",
    "\n",
    "plt.show()"
   ]
  },
  {
   "cell_type": "code",
   "execution_count": 21,
   "id": "11ac22cb",
   "metadata": {
    "execution": {
     "iopub.execute_input": "2024-11-25T17:53:26.721313Z",
     "iopub.status.busy": "2024-11-25T17:53:26.720819Z",
     "iopub.status.idle": "2024-11-25T17:53:26.892545Z",
     "shell.execute_reply": "2024-11-25T17:53:26.891457Z"
    },
    "papermill": {
     "duration": 0.183831,
     "end_time": "2024-11-25T17:53:26.894516",
     "exception": false,
     "start_time": "2024-11-25T17:53:26.710685",
     "status": "completed"
    },
    "tags": []
   },
   "outputs": [
    {
     "data": {
      "image/png": "[encoded data removed]",
      "text/plain": [
       "<Figure size 800x500 with 1 Axes>"
      ]
     },
     "metadata": {},
     "output_type": "display_data"
    }
   ],
   "source": [
    "# Group by owner type and calculate average price\n",
    "price_trends_by_owner = (\n",
    "    df.groupby('Owner')['AskPrice']\n",
    "    .mean()\n",
    "    .sort_values(ascending=False)\n",
    "    .reset_index()\n",
    ")\n",
    "\n",
    "# Create a bar plot for price trends by owner\n",
    "plt.figure(figsize=(8, 5))\n",
    "sns.barplot(\n",
    "    data=price_trends_by_owner, \n",
    "    x='Owner', \n",
    "    y='AskPrice'\n",
    ")\n",
    "plt.title('Average Car Prices by Owner Type', fontsize=14)\n",
    "plt.xlabel('Owner Type', fontsize=12)\n",
    "plt.ylabel('Average Ask Price (₹)', fontsize=12)\n",
    "\n",
    "plt.show()"
   ]
  },
  {
   "cell_type": "code",
   "execution_count": 22,
   "id": "adea4fa1",
   "metadata": {
    "execution": {
     "iopub.execute_input": "2024-11-25T17:53:26.916250Z",
     "iopub.status.busy": "2024-11-25T17:53:26.915864Z",
     "iopub.status.idle": "2024-11-25T17:53:27.168317Z",
     "shell.execute_reply": "2024-11-25T17:53:27.167273Z"
    },
    "papermill": {
     "duration": 0.265106,
     "end_time": "2024-11-25T17:53:27.170206",
     "exception": false,
     "start_time": "2024-11-25T17:53:26.905100",
     "status": "completed"
    },
    "tags": []
   },
   "outputs": [
    {
     "data": {
      "image/png": "[encoded data removed]",
      "text/plain": [
       "<Figure size 800x500 with 1 Axes>"
      ]
     },
     "metadata": {},
     "output_type": "display_data"
    }
   ],
   "source": [
    "# Group by fuel type and calculate average price\n",
    "price_trends_by_fuel_type = (\n",
    "    df.groupby('FuelType')['AskPrice']\n",
    "    .mean()\n",
    "    .sort_values(ascending=False)\n",
    "    .reset_index()\n",
    ")\n",
    "\n",
    "# Create a bar plot for price trends by fuel type\n",
    "plt.figure(figsize=(8, 5))\n",
    "sns.barplot(\n",
    "    data=price_trends_by_fuel_type, \n",
    "    x='FuelType', \n",
    "    y='AskPrice'\n",
    ")\n",
    "plt.title('Average Car Prices by Fuel Type', fontsize=14)\n",
    "plt.xlabel('Fuel Type', fontsize=12)\n",
    "plt.ylabel('Average Ask Price (₹)', fontsize=12)\n",
    "\n",
    "plt.show()"
   ]
  },
  {
   "cell_type": "code",
   "execution_count": null,
   "id": "be7b10d1",
   "metadata": {
    "papermill": {
     "duration": 0.009813,
     "end_time": "2024-11-25T17:53:27.190312",
     "exception": false,
     "start_time": "2024-11-25T17:53:27.180499",
     "status": "completed"
    },
    "tags": []
   },
   "outputs": [],
   "source": []
  }
 ],
 "metadata": {
  "kaggle": {
   "accelerator": "none",
   "dataSources": [
    {
     "datasetId": 6153826,
     "sourceId": 9998181,
     "sourceType": "datasetVersion"
    }
   ],
   "dockerImageVersionId": 30786,
   "isGpuEnabled": false,
   "isInternetEnabled": true,
   "language": "python",
   "sourceType": "notebook"
  },
  "kernelspec": {
   "display_name": "Python 3",
   "language": "python",
   "name": "python3"
  },
  "language_info": {
   "codemirror_mode": {
    "name": "ipython",
    "version": 3
   },
   "file_extension": ".py",
   "mimetype": "text/x-python",
   "name": "python",
   "nbconvert_exporter": "python",
   "pygments_lexer": "ipython3",
   "version": "3.10.14"
  },
  "papermill": {
   "default_parameters": {},
   "duration": 7.319921,
   "end_time": "2024-11-25T17:53:27.721011",
   "environment_variables": {},
   "exception": null,
   "input_path": "__notebook__.ipynb",
   "output_path": "__notebook__.ipynb",
   "parameters": {},
   "start_time": "2024-11-25T17:53:20.401090",
   "version": "2.6.0"
  }
 },
 "nbformat": 4,
 "nbformat_minor": 5
}
