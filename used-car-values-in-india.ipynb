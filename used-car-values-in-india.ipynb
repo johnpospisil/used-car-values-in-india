{
 "cells": [
  {
   "cell_type": "code",
   "execution_count": 1,
   "id": "e1fc3b3c",
   "metadata": {
    "_cell_guid": "b1076dfc-b9ad-4769-8c92-a6c4dae69d19",
    "_uuid": "8f2839f25d086af736a60e9eeb907d3b93b6e0e5",
    "execution": {
     "iopub.execute_input": "2024-11-27T15:15:32.723811Z",
     "iopub.status.busy": "2024-11-27T15:15:32.723271Z",
     "iopub.status.idle": "2024-11-27T15:15:33.751399Z",
     "shell.execute_reply": "2024-11-27T15:15:33.750217Z"
    },
    "papermill": {
     "duration": 1.044804,
     "end_time": "2024-11-27T15:15:33.753819",
     "exception": false,
     "start_time": "2024-11-27T15:15:32.709015",
     "status": "completed"
    },
    "tags": []
   },
   "outputs": [
    {
     "name": "stdout",
     "output_type": "stream",
     "text": [
      "/kaggle/input/used-car-dataset/used_car_dataset.csv\n"
     ]
    }
   ],
   "source": [
    "# This Python 3 environment comes with many helpful analytics libraries installed\n",
    "# It is defined by the kaggle/python Docker image: https://github.com/kaggle/docker-python\n",
    "# For example, here's several helpful packages to load\n",
    "\n",
    "import numpy as np # linear algebra\n",
    "import pandas as pd # data processing, CSV file I/O (e.g. pd.read_csv)\n",
    "\n",
    "# Input data files are available in the read-only \"../input/\" directory\n",
    "# For example, running this (by clicking run or pressing Shift+Enter) will list all files under the input directory\n",
    "\n",
    "import os\n",
    "for dirname, _, filenames in os.walk('/kaggle/input'):\n",
    "    for filename in filenames:\n",
    "        print(os.path.join(dirname, filename))\n",
    "\n",
    "# You can write up to 20GB to the current directory (/kaggle/working/) that gets preserved as output when you create a version using \"Save & Run All\" \n",
    "# You can also write temporary files to /kaggle/temp/, but they won't be saved outside of the current session"
   ]
  },
  {
   "cell_type": "markdown",
   "id": "74fdc74a",
   "metadata": {
    "papermill": {
     "duration": 0.010777,
     "end_time": "2024-11-27T15:15:33.777212",
     "exception": false,
     "start_time": "2024-11-27T15:15:33.766435",
     "status": "completed"
    },
    "tags": []
   },
   "source": [
    "Load the dataset and look at the first few rows of data."
   ]
  },
  {
   "cell_type": "code",
   "execution_count": 2,
   "id": "419e9ecb",
   "metadata": {
    "execution": {
     "iopub.execute_input": "2024-11-27T15:15:33.801645Z",
     "iopub.status.busy": "2024-11-27T15:15:33.801144Z",
     "iopub.status.idle": "2024-11-27T15:15:33.890442Z",
     "shell.execute_reply": "2024-11-27T15:15:33.889268Z"
    },
    "papermill": {
     "duration": 0.104848,
     "end_time": "2024-11-27T15:15:33.892988",
     "exception": false,
     "start_time": "2024-11-27T15:15:33.788140",
     "status": "completed"
    },
    "tags": []
   },
   "outputs": [
    {
     "data": {
      "text/html": [
       "<div>\n",
       "<style scoped>\n",
       "    .dataframe tbody tr th:only-of-type {\n",
       "        vertical-align: middle;\n",
       "    }\n",
       "\n",
       "    .dataframe tbody tr th {\n",
       "        vertical-align: top;\n",
       "    }\n",
       "\n",
       "    .dataframe thead th {\n",
       "        text-align: right;\n",
       "    }\n",
       "</style>\n",
       "<table border=\"1\" class=\"dataframe\">\n",
       "  <thead>\n",
       "    <tr style=\"text-align: right;\">\n",
       "      <th></th>\n",
       "      <th>Brand</th>\n",
       "      <th>model</th>\n",
       "      <th>Year</th>\n",
       "      <th>Age</th>\n",
       "      <th>kmDriven</th>\n",
       "      <th>Transmission</th>\n",
       "      <th>Owner</th>\n",
       "      <th>FuelType</th>\n",
       "      <th>PostedDate</th>\n",
       "      <th>AdditionInfo</th>\n",
       "      <th>AskPrice</th>\n",
       "    </tr>\n",
       "  </thead>\n",
       "  <tbody>\n",
       "    <tr>\n",
       "      <th>0</th>\n",
       "      <td>Honda</td>\n",
       "      <td>City</td>\n",
       "      <td>2001</td>\n",
       "      <td>23</td>\n",
       "      <td>98,000 km</td>\n",
       "      <td>Manual</td>\n",
       "      <td>second</td>\n",
       "      <td>Petrol</td>\n",
       "      <td>Nov-24</td>\n",
       "      <td>Honda City v teck in mint condition, valid gen...</td>\n",
       "      <td>₹ 1,95,000</td>\n",
       "    </tr>\n",
       "    <tr>\n",
       "      <th>1</th>\n",
       "      <td>Toyota</td>\n",
       "      <td>Innova</td>\n",
       "      <td>2009</td>\n",
       "      <td>15</td>\n",
       "      <td>190000.0 km</td>\n",
       "      <td>Manual</td>\n",
       "      <td>second</td>\n",
       "      <td>Diesel</td>\n",
       "      <td>Jul-24</td>\n",
       "      <td>Toyota Innova 2.5 G (Diesel) 7 Seater, 2009, D...</td>\n",
       "      <td>₹ 3,75,000</td>\n",
       "    </tr>\n",
       "    <tr>\n",
       "      <th>2</th>\n",
       "      <td>Volkswagen</td>\n",
       "      <td>VentoTest</td>\n",
       "      <td>2010</td>\n",
       "      <td>14</td>\n",
       "      <td>77,246 km</td>\n",
       "      <td>Manual</td>\n",
       "      <td>first</td>\n",
       "      <td>Diesel</td>\n",
       "      <td>Nov-24</td>\n",
       "      <td>Volkswagen Vento 2010-2013 Diesel Breeze, 2010...</td>\n",
       "      <td>₹ 1,84,999</td>\n",
       "    </tr>\n",
       "    <tr>\n",
       "      <th>3</th>\n",
       "      <td>Maruti Suzuki</td>\n",
       "      <td>Swift</td>\n",
       "      <td>2017</td>\n",
       "      <td>7</td>\n",
       "      <td>83,500 km</td>\n",
       "      <td>Manual</td>\n",
       "      <td>second</td>\n",
       "      <td>Diesel</td>\n",
       "      <td>Nov-24</td>\n",
       "      <td>Maruti Suzuki Swift 2017 Diesel Good Condition</td>\n",
       "      <td>₹ 5,65,000</td>\n",
       "    </tr>\n",
       "    <tr>\n",
       "      <th>4</th>\n",
       "      <td>Maruti Suzuki</td>\n",
       "      <td>Baleno</td>\n",
       "      <td>2019</td>\n",
       "      <td>5</td>\n",
       "      <td>45,000 km</td>\n",
       "      <td>Automatic</td>\n",
       "      <td>first</td>\n",
       "      <td>Petrol</td>\n",
       "      <td>Nov-24</td>\n",
       "      <td>Maruti Suzuki Baleno Alpha CVT, 2019, Petrol</td>\n",
       "      <td>₹ 6,85,000</td>\n",
       "    </tr>\n",
       "  </tbody>\n",
       "</table>\n",
       "</div>"
      ],
      "text/plain": [
       "           Brand      model  Year  Age     kmDriven Transmission   Owner  \\\n",
       "0          Honda       City  2001   23    98,000 km       Manual  second   \n",
       "1         Toyota     Innova  2009   15  190000.0 km       Manual  second   \n",
       "2     Volkswagen  VentoTest  2010   14    77,246 km       Manual   first   \n",
       "3  Maruti Suzuki      Swift  2017    7    83,500 km       Manual  second   \n",
       "4  Maruti Suzuki     Baleno  2019    5    45,000 km    Automatic   first   \n",
       "\n",
       "  FuelType PostedDate                                       AdditionInfo  \\\n",
       "0   Petrol     Nov-24  Honda City v teck in mint condition, valid gen...   \n",
       "1   Diesel     Jul-24  Toyota Innova 2.5 G (Diesel) 7 Seater, 2009, D...   \n",
       "2   Diesel     Nov-24  Volkswagen Vento 2010-2013 Diesel Breeze, 2010...   \n",
       "3   Diesel     Nov-24     Maruti Suzuki Swift 2017 Diesel Good Condition   \n",
       "4   Petrol     Nov-24       Maruti Suzuki Baleno Alpha CVT, 2019, Petrol   \n",
       "\n",
       "     AskPrice  \n",
       "0  ₹ 1,95,000  \n",
       "1  ₹ 3,75,000  \n",
       "2  ₹ 1,84,999  \n",
       "3  ₹ 5,65,000  \n",
       "4  ₹ 6,85,000  "
      ]
     },
     "execution_count": 2,
     "metadata": {},
     "output_type": "execute_result"
    }
   ],
   "source": [
    "df = pd.read_csv('/kaggle/input/used-car-dataset/used_car_dataset.csv')\n",
    "df.head()"
   ]
  },
  {
   "cell_type": "markdown",
   "id": "6412ed5d",
   "metadata": {
    "papermill": {
     "duration": 0.011694,
     "end_time": "2024-11-27T15:15:33.916189",
     "exception": false,
     "start_time": "2024-11-27T15:15:33.904495",
     "status": "completed"
    },
    "tags": []
   },
   "source": [
    "Let's see the total number of rows and columns."
   ]
  },
  {
   "cell_type": "code",
   "execution_count": 3,
   "id": "6fa3ef81",
   "metadata": {
    "execution": {
     "iopub.execute_input": "2024-11-27T15:15:33.940640Z",
     "iopub.status.busy": "2024-11-27T15:15:33.940217Z",
     "iopub.status.idle": "2024-11-27T15:15:33.947381Z",
     "shell.execute_reply": "2024-11-27T15:15:33.946280Z"
    },
    "papermill": {
     "duration": 0.021987,
     "end_time": "2024-11-27T15:15:33.949722",
     "exception": false,
     "start_time": "2024-11-27T15:15:33.927735",
     "status": "completed"
    },
    "tags": []
   },
   "outputs": [
    {
     "data": {
      "text/plain": [
       "(9582, 11)"
      ]
     },
     "execution_count": 3,
     "metadata": {},
     "output_type": "execute_result"
    }
   ],
   "source": [
    "df.shape"
   ]
  },
  {
   "cell_type": "markdown",
   "id": "cc64d02e",
   "metadata": {
    "papermill": {
     "duration": 0.011458,
     "end_time": "2024-11-27T15:15:33.972611",
     "exception": false,
     "start_time": "2024-11-27T15:15:33.961153",
     "status": "completed"
    },
    "tags": []
   },
   "source": [
    "Let's see if we have any missing values in this table."
   ]
  },
  {
   "cell_type": "code",
   "execution_count": 4,
   "id": "f65edf5a",
   "metadata": {
    "execution": {
     "iopub.execute_input": "2024-11-27T15:15:33.997231Z",
     "iopub.status.busy": "2024-11-27T15:15:33.996812Z",
     "iopub.status.idle": "2024-11-27T15:15:34.033402Z",
     "shell.execute_reply": "2024-11-27T15:15:34.032033Z"
    },
    "papermill": {
     "duration": 0.051846,
     "end_time": "2024-11-27T15:15:34.035902",
     "exception": false,
     "start_time": "2024-11-27T15:15:33.984056",
     "status": "completed"
    },
    "tags": []
   },
   "outputs": [
    {
     "name": "stdout",
     "output_type": "stream",
     "text": [
      "<class 'pandas.core.frame.DataFrame'>\n",
      "RangeIndex: 9582 entries, 0 to 9581\n",
      "Data columns (total 11 columns):\n",
      " #   Column        Non-Null Count  Dtype \n",
      "---  ------        --------------  ----- \n",
      " 0   Brand         9582 non-null   object\n",
      " 1   model         9582 non-null   object\n",
      " 2   Year          9582 non-null   int64 \n",
      " 3   Age           9582 non-null   int64 \n",
      " 4   kmDriven      9535 non-null   object\n",
      " 5   Transmission  9582 non-null   object\n",
      " 6   Owner         9582 non-null   object\n",
      " 7   FuelType      9582 non-null   object\n",
      " 8   PostedDate    9582 non-null   object\n",
      " 9   AdditionInfo  9582 non-null   object\n",
      " 10  AskPrice      9582 non-null   object\n",
      "dtypes: int64(2), object(9)\n",
      "memory usage: 823.6+ KB\n"
     ]
    }
   ],
   "source": [
    "df.info()       # Information about columns, data types, and non-null counts"
   ]
  },
  {
   "cell_type": "markdown",
   "id": "a249c3a5",
   "metadata": {
    "papermill": {
     "duration": 0.010974,
     "end_time": "2024-11-27T15:15:34.058372",
     "exception": false,
     "start_time": "2024-11-27T15:15:34.047398",
     "status": "completed"
    },
    "tags": []
   },
   "source": [
    "All of the features except 'kmDriven' are complete."
   ]
  },
  {
   "cell_type": "code",
   "execution_count": 5,
   "id": "46394376",
   "metadata": {
    "execution": {
     "iopub.execute_input": "2024-11-27T15:15:34.082693Z",
     "iopub.status.busy": "2024-11-27T15:15:34.082301Z",
     "iopub.status.idle": "2024-11-27T15:15:34.089067Z",
     "shell.execute_reply": "2024-11-27T15:15:34.087972Z"
    },
    "papermill": {
     "duration": 0.021475,
     "end_time": "2024-11-27T15:15:34.091267",
     "exception": false,
     "start_time": "2024-11-27T15:15:34.069792",
     "status": "completed"
    },
    "tags": []
   },
   "outputs": [
    {
     "name": "stdout",
     "output_type": "stream",
     "text": [
      "The kmDriven feature is missing 47 values\n"
     ]
    }
   ],
   "source": [
    "# Count missing values in 'kmDriven'\n",
    "missing_values = df.kmDriven.isna().sum()\n",
    "\n",
    "# Display the result\n",
    "print(f'The kmDriven feature is missing {missing_values} values')"
   ]
  },
  {
   "cell_type": "markdown",
   "id": "fca35b92",
   "metadata": {
    "papermill": {
     "duration": 0.011244,
     "end_time": "2024-11-27T15:15:34.113931",
     "exception": false,
     "start_time": "2024-11-27T15:15:34.102687",
     "status": "completed"
    },
    "tags": []
   },
   "source": [
    "Let's see the rows with missing kmDriven and see if we can spot any similarities between the entries."
   ]
  },
  {
   "cell_type": "code",
   "execution_count": 6,
   "id": "fd5d363c",
   "metadata": {
    "execution": {
     "iopub.execute_input": "2024-11-27T15:15:34.138968Z",
     "iopub.status.busy": "2024-11-27T15:15:34.138573Z",
     "iopub.status.idle": "2024-11-27T15:15:34.156276Z",
     "shell.execute_reply": "2024-11-27T15:15:34.155259Z"
    },
    "papermill": {
     "duration": 0.034042,
     "end_time": "2024-11-27T15:15:34.159441",
     "exception": false,
     "start_time": "2024-11-27T15:15:34.125399",
     "status": "completed"
    },
    "tags": []
   },
   "outputs": [
    {
     "name": "stdout",
     "output_type": "stream",
     "text": [
      "              Brand              model  Year  Age kmDriven Transmission  \\\n",
      "231   Maruti Suzuki           Alto-800  2019    5      NaN       Manual   \n",
      "353          Toyota             Innova  2016    8      NaN       Manual   \n",
      "444           Honda            City ZX  2024    0      NaN    Automatic   \n",
      "476         Hyundai        Santro Xing  2010   14      NaN    Automatic   \n",
      "608          Toyota              Etios  2012   12      NaN       Manual   \n",
      "793           Skoda             Kushaq  2010   14      NaN    Automatic   \n",
      "976        Mahindra    Bolero Neo Plus  2015    9      NaN    Automatic   \n",
      "1164       Mahindra         Bolero Neo  2023    1      NaN       Manual   \n",
      "1199           Tata             Indica  2014   10      NaN       Manual   \n",
      "1413        Hyundai        Santro Xing  2007   17      NaN       Manual   \n",
      "1978           Tata          Tiago Nrg  2021    3      NaN    Automatic   \n",
      "2680  Maruti Suzuki         Zen-Estilo  2008   16      NaN    Automatic   \n",
      "2847  Maruti Suzuki           S-Presso  2021    3      NaN    Automatic   \n",
      "3009  Maruti Suzuki             Baleno  2018    6      NaN       Manual   \n",
      "3361     Ambassador         Ambassador  2008   16      NaN       Manual   \n",
      "3418          Honda               City  2001   23      NaN       Manual   \n",
      "3749       Mahindra  Bolero Power Plus  2015    9      NaN    Automatic   \n",
      "3869  Maruti Suzuki             Esteem  2007   17      NaN       Manual   \n",
      "3922  Maruti Suzuki               Omni  2008   16      NaN       Manual   \n",
      "4192           ICML           Rhino Rx  2010   14      NaN       Manual   \n",
      "4937         Toyota             Innova  2014   10      NaN       Manual   \n",
      "5056  Maruti Suzuki        Swift-Dzire  2011   13      NaN       Manual   \n",
      "5074        Hyundai          Grand i10  2019    5      NaN       Manual   \n",
      "5180           Tata              Tiago  2018    6      NaN    Automatic   \n",
      "5398  Maruti Suzuki        Swift-Dzire  2014   10      NaN       Manual   \n",
      "5690  Maruti Suzuki              Swift  2007   17      NaN    Automatic   \n",
      "5762        Renault               KWID  2019    5      NaN    Automatic   \n",
      "5953  Maruti Suzuki          Baleno-RS  2017    7      NaN       Manual   \n",
      "5971  Maruti Suzuki               Eeco  2019    5      NaN    Automatic   \n",
      "6003           Tata          Indigo Cs  2016    8      NaN    Automatic   \n",
      "6384  Maruti Suzuki            Wagon-R  2010   14      NaN    Automatic   \n",
      "6718        Hyundai               Aura  2022    2      NaN    Automatic   \n",
      "6749  Maruti Suzuki             Brezza  2023    1      NaN    Automatic   \n",
      "7023         Toyota              Etios  2013   11      NaN    Automatic   \n",
      "7076  Maruti Suzuki        Swift-Dzire  2013   11      NaN       Manual   \n",
      "7242  Maruti Suzuki         Zen-Estilo  1998   26      NaN       Manual   \n",
      "7867  Maruti Suzuki               Eeco  2015    9      NaN    Automatic   \n",
      "7904  Maruti Suzuki            Wagon-R  2015    9      NaN       Manual   \n",
      "8039     Volkswagen              Jetta  2013   11      NaN       Manual   \n",
      "8238           Tata               Nano  2015    9      NaN       Manual   \n",
      "8361  Maruti Suzuki               Alto  2005   19      NaN       Manual   \n",
      "8591  Maruti Suzuki               Eeco  2015    9      NaN    Automatic   \n",
      "8851        Hyundai          Elite i20  2019    5      NaN       Manual   \n",
      "9015          Honda             Accord  2007   17      NaN    Automatic   \n",
      "9105  Maruti Suzuki                800  2004   20      NaN    Automatic   \n",
      "9178        Hyundai        Santro Xing  2007   17      NaN       Manual   \n",
      "9563  Maruti Suzuki               Eeco  2015    9      NaN       Manual   \n",
      "\n",
      "       Owner    FuelType PostedDate  \\\n",
      "231    first      Petrol     Nov-24   \n",
      "353   second      Diesel     Nov-24   \n",
      "444    first      Petrol     Nov-24   \n",
      "476   second      Petrol     Nov-24   \n",
      "608   second      Diesel     Nov-24   \n",
      "793    first      Petrol     Nov-24   \n",
      "976    first      Diesel     Nov-24   \n",
      "1164   first      Diesel     Nov-24   \n",
      "1199   first      Diesel     Nov-24   \n",
      "1413  second      Petrol     Nov-24   \n",
      "1978   first      Petrol     Nov-24   \n",
      "2680  second      Petrol     Nov-24   \n",
      "2847   first      Petrol     Nov-24   \n",
      "3009   first      Petrol     Nov-24   \n",
      "3361   first      Diesel     Nov-24   \n",
      "3418  second      Petrol     Nov-24   \n",
      "3749  second      Diesel     Nov-24   \n",
      "3869  second  Hybrid/CNG     Nov-24   \n",
      "3922  second  Hybrid/CNG     Nov-24   \n",
      "4192  second      Diesel     Nov-24   \n",
      "4937  second      Diesel     Nov-24   \n",
      "5056  second      Petrol     Nov-24   \n",
      "5074   first      Petrol     Nov-24   \n",
      "5180  second  Hybrid/CNG     Nov-24   \n",
      "5398  second      Diesel     Nov-24   \n",
      "5690  second  Hybrid/CNG     Nov-24   \n",
      "5762  second  Hybrid/CNG     Nov-24   \n",
      "5953   first      Petrol     Nov-24   \n",
      "5971  second  Hybrid/CNG     Nov-24   \n",
      "6003   first  Hybrid/CNG     Oct-24   \n",
      "6384   first  Hybrid/CNG     Nov-24   \n",
      "6718   first  Hybrid/CNG     Nov-24   \n",
      "6749   first  Hybrid/CNG     Nov-24   \n",
      "7023  second      Petrol     Nov-24   \n",
      "7076  second      Diesel     Nov-24   \n",
      "7242  second      Petrol     Nov-24   \n",
      "7867  second  Hybrid/CNG     Nov-24   \n",
      "7904  second  Hybrid/CNG     Nov-24   \n",
      "8039  second      Diesel     Nov-24   \n",
      "8238  second      Petrol     Nov-24   \n",
      "8361  second      Petrol     Nov-24   \n",
      "8591  second  Hybrid/CNG     Nov-24   \n",
      "8851   first      Petrol     Nov-24   \n",
      "9015  second  Hybrid/CNG     Nov-24   \n",
      "9105  second      Petrol     Nov-24   \n",
      "9178  second      Petrol     Nov-24   \n",
      "9563  second  Hybrid/CNG     Nov-24   \n",
      "\n",
      "                                           AdditionInfo     AskPrice  \n",
      "231                              Maruti Suzuki Alto 800   ₹ 3,00,000  \n",
      "353                     Toyota Innova 2016 model Diesel   ₹ 8,60,000  \n",
      "444                                          Honda City  ₹ 15,50,000  \n",
      "476                            Hyundai Santro Xing 2010   ₹ 1,20,000  \n",
      "608                  Toyota Etios Diesel Good Condition   ₹ 3,30,000  \n",
      "793   Car will have perfect condition,negotiation ar...   ₹ 4,00,000  \n",
      "976                       Mahindra Bolero Neo Plus 2015   ₹ 4,50,000  \n",
      "1164                    Mahindra Bolero Neo 2023 Diesel  ₹ 10,00,000  \n",
      "1199                                       Good running   ₹ 2,50,000  \n",
      "1413     Hyundai Santro Xing 2007 Petrol Good Condition   ₹ 1,48,000  \n",
      "1978     Tata Tiago NRG 2021Last Petrol Well Maintained   ₹ 4,30,000  \n",
      "2680                             Renuw RR validity 2028   ₹ 1,80,000  \n",
      "2847                             Maruti Suzuki S-Presso   ₹ 4,25,000  \n",
      "3009                          Maruti Suzuki Baleno 2018   ₹ 4,85,000  \n",
      "3361  Ambassador Ambassador 2008 Diesel Well Maintained   ₹ 1,50,000  \n",
      "3418  Honda City 2001 Petrol with CNG for immediate ...     ₹ 55,000  \n",
      "3749  Mahindra Bolero Power Plus 2015 Diesel Good Co...   ₹ 4,50,000  \n",
      "3869  Maruti Suzuki Esteem 2007 CNG & Hybrids Good C...   ₹ 1,00,000  \n",
      "3922                                       Sell for car     ₹ 51,786  \n",
      "4192          ICML Rhino Rx 2010 Diesel Well Maintained   ₹ 1,95,000  \n",
      "4937                                 Toyota Innova 2014  ₹ 10,50,000  \n",
      "5056  Maruti Suzuki Swift Dzire 2011 Petrol Well Mai...   ₹ 3,50,000  \n",
      "5074      Hyundai Grand i10 2019 Petrol Well Maintained   ₹ 5,50,000  \n",
      "5180                      Tata Tiago 2018 CNG & Hybrids   ₹ 4,20,000  \n",
      "5398                     Maruti Suzuki Swift Dzire 2014   ₹ 4,10,000  \n",
      "5690             Maruti Suzuki Swift 2007 CNG & Hybrids   ₹ 1,18,000  \n",
      "5762                   CNG car with GPS  good condition   ₹ 3,10,000  \n",
      "5953                Maruti Suzuki Baleno RS 2017 Petrol   ₹ 4,70,000  \n",
      "5971                          CNG bahar se lagi Hui hai   ₹ 4,50,000  \n",
      "6003                         Tata Indigo CS 2016 Petrol   ₹ 1,60,000  \n",
      "6384           Maruti Suzuki Wagon R 2010 CNG & Hybrids     ₹ 95,000  \n",
      "6718    Hyundai Aura 2022 CNG & Hybrids Well Maintained   ₹ 7,80,000  \n",
      "6749                             Toli  becani  h urgent   ₹ 1,50,000  \n",
      "7023             Etios v 2013 modal didwana sell 320000   ₹ 3,20,000  \n",
      "7076              Maruti Suzuki Swift Dzire 2013 Diesel   ₹ 2,45,000  \n",
      "7242  Zen 1998 model,insurence renewed,test in 2025 ...     ₹ 27,000  \n",
      "7867                                  ecco7 full okay h   ₹ 2,60,000  \n",
      "7904                         Maruti Suzuki Wagon R 2015   ₹ 2,15,000  \n",
      "8039        Volkswagen Jetta 2013 Diesel Good Condition   ₹ 3,10,000  \n",
      "8238                      Tata Nano 2015 Good Condition   ₹ 1,14,999  \n",
      "8361      Maruti Suzuki Alto 2005 Petrol Good Condition     ₹ 40,000  \n",
      "8591                                  ecco7 full okay h   ₹ 2,60,000  \n",
      "8851      Hyundai Elite i20 2019 Petrol Well Maintained   ₹ 4,75,000  \n",
      "9015                    Honda Accord 2007 CNG & Hybrids   ₹ 1,35,000  \n",
      "9105                      Maruti Suzuki 800 2004 Petrol     ₹ 60,000  \n",
      "9178                                Well maintained car     ₹ 90,000  \n",
      "9563  Maruti Suzuki Eeco 2015 CNG & Hybrids Well Mai...   ₹ 3,20,000  \n"
     ]
    }
   ],
   "source": [
    "# Show rows where column kmDriven has missing values\n",
    "rows_with_missing = df[df['kmDriven'].isna()]\n",
    "\n",
    "# Display the result\n",
    "print(rows_with_missing)"
   ]
  },
  {
   "cell_type": "markdown",
   "id": "ddeeec73",
   "metadata": {
    "papermill": {
     "duration": 0.011842,
     "end_time": "2024-11-27T15:15:34.183019",
     "exception": false,
     "start_time": "2024-11-27T15:15:34.171177",
     "status": "completed"
    },
    "tags": []
   },
   "source": [
    "I'm seeing a lot of 'Maruti Suzuki' entries. I wonder how common this Brand is in India? There are a few rows with this value for Brand in the rows with missing prices. Let's see how many rows have 'Maruti Suzuki' as the Brand in the whole dataset."
   ]
  },
  {
   "cell_type": "code",
   "execution_count": 7,
   "id": "b86cd9b0",
   "metadata": {
    "execution": {
     "iopub.execute_input": "2024-11-27T15:15:34.208117Z",
     "iopub.status.busy": "2024-11-27T15:15:34.207688Z",
     "iopub.status.idle": "2024-11-27T15:15:34.216631Z",
     "shell.execute_reply": "2024-11-27T15:15:34.215581Z"
    },
    "papermill": {
     "duration": 0.024135,
     "end_time": "2024-11-27T15:15:34.218725",
     "exception": false,
     "start_time": "2024-11-27T15:15:34.194590",
     "status": "completed"
    },
    "tags": []
   },
   "outputs": [
    {
     "data": {
      "text/plain": [
       "2720"
      ]
     },
     "execution_count": 7,
     "metadata": {},
     "output_type": "execute_result"
    }
   ],
   "source": [
    "# Count rows where model has the value \"Maruti Suzuki\"\n",
    "rows_count = (df['Brand'] == 'Maruti Suzuki').sum()\n",
    "rows_count"
   ]
  },
  {
   "cell_type": "markdown",
   "id": "f0e3c68b",
   "metadata": {
    "papermill": {
     "duration": 0.011596,
     "end_time": "2024-11-27T15:15:34.242102",
     "exception": false,
     "start_time": "2024-11-27T15:15:34.230506",
     "status": "completed"
    },
    "tags": []
   },
   "source": [
    "OK! That's a lot more than I expected. I don't think we need to worry too much about the large representation of 'Maruti Suzuki' branded cars in the rows with missing prices."
   ]
  },
  {
   "cell_type": "markdown",
   "id": "ec374576",
   "metadata": {
    "papermill": {
     "duration": 0.01334,
     "end_time": "2024-11-27T15:15:34.267148",
     "exception": false,
     "start_time": "2024-11-27T15:15:34.253808",
     "status": "completed"
    },
    "tags": []
   },
   "source": [
    "Next, let's remove the rows with missing 'kmDriven' values. We will also clean up the 'kmDriven' and convert it to an integer datatype."
   ]
  },
  {
   "cell_type": "code",
   "execution_count": 8,
   "id": "445a2054",
   "metadata": {
    "execution": {
     "iopub.execute_input": "2024-11-27T15:15:34.292559Z",
     "iopub.status.busy": "2024-11-27T15:15:34.292176Z",
     "iopub.status.idle": "2024-11-27T15:15:34.312339Z",
     "shell.execute_reply": "2024-11-27T15:15:34.311167Z"
    },
    "papermill": {
     "duration": 0.035974,
     "end_time": "2024-11-27T15:15:34.314880",
     "exception": false,
     "start_time": "2024-11-27T15:15:34.278906",
     "status": "completed"
    },
    "tags": []
   },
   "outputs": [],
   "source": [
    "#  Clean up the kmDriven text\n",
    "df[\"kmDriven\"] = (\n",
    "    df[\"kmDriven\"]\n",
    "    .str.replace(\",\", \"\", regex=False)\n",
    "    .str.replace(\" km\", \"\", regex=False)\n",
    "    .astype(float)  # Convert to float\n",
    ")\n",
    "\n",
    "# Drop rows with NaN in kmDriven\n",
    "df = df.dropna(subset=[\"kmDriven\"])\n",
    "\n",
    "# Convert to integer\n",
    "df[\"kmDriven\"] = df[\"kmDriven\"].astype(int)"
   ]
  },
  {
   "cell_type": "markdown",
   "id": "e0e78d8a",
   "metadata": {
    "papermill": {
     "duration": 0.011625,
     "end_time": "2024-11-27T15:15:34.339090",
     "exception": false,
     "start_time": "2024-11-27T15:15:34.327465",
     "status": "completed"
    },
    "tags": []
   },
   "source": [
    "Let's also clean up AskPrice."
   ]
  },
  {
   "cell_type": "code",
   "execution_count": 9,
   "id": "c23ebb36",
   "metadata": {
    "execution": {
     "iopub.execute_input": "2024-11-27T15:15:34.364571Z",
     "iopub.status.busy": "2024-11-27T15:15:34.364160Z",
     "iopub.status.idle": "2024-11-27T15:15:34.381737Z",
     "shell.execute_reply": "2024-11-27T15:15:34.380779Z"
    },
    "papermill": {
     "duration": 0.033301,
     "end_time": "2024-11-27T15:15:34.384213",
     "exception": false,
     "start_time": "2024-11-27T15:15:34.350912",
     "status": "completed"
    },
    "tags": []
   },
   "outputs": [],
   "source": [
    "#  Clean up the kmDriven text\n",
    "df[\"AskPrice\"] = (\n",
    "    df[\"AskPrice\"]\n",
    "    .str.replace(\",\", \"\", regex=False)\n",
    "    .str.replace(\"₹\", \"\", regex=False)\n",
    "    .astype(float)  # Convert to float\n",
    ")\n",
    "\n",
    "# Convert to integer\n",
    "df[\"AskPrice\"] = df[\"AskPrice\"].astype(int)"
   ]
  },
  {
   "cell_type": "markdown",
   "id": "fd0f9a3a",
   "metadata": {
    "papermill": {
     "duration": 0.011838,
     "end_time": "2024-11-27T15:15:34.408014",
     "exception": false,
     "start_time": "2024-11-27T15:15:34.396176",
     "status": "completed"
    },
    "tags": []
   },
   "source": [
    "Let's verify that 'kmDriven' and 'AskPrice' are integers now."
   ]
  },
  {
   "cell_type": "code",
   "execution_count": 10,
   "id": "cd82c1fe",
   "metadata": {
    "execution": {
     "iopub.execute_input": "2024-11-27T15:15:34.433372Z",
     "iopub.status.busy": "2024-11-27T15:15:34.432501Z",
     "iopub.status.idle": "2024-11-27T15:15:34.446981Z",
     "shell.execute_reply": "2024-11-27T15:15:34.445704Z"
    },
    "papermill": {
     "duration": 0.029298,
     "end_time": "2024-11-27T15:15:34.449126",
     "exception": false,
     "start_time": "2024-11-27T15:15:34.419828",
     "status": "completed"
    },
    "tags": []
   },
   "outputs": [
    {
     "name": "stdout",
     "output_type": "stream",
     "text": [
      "<class 'pandas.core.frame.DataFrame'>\n",
      "Index: 9535 entries, 0 to 9581\n",
      "Data columns (total 11 columns):\n",
      " #   Column        Non-Null Count  Dtype \n",
      "---  ------        --------------  ----- \n",
      " 0   Brand         9535 non-null   object\n",
      " 1   model         9535 non-null   object\n",
      " 2   Year          9535 non-null   int64 \n",
      " 3   Age           9535 non-null   int64 \n",
      " 4   kmDriven      9535 non-null   int64 \n",
      " 5   Transmission  9535 non-null   object\n",
      " 6   Owner         9535 non-null   object\n",
      " 7   FuelType      9535 non-null   object\n",
      " 8   PostedDate    9535 non-null   object\n",
      " 9   AdditionInfo  9535 non-null   object\n",
      " 10  AskPrice      9535 non-null   int64 \n",
      "dtypes: int64(4), object(7)\n",
      "memory usage: 893.9+ KB\n"
     ]
    }
   ],
   "source": [
    "df.info()"
   ]
  },
  {
   "cell_type": "markdown",
   "id": "4d95a3dd",
   "metadata": {
    "papermill": {
     "duration": 0.011803,
     "end_time": "2024-11-27T15:15:34.473094",
     "exception": false,
     "start_time": "2024-11-27T15:15:34.461291",
     "status": "completed"
    },
    "tags": []
   },
   "source": [
    "Indeed they are.\n",
    "Are the rows with missing values gone?"
   ]
  },
  {
   "cell_type": "code",
   "execution_count": 11,
   "id": "3d38c036",
   "metadata": {
    "execution": {
     "iopub.execute_input": "2024-11-27T15:15:34.498574Z",
     "iopub.status.busy": "2024-11-27T15:15:34.498169Z",
     "iopub.status.idle": "2024-11-27T15:15:34.513099Z",
     "shell.execute_reply": "2024-11-27T15:15:34.511828Z"
    },
    "papermill": {
     "duration": 0.030501,
     "end_time": "2024-11-27T15:15:34.515398",
     "exception": false,
     "start_time": "2024-11-27T15:15:34.484897",
     "status": "completed"
    },
    "tags": []
   },
   "outputs": [
    {
     "name": "stdout",
     "output_type": "stream",
     "text": [
      "<class 'pandas.core.frame.DataFrame'>\n",
      "Index: 9535 entries, 0 to 9581\n",
      "Data columns (total 11 columns):\n",
      " #   Column        Non-Null Count  Dtype \n",
      "---  ------        --------------  ----- \n",
      " 0   Brand         9535 non-null   object\n",
      " 1   model         9535 non-null   object\n",
      " 2   Year          9535 non-null   int64 \n",
      " 3   Age           9535 non-null   int64 \n",
      " 4   kmDriven      9535 non-null   int64 \n",
      " 5   Transmission  9535 non-null   object\n",
      " 6   Owner         9535 non-null   object\n",
      " 7   FuelType      9535 non-null   object\n",
      " 8   PostedDate    9535 non-null   object\n",
      " 9   AdditionInfo  9535 non-null   object\n",
      " 10  AskPrice      9535 non-null   int64 \n",
      "dtypes: int64(4), object(7)\n",
      "memory usage: 893.9+ KB\n"
     ]
    }
   ],
   "source": [
    "df.info()       "
   ]
  },
  {
   "cell_type": "markdown",
   "id": "6336467c",
   "metadata": {
    "papermill": {
     "duration": 0.012311,
     "end_time": "2024-11-27T15:15:34.539897",
     "exception": false,
     "start_time": "2024-11-27T15:15:34.527586",
     "status": "completed"
    },
    "tags": []
   },
   "source": [
    "Yes they are! The dataset has no missing values now."
   ]
  },
  {
   "cell_type": "markdown",
   "id": "4d27f7ed",
   "metadata": {
    "papermill": {
     "duration": 0.011775,
     "end_time": "2024-11-27T15:15:34.564091",
     "exception": false,
     "start_time": "2024-11-27T15:15:34.552316",
     "status": "completed"
    },
    "tags": []
   },
   "source": [
    "Now we need to look at some of these features and determine the categorical data in them, and how we will need to encode them."
   ]
  },
  {
   "cell_type": "markdown",
   "id": "73b22fd4",
   "metadata": {
    "papermill": {
     "duration": 0.011897,
     "end_time": "2024-11-27T15:15:34.587979",
     "exception": false,
     "start_time": "2024-11-27T15:15:34.576082",
     "status": "completed"
    },
    "tags": []
   },
   "source": [
    "Here are the unique values in each feature. This should give us an indication of which features are categorical."
   ]
  },
  {
   "cell_type": "code",
   "execution_count": 12,
   "id": "a7d84a52",
   "metadata": {
    "execution": {
     "iopub.execute_input": "2024-11-27T15:15:34.613727Z",
     "iopub.status.busy": "2024-11-27T15:15:34.613336Z",
     "iopub.status.idle": "2024-11-27T15:15:34.628096Z",
     "shell.execute_reply": "2024-11-27T15:15:34.626985Z"
    },
    "papermill": {
     "duration": 0.030305,
     "end_time": "2024-11-27T15:15:34.630238",
     "exception": false,
     "start_time": "2024-11-27T15:15:34.599933",
     "status": "completed"
    },
    "tags": []
   },
   "outputs": [
    {
     "name": "stdout",
     "output_type": "stream",
     "text": [
      "Brand             38\n",
      "model            398\n",
      "Year              32\n",
      "Age               32\n",
      "kmDriven        1745\n",
      "Transmission       2\n",
      "Owner              2\n",
      "FuelType           3\n",
      "PostedDate        12\n",
      "AdditionInfo    7270\n",
      "AskPrice        1326\n",
      "dtype: int64\n"
     ]
    }
   ],
   "source": [
    "unique_counts = df.nunique(dropna=False)\n",
    "\n",
    "# Display the result\n",
    "print(unique_counts)"
   ]
  },
  {
   "cell_type": "markdown",
   "id": "4462e17c",
   "metadata": {
    "papermill": {
     "duration": 0.012355,
     "end_time": "2024-11-27T15:15:34.654867",
     "exception": false,
     "start_time": "2024-11-27T15:15:34.642512",
     "status": "completed"
    },
    "tags": []
   },
   "source": [
    "It looks like we need to consider the features \"Brand\", \"Model\", \"Transmission\", \"Owner\", and \"FuelType\" for encoding."
   ]
  },
  {
   "cell_type": "markdown",
   "id": "4ebf61aa",
   "metadata": {
    "papermill": {
     "duration": 0.011719,
     "end_time": "2024-11-27T15:15:34.678660",
     "exception": false,
     "start_time": "2024-11-27T15:15:34.666941",
     "status": "completed"
    },
    "tags": []
   },
   "source": [
    "Let's start by ensuring there are no accidental duplicate entries in \"Brand\" due to typos."
   ]
  },
  {
   "cell_type": "code",
   "execution_count": 13,
   "id": "5eb97b04",
   "metadata": {
    "execution": {
     "iopub.execute_input": "2024-11-27T15:15:34.704379Z",
     "iopub.status.busy": "2024-11-27T15:15:34.704004Z",
     "iopub.status.idle": "2024-11-27T15:15:34.710878Z",
     "shell.execute_reply": "2024-11-27T15:15:34.709706Z"
    },
    "papermill": {
     "duration": 0.022263,
     "end_time": "2024-11-27T15:15:34.712975",
     "exception": false,
     "start_time": "2024-11-27T15:15:34.690712",
     "status": "completed"
    },
    "tags": []
   },
   "outputs": [
    {
     "name": "stdout",
     "output_type": "stream",
     "text": [
      "['Ambassador', 'Ashok', 'Aston Martin', 'Audi', 'BMW', 'Bajaj', 'Bentley', 'Chevrolet', 'Datsun', 'Fiat', 'Force', 'Ford', 'Honda', 'Hyundai', 'Isuzu', 'Jaguar', 'Jeep', 'Kia', 'Land Rover', 'Lexus', 'MG', 'Mahindra', 'Maruti Suzuki', 'Maserati', 'Mercedes-Benz', 'Mini', 'Mitsubishi', 'Nissan', 'Opel', 'Porsche', 'Renault', 'Rolls-Royce', 'Skoda', 'Ssangyong', 'Tata', 'Toyota', 'Volkswagen', 'Volvo']\n"
     ]
    }
   ],
   "source": [
    "# Show unique values of Brand\n",
    "unique_brands = sorted(df[\"Brand\"].unique())\n",
    "\n",
    "# Display the result\n",
    "print(unique_brands)"
   ]
  },
  {
   "cell_type": "markdown",
   "id": "6e240a3b",
   "metadata": {
    "papermill": {
     "duration": 0.011831,
     "end_time": "2024-11-27T15:15:34.736988",
     "exception": false,
     "start_time": "2024-11-27T15:15:34.725157",
     "status": "completed"
    },
    "tags": []
   },
   "source": [
    "Good. They are all unique brands."
   ]
  },
  {
   "cell_type": "markdown",
   "id": "4800f355",
   "metadata": {
    "papermill": {
     "duration": 0.011891,
     "end_time": "2024-11-27T15:15:34.760980",
     "exception": false,
     "start_time": "2024-11-27T15:15:34.749089",
     "status": "completed"
    },
    "tags": []
   },
   "source": [
    "Let's check for typos in Year and Age."
   ]
  },
  {
   "cell_type": "code",
   "execution_count": 14,
   "id": "d97b7395",
   "metadata": {
    "execution": {
     "iopub.execute_input": "2024-11-27T15:15:34.786830Z",
     "iopub.status.busy": "2024-11-27T15:15:34.786385Z",
     "iopub.status.idle": "2024-11-27T15:15:34.793174Z",
     "shell.execute_reply": "2024-11-27T15:15:34.791887Z"
    },
    "papermill": {
     "duration": 0.02232,
     "end_time": "2024-11-27T15:15:34.795398",
     "exception": false,
     "start_time": "2024-11-27T15:15:34.773078",
     "status": "completed"
    },
    "tags": []
   },
   "outputs": [
    {
     "name": "stdout",
     "output_type": "stream",
     "text": [
      "[1986, 1990, 1994, 1996, 1997, 1998, 1999, 2000, 2001, 2002, 2003, 2004, 2005, 2006, 2007, 2008, 2009, 2010, 2011, 2012, 2013, 2014, 2015, 2016, 2017, 2018, 2019, 2020, 2021, 2022, 2023, 2024]\n"
     ]
    }
   ],
   "source": [
    "# Show unique values of Year\n",
    "unique_years = sorted(df[\"Year\"].unique())\n",
    "\n",
    "# Display the result\n",
    "print(unique_years)"
   ]
  },
  {
   "cell_type": "code",
   "execution_count": 15,
   "id": "e5a53132",
   "metadata": {
    "execution": {
     "iopub.execute_input": "2024-11-27T15:15:34.821988Z",
     "iopub.status.busy": "2024-11-27T15:15:34.821554Z",
     "iopub.status.idle": "2024-11-27T15:15:34.827905Z",
     "shell.execute_reply": "2024-11-27T15:15:34.826837Z"
    },
    "papermill": {
     "duration": 0.022427,
     "end_time": "2024-11-27T15:15:34.830304",
     "exception": false,
     "start_time": "2024-11-27T15:15:34.807877",
     "status": "completed"
    },
    "tags": []
   },
   "outputs": [
    {
     "name": "stdout",
     "output_type": "stream",
     "text": [
      "[0, 1, 2, 3, 4, 5, 6, 7, 8, 9, 10, 11, 12, 13, 14, 15, 16, 17, 18, 19, 20, 21, 22, 23, 24, 25, 26, 27, 28, 30, 34, 38]\n"
     ]
    }
   ],
   "source": [
    "# Show unique values of Age\n",
    "unique_ages = sorted(df[\"Age\"].unique())\n",
    "\n",
    "# Display the result\n",
    "print(unique_ages)"
   ]
  },
  {
   "cell_type": "markdown",
   "id": "77a2f8ce",
   "metadata": {
    "papermill": {
     "duration": 0.012044,
     "end_time": "2024-11-27T15:15:34.855737",
     "exception": false,
     "start_time": "2024-11-27T15:15:34.843693",
     "status": "completed"
    },
    "tags": []
   },
   "source": [
    "No typos."
   ]
  },
  {
   "cell_type": "markdown",
   "id": "6c7745fb",
   "metadata": {
    "papermill": {
     "duration": 0.011834,
     "end_time": "2024-11-27T15:15:34.880280",
     "exception": false,
     "start_time": "2024-11-27T15:15:34.868446",
     "status": "completed"
    },
    "tags": []
   },
   "source": [
    "Now let's check the unique values of Transmission, Owners, and FuelType."
   ]
  },
  {
   "cell_type": "code",
   "execution_count": 16,
   "id": "25d65a29",
   "metadata": {
    "execution": {
     "iopub.execute_input": "2024-11-27T15:15:34.906506Z",
     "iopub.status.busy": "2024-11-27T15:15:34.906099Z",
     "iopub.status.idle": "2024-11-27T15:15:34.912806Z",
     "shell.execute_reply": "2024-11-27T15:15:34.911723Z"
    },
    "papermill": {
     "duration": 0.022818,
     "end_time": "2024-11-27T15:15:34.915236",
     "exception": false,
     "start_time": "2024-11-27T15:15:34.892418",
     "status": "completed"
    },
    "tags": []
   },
   "outputs": [
    {
     "name": "stdout",
     "output_type": "stream",
     "text": [
      "['Automatic', 'Manual']\n"
     ]
    }
   ],
   "source": [
    "# Show unique values of Transmission\n",
    "unique_transmissions = sorted(df[\"Transmission\"].unique())\n",
    "\n",
    "# Display the result\n",
    "print(unique_transmissions)"
   ]
  },
  {
   "cell_type": "code",
   "execution_count": 17,
   "id": "d264b494",
   "metadata": {
    "execution": {
     "iopub.execute_input": "2024-11-27T15:15:34.941643Z",
     "iopub.status.busy": "2024-11-27T15:15:34.941298Z",
     "iopub.status.idle": "2024-11-27T15:15:34.947656Z",
     "shell.execute_reply": "2024-11-27T15:15:34.946620Z"
    },
    "papermill": {
     "duration": 0.022233,
     "end_time": "2024-11-27T15:15:34.949876",
     "exception": false,
     "start_time": "2024-11-27T15:15:34.927643",
     "status": "completed"
    },
    "tags": []
   },
   "outputs": [
    {
     "name": "stdout",
     "output_type": "stream",
     "text": [
      "['first', 'second']\n"
     ]
    }
   ],
   "source": [
    "# Show unique values of Owner\n",
    "unique_owners = sorted(df[\"Owner\"].unique())\n",
    "\n",
    "# Display the result\n",
    "print(unique_owners)"
   ]
  },
  {
   "cell_type": "code",
   "execution_count": 18,
   "id": "38086cf4",
   "metadata": {
    "execution": {
     "iopub.execute_input": "2024-11-27T15:15:34.977142Z",
     "iopub.status.busy": "2024-11-27T15:15:34.976706Z",
     "iopub.status.idle": "2024-11-27T15:15:34.983101Z",
     "shell.execute_reply": "2024-11-27T15:15:34.982033Z"
    },
    "papermill": {
     "duration": 0.022877,
     "end_time": "2024-11-27T15:15:34.985431",
     "exception": false,
     "start_time": "2024-11-27T15:15:34.962554",
     "status": "completed"
    },
    "tags": []
   },
   "outputs": [
    {
     "name": "stdout",
     "output_type": "stream",
     "text": [
      "['Diesel', 'Hybrid/CNG', 'Petrol']\n"
     ]
    }
   ],
   "source": [
    "# Show unique values of FuelType\n",
    "unique_fuel_types = sorted(df[\"FuelType\"].unique())\n",
    "\n",
    "# Display the result\n",
    "print(unique_fuel_types)"
   ]
  },
  {
   "cell_type": "markdown",
   "id": "1f094ae6",
   "metadata": {
    "papermill": {
     "duration": 0.012318,
     "end_time": "2024-11-27T15:15:35.010362",
     "exception": false,
     "start_time": "2024-11-27T15:15:34.998044",
     "status": "completed"
    },
    "tags": []
   },
   "source": [
    "These all are categorical features."
   ]
  },
  {
   "cell_type": "markdown",
   "id": "4ef3a326",
   "metadata": {
    "papermill": {
     "duration": 0.01286,
     "end_time": "2024-11-27T15:15:35.035874",
     "exception": false,
     "start_time": "2024-11-27T15:15:35.023014",
     "status": "completed"
    },
    "tags": []
   },
   "source": [
    "See which variables relate to each other."
   ]
  },
  {
   "cell_type": "code",
   "execution_count": 19,
   "id": "c665d2b5",
   "metadata": {
    "execution": {
     "iopub.execute_input": "2024-11-27T15:15:35.062632Z",
     "iopub.status.busy": "2024-11-27T15:15:35.062278Z",
     "iopub.status.idle": "2024-11-27T15:15:35.083499Z",
     "shell.execute_reply": "2024-11-27T15:15:35.082156Z"
    },
    "papermill": {
     "duration": 0.037878,
     "end_time": "2024-11-27T15:15:35.086208",
     "exception": false,
     "start_time": "2024-11-27T15:15:35.048330",
     "status": "completed"
    },
    "tags": []
   },
   "outputs": [],
   "source": [
    "X = df.copy()\n",
    "y = X.pop(\"AskPrice\")\n",
    "\n",
    "# Label encoding for categoricals\n",
    "for colname in X.select_dtypes(\"object\"):\n",
    "    X[colname], _ = X[colname].factorize()\n",
    "\n",
    "# All discrete features should now have integer dtypes (double-check this before using MI!)\n",
    "discrete_features = X.dtypes == int"
   ]
  },
  {
   "cell_type": "code",
   "execution_count": 20,
   "id": "7452f3a8",
   "metadata": {
    "execution": {
     "iopub.execute_input": "2024-11-27T15:15:35.114268Z",
     "iopub.status.busy": "2024-11-27T15:15:35.113902Z",
     "iopub.status.idle": "2024-11-27T15:15:39.831886Z",
     "shell.execute_reply": "2024-11-27T15:15:39.830673Z"
    },
    "papermill": {
     "duration": 4.734882,
     "end_time": "2024-11-27T15:15:39.834334",
     "exception": false,
     "start_time": "2024-11-27T15:15:35.099452",
     "status": "completed"
    },
    "tags": []
   },
   "outputs": [
    {
     "data": {
      "text/plain": [
       "AdditionInfo    3.300445\n",
       "model           1.173538\n",
       "Brand           0.460100\n",
       "kmDriven        0.432244\n",
       "Year            0.406387\n",
       "Age             0.406387\n",
       "Transmission    0.126836\n",
       "FuelType        0.126223\n",
       "Owner           0.048965\n",
       "PostedDate      0.010463\n",
       "Name: MI Scores, dtype: float64"
      ]
     },
     "execution_count": 20,
     "metadata": {},
     "output_type": "execute_result"
    }
   ],
   "source": [
    "from sklearn.feature_selection import mutual_info_regression\n",
    "\n",
    "def make_mi_scores(X, y, discrete_features):\n",
    "    mi_scores = mutual_info_regression(X, y, discrete_features=discrete_features)\n",
    "    mi_scores = pd.Series(mi_scores, name=\"MI Scores\", index=X.columns)\n",
    "    mi_scores = mi_scores.sort_values(ascending=False)\n",
    "    return mi_scores\n",
    "\n",
    "mi_scores = make_mi_scores(X, y, discrete_features)\n",
    "mi_scores  # show features with their MI scores"
   ]
  },
  {
   "cell_type": "markdown",
   "id": "41f6d278",
   "metadata": {
    "papermill": {
     "duration": 0.012338,
     "end_time": "2024-11-27T15:15:39.860304",
     "exception": false,
     "start_time": "2024-11-27T15:15:39.847966",
     "status": "completed"
    },
    "tags": []
   },
   "source": [
    "**Columns to be dropped from the dataset:**\n",
    "* AdditionalInfo - Despite the high score, this contains redundant information found elsewhere in the dataset.\n",
    "* Age - Essentially contains the same information as 'Year'.\n",
    "* PostedDate - Has insignificant contributions to the target."
   ]
  },
  {
   "cell_type": "code",
   "execution_count": 21,
   "id": "dc923249",
   "metadata": {
    "execution": {
     "iopub.execute_input": "2024-11-27T15:15:39.889453Z",
     "iopub.status.busy": "2024-11-27T15:15:39.888924Z",
     "iopub.status.idle": "2024-11-27T15:15:39.898106Z",
     "shell.execute_reply": "2024-11-27T15:15:39.896961Z"
    },
    "papermill": {
     "duration": 0.026409,
     "end_time": "2024-11-27T15:15:39.900662",
     "exception": false,
     "start_time": "2024-11-27T15:15:39.874253",
     "status": "completed"
    },
    "tags": []
   },
   "outputs": [],
   "source": [
    "df = df.drop(columns=['AdditionInfo', 'PostedDate', 'Age'])"
   ]
  },
  {
   "cell_type": "markdown",
   "id": "2873f42d",
   "metadata": {
    "papermill": {
     "duration": 0.012061,
     "end_time": "2024-11-27T15:15:39.925541",
     "exception": false,
     "start_time": "2024-11-27T15:15:39.913480",
     "status": "completed"
    },
    "tags": []
   },
   "source": [
    "**Columns needing more research:**\n",
    "* Transmission\n",
    "* FuelType\n",
    "* Owner"
   ]
  },
  {
   "cell_type": "markdown",
   "id": "7c66ec33",
   "metadata": {
    "papermill": {
     "duration": 0.012271,
     "end_time": "2024-11-27T15:15:39.950951",
     "exception": false,
     "start_time": "2024-11-27T15:15:39.938680",
     "status": "completed"
    },
    "tags": []
   },
   "source": [
    "Let's plot the average AskPrice by Transmission type."
   ]
  },
  {
   "cell_type": "code",
   "execution_count": 22,
   "id": "ff5d1b93",
   "metadata": {
    "execution": {
     "iopub.execute_input": "2024-11-27T15:15:39.977867Z",
     "iopub.status.busy": "2024-11-27T15:15:39.977466Z",
     "iopub.status.idle": "2024-11-27T15:15:40.787134Z",
     "shell.execute_reply": "2024-11-27T15:15:40.785846Z"
    },
    "papermill": {
     "duration": 0.825645,
     "end_time": "2024-11-27T15:15:40.789351",
     "exception": false,
     "start_time": "2024-11-27T15:15:39.963706",
     "status": "completed"
    },
    "tags": []
   },
   "outputs": [
    {
     "data": {
      "image/png": "[encoded data removed]",
      "text/plain": [
       "<Figure size 800x500 with 1 Axes>"
      ]
     },
     "metadata": {},
     "output_type": "display_data"
    }
   ],
   "source": [
    "import seaborn as sns\n",
    "import matplotlib.pyplot as plt\n",
    "\n",
    "# Group by transmission type and calculate average price\n",
    "price_trends_by_transmission = (\n",
    "    df.groupby('Transmission')['AskPrice']\n",
    "    .mean()\n",
    "    .sort_values(ascending=False)\n",
    "    .reset_index()\n",
    ")\n",
    "\n",
    "# Create a bar plot for price trends by transmission\n",
    "plt.figure(figsize=(8, 5))\n",
    "sns.barplot(\n",
    "    data=price_trends_by_transmission, \n",
    "    x='Transmission', \n",
    "    y='AskPrice'\n",
    ")\n",
    "plt.title('Average Car Prices by Transmission Type', fontsize=14)\n",
    "plt.xlabel('Transmission Type', fontsize=12)\n",
    "plt.ylabel('Average Ask Price (₹)', fontsize=12)\n",
    "\n",
    "plt.show()"
   ]
  },
  {
   "cell_type": "markdown",
   "id": "9b432979",
   "metadata": {
    "papermill": {
     "duration": 0.013488,
     "end_time": "2024-11-27T15:15:40.817176",
     "exception": false,
     "start_time": "2024-11-27T15:15:40.803688",
     "status": "completed"
    },
    "tags": []
   },
   "source": [
    "Wow! There is a BIG difference between Automatic and Manual Transmission types. We will keep this feature."
   ]
  },
  {
   "cell_type": "markdown",
   "id": "962aabec",
   "metadata": {
    "papermill": {
     "duration": 0.013376,
     "end_time": "2024-11-27T15:15:40.843958",
     "exception": false,
     "start_time": "2024-11-27T15:15:40.830582",
     "status": "completed"
    },
    "tags": []
   },
   "source": [
    "What about the Owner feature?"
   ]
  },
  {
   "cell_type": "code",
   "execution_count": 23,
   "id": "c0991ead",
   "metadata": {
    "execution": {
     "iopub.execute_input": "2024-11-27T15:15:40.873657Z",
     "iopub.status.busy": "2024-11-27T15:15:40.873117Z",
     "iopub.status.idle": "2024-11-27T15:15:41.124332Z",
     "shell.execute_reply": "2024-11-27T15:15:41.123112Z"
    },
    "papermill": {
     "duration": 0.269467,
     "end_time": "2024-11-27T15:15:41.126716",
     "exception": false,
     "start_time": "2024-11-27T15:15:40.857249",
     "status": "completed"
    },
    "tags": []
   },
   "outputs": [
    {
     "data": {
      "image/png": "[encoded data removed]",
      "text/plain": [
       "<Figure size 800x500 with 1 Axes>"
      ]
     },
     "metadata": {},
     "output_type": "display_data"
    }
   ],
   "source": [
    "# Group by owner type and calculate average price\n",
    "price_trends_by_owner = (\n",
    "    df.groupby('Owner')['AskPrice']\n",
    "    .mean()\n",
    "    .sort_values(ascending=False)\n",
    "    .reset_index()\n",
    ")\n",
    "\n",
    "# Create a bar plot for price trends by owner\n",
    "plt.figure(figsize=(8, 5))\n",
    "sns.barplot(\n",
    "    data=price_trends_by_owner, \n",
    "    x='Owner', \n",
    "    y='AskPrice'\n",
    ")\n",
    "plt.title('Average Car Prices by Owner Type', fontsize=14)\n",
    "plt.xlabel('Owner Type', fontsize=12)\n",
    "plt.ylabel('Average Ask Price (₹)', fontsize=12)\n",
    "\n",
    "plt.show()"
   ]
  },
  {
   "cell_type": "markdown",
   "id": "ea0c82e8",
   "metadata": {
    "papermill": {
     "duration": 0.013622,
     "end_time": "2024-11-27T15:15:41.154475",
     "exception": false,
     "start_time": "2024-11-27T15:15:41.140853",
     "status": "completed"
    },
    "tags": []
   },
   "source": [
    "There is a significant difference in the AskPrice for first and second owners. We will also keep this feature.  "
   ]
  },
  {
   "cell_type": "markdown",
   "id": "3cef11f7",
   "metadata": {
    "papermill": {
     "duration": 0.013702,
     "end_time": "2024-11-27T15:15:41.182181",
     "exception": false,
     "start_time": "2024-11-27T15:15:41.168479",
     "status": "completed"
    },
    "tags": []
   },
   "source": [
    "Last, let's examine FuelType."
   ]
  },
  {
   "cell_type": "code",
   "execution_count": 24,
   "id": "dde0bf9d",
   "metadata": {
    "execution": {
     "iopub.execute_input": "2024-11-27T15:15:41.213280Z",
     "iopub.status.busy": "2024-11-27T15:15:41.212685Z",
     "iopub.status.idle": "2024-11-27T15:15:41.407267Z",
     "shell.execute_reply": "2024-11-27T15:15:41.406092Z"
    },
    "papermill": {
     "duration": 0.212862,
     "end_time": "2024-11-27T15:15:41.409647",
     "exception": false,
     "start_time": "2024-11-27T15:15:41.196785",
     "status": "completed"
    },
    "tags": []
   },
   "outputs": [
    {
     "data": {
      "image/png": "[encoded data removed]",
      "text/plain": [
       "<Figure size 800x500 with 1 Axes>"
      ]
     },
     "metadata": {},
     "output_type": "display_data"
    }
   ],
   "source": [
    "# Group by fuel type and calculate average price\n",
    "price_trends_by_fuel_type = (\n",
    "    df.groupby('FuelType')['AskPrice']\n",
    "    .mean()\n",
    "    .sort_values(ascending=False)\n",
    "    .reset_index()\n",
    ")\n",
    "\n",
    "# Create a bar plot for price trends by fuel type\n",
    "plt.figure(figsize=(8, 5))\n",
    "sns.barplot(\n",
    "    data=price_trends_by_fuel_type, \n",
    "    x='FuelType', \n",
    "    y='AskPrice'\n",
    ")\n",
    "plt.title('Average Car Prices by Fuel Type', fontsize=14)\n",
    "plt.xlabel('Fuel Type', fontsize=12)\n",
    "plt.ylabel('Average Ask Price (₹)', fontsize=12)\n",
    "\n",
    "plt.show()"
   ]
  },
  {
   "cell_type": "markdown",
   "id": "eedaf10a",
   "metadata": {
    "papermill": {
     "duration": 0.013972,
     "end_time": "2024-11-27T15:15:41.437694",
     "exception": false,
     "start_time": "2024-11-27T15:15:41.423722",
     "status": "completed"
    },
    "tags": []
   },
   "source": [
    "There is a large difference between average asking prices for these three FuelTypes, si we will keep this feature. Surprisingly, Hybrid/CNG is lowest average AskPrice even as Hybrid cars are quite expensive. However, Compressed Natural Gas (CNG) vehicles can be quite inexpensive, and appear to make up a more significant portion of the dataset than more expensive Hybrid cards."
   ]
  },
  {
   "cell_type": "markdown",
   "id": "e9665d6f",
   "metadata": {
    "papermill": {
     "duration": 0.013832,
     "end_time": "2024-11-27T15:15:41.465697",
     "exception": false,
     "start_time": "2024-11-27T15:15:41.451865",
     "status": "completed"
    },
    "tags": []
   },
   "source": [
    "Just for fun, let's see the average asking price for each Brand."
   ]
  },
  {
   "cell_type": "code",
   "execution_count": 25,
   "id": "8ced3769",
   "metadata": {
    "execution": {
     "iopub.execute_input": "2024-11-27T15:15:41.495914Z",
     "iopub.status.busy": "2024-11-27T15:15:41.495427Z",
     "iopub.status.idle": "2024-11-27T15:15:42.010952Z",
     "shell.execute_reply": "2024-11-27T15:15:42.009685Z"
    },
    "papermill": {
     "duration": 0.534132,
     "end_time": "2024-11-27T15:15:42.013874",
     "exception": false,
     "start_time": "2024-11-27T15:15:41.479742",
     "status": "completed"
    },
    "tags": []
   },
   "outputs": [
    {
     "data": {
      "image/png": "[encoded data removed]",
      "text/plain": [
       "<Figure size 1200x600 with 1 Axes>"
      ]
     },
     "metadata": {},
     "output_type": "display_data"
    }
   ],
   "source": [
    "# Calculate the average asking price for each brand\n",
    "brand_avg_price_summary = df.groupby('Brand')['AskPrice'].mean().reset_index()\n",
    "\n",
    "# Sort the data for better visualization\n",
    "brand_avg_price_summary = brand_avg_price_summary.sort_values(by='AskPrice', ascending=False)\n",
    "\n",
    "# Create a seaborn bar plot for the average asking price by brand\n",
    "plt.figure(figsize=(12, 6))\n",
    "sns.barplot(data=brand_avg_price_summary, x='Brand', y='AskPrice')\n",
    "plt.title('Average Asking Price for Each Brand')\n",
    "plt.xlabel('Brand')\n",
    "plt.ylabel('Average Asking Price')\n",
    "plt.xticks(rotation=45, ha='right')\n",
    "plt.tight_layout()\n",
    "plt.show()"
   ]
  },
  {
   "cell_type": "markdown",
   "id": "e281d120",
   "metadata": {
    "papermill": {
     "duration": 0.015367,
     "end_time": "2024-11-27T15:15:42.045266",
     "exception": false,
     "start_time": "2024-11-27T15:15:42.029899",
     "status": "completed"
    },
    "tags": []
   },
   "source": [
    "We can see that a vast majority of car brands have an average AskPrice that is relatively low. Only a few brands have large AskPrices."
   ]
  },
  {
   "cell_type": "markdown",
   "id": "d52c8ce7",
   "metadata": {
    "papermill": {
     "duration": 0.015342,
     "end_time": "2024-11-27T15:15:42.076037",
     "exception": false,
     "start_time": "2024-11-27T15:15:42.060695",
     "status": "completed"
    },
    "tags": []
   },
   "source": [
    "Now let's look at the total AskPrice for each Brand."
   ]
  },
  {
   "cell_type": "code",
   "execution_count": 26,
   "id": "da2e1b5a",
   "metadata": {
    "execution": {
     "iopub.execute_input": "2024-11-27T15:15:42.108293Z",
     "iopub.status.busy": "2024-11-27T15:15:42.107898Z",
     "iopub.status.idle": "2024-11-27T15:15:42.733000Z",
     "shell.execute_reply": "2024-11-27T15:15:42.731815Z"
    },
    "papermill": {
     "duration": 0.644194,
     "end_time": "2024-11-27T15:15:42.735447",
     "exception": false,
     "start_time": "2024-11-27T15:15:42.091253",
     "status": "completed"
    },
    "tags": []
   },
   "outputs": [
    {
     "data": {
      "image/png": "[encoded data removed]",
      "text/plain": [
       "<Figure size 1200x600 with 1 Axes>"
      ]
     },
     "metadata": {},
     "output_type": "display_data"
    }
   ],
   "source": [
    "# Recalculate the total AskPrice by Brand\n",
    "brand_price_summary = df.groupby('Brand')['AskPrice'].sum().reset_index()\n",
    "\n",
    "# Sort the data for better visualization\n",
    "brand_price_summary = brand_price_summary.sort_values(by='AskPrice', ascending=False)\n",
    "\n",
    "# Create a seaborn bar plot\n",
    "plt.figure(figsize=(12, 6))\n",
    "sns.barplot(data=brand_price_summary, x='Brand', y='AskPrice')\n",
    "plt.title('Total Asking Prices for Each Brand')\n",
    "plt.xlabel('Brand')\n",
    "plt.ylabel('Total Asking Prices')\n",
    "plt.xticks(rotation=45, ha='right')\n",
    "plt.tight_layout()\n",
    "plt.show()"
   ]
  },
  {
   "cell_type": "markdown",
   "id": "88e26089",
   "metadata": {
    "papermill": {
     "duration": 0.016428,
     "end_time": "2024-11-27T15:15:42.768505",
     "exception": false,
     "start_time": "2024-11-27T15:15:42.752077",
     "status": "completed"
    },
    "tags": []
   },
   "source": [
    "Now let's look at the total units sold of each Brand."
   ]
  },
  {
   "cell_type": "code",
   "execution_count": 27,
   "id": "0c6f13aa",
   "metadata": {
    "execution": {
     "iopub.execute_input": "2024-11-27T15:15:42.803730Z",
     "iopub.status.busy": "2024-11-27T15:15:42.803317Z",
     "iopub.status.idle": "2024-11-27T15:15:43.306311Z",
     "shell.execute_reply": "2024-11-27T15:15:43.304981Z"
    },
    "papermill": {
     "duration": 0.524371,
     "end_time": "2024-11-27T15:15:43.309257",
     "exception": false,
     "start_time": "2024-11-27T15:15:42.784886",
     "status": "completed"
    },
    "tags": []
   },
   "outputs": [
    {
     "data": {
      "image/png": "[encoded data removed]",
      "text/plain": [
       "<Figure size 1200x600 with 1 Axes>"
      ]
     },
     "metadata": {},
     "output_type": "display_data"
    }
   ],
   "source": [
    "# Count the total units sold (assuming each row represents one unit sold)\n",
    "brand_units_summary = df['Brand'].value_counts().reset_index()\n",
    "brand_units_summary.columns = ['Brand', 'TotalUnitsSold']\n",
    "\n",
    "# Sort the data for better visualization\n",
    "brand_units_summary = brand_units_summary.sort_values(by='TotalUnitsSold', ascending=False)\n",
    "\n",
    "# Create a seaborn bar plot for total units sold by brand\n",
    "plt.figure(figsize=(12, 6))\n",
    "sns.barplot(data=brand_units_summary, x='Brand', y='TotalUnitsSold')\n",
    "plt.title('Total Units Sold for Each Brand')\n",
    "plt.xlabel('Brand')\n",
    "plt.ylabel('Total Units Sold')\n",
    "plt.xticks(rotation=45, ha='right')\n",
    "plt.tight_layout()\n",
    "plt.show()"
   ]
  },
  {
   "cell_type": "markdown",
   "id": "ccabe717",
   "metadata": {
    "papermill": {
     "duration": 0.017671,
     "end_time": "2024-11-27T15:15:43.344693",
     "exception": false,
     "start_time": "2024-11-27T15:15:43.327022",
     "status": "completed"
    },
    "tags": []
   },
   "source": [
    "Now we need to encode some of the features. First, we separate numerical and categorical columns."
   ]
  },
  {
   "cell_type": "code",
   "execution_count": 28,
   "id": "9ab59beb",
   "metadata": {
    "execution": {
     "iopub.execute_input": "2024-11-27T15:15:43.382996Z",
     "iopub.status.busy": "2024-11-27T15:15:43.382588Z",
     "iopub.status.idle": "2024-11-27T15:15:43.387601Z",
     "shell.execute_reply": "2024-11-27T15:15:43.386415Z"
    },
    "papermill": {
     "duration": 0.026405,
     "end_time": "2024-11-27T15:15:43.389683",
     "exception": false,
     "start_time": "2024-11-27T15:15:43.363278",
     "status": "completed"
    },
    "tags": []
   },
   "outputs": [],
   "source": [
    "numerical_features = ['Year', 'kmDriven']  \n",
    "categorical_features = ['Brand', 'Transmission', 'FuelType', 'Owner']\n"
   ]
  },
  {
   "cell_type": "markdown",
   "id": "faefd2c4",
   "metadata": {
    "papermill": {
     "duration": 0.017459,
     "end_time": "2024-11-27T15:15:43.425551",
     "exception": false,
     "start_time": "2024-11-27T15:15:43.408092",
     "status": "completed"
    },
    "tags": []
   },
   "source": [
    "Scale the numerical features."
   ]
  },
  {
   "cell_type": "code",
   "execution_count": 29,
   "id": "78bdd344",
   "metadata": {
    "execution": {
     "iopub.execute_input": "2024-11-27T15:15:43.462845Z",
     "iopub.status.busy": "2024-11-27T15:15:43.462419Z",
     "iopub.status.idle": "2024-11-27T15:15:43.478934Z",
     "shell.execute_reply": "2024-11-27T15:15:43.477682Z"
    },
    "papermill": {
     "duration": 0.038104,
     "end_time": "2024-11-27T15:15:43.481326",
     "exception": false,
     "start_time": "2024-11-27T15:15:43.443222",
     "status": "completed"
    },
    "tags": []
   },
   "outputs": [],
   "source": [
    "from sklearn.preprocessing import StandardScaler\n",
    "\n",
    "scaler = StandardScaler()\n",
    "X_scaled = scaler.fit_transform(X[numerical_features])\n",
    "X_scaled = pd.DataFrame(X_scaled, columns=numerical_features)\n",
    "\n",
    "# Combine scaled numerical features with categorical features\n",
    "X_scaled = pd.concat([X_scaled, X[categorical_features]], axis=1)"
   ]
  },
  {
   "cell_type": "code",
   "execution_count": 30,
   "id": "31d4d3a3",
   "metadata": {
    "execution": {
     "iopub.execute_input": "2024-11-27T15:15:43.520113Z",
     "iopub.status.busy": "2024-11-27T15:15:43.519683Z",
     "iopub.status.idle": "2024-11-27T15:15:43.551743Z",
     "shell.execute_reply": "2024-11-27T15:15:43.550579Z"
    },
    "papermill": {
     "duration": 0.05356,
     "end_time": "2024-11-27T15:15:43.554203",
     "exception": false,
     "start_time": "2024-11-27T15:15:43.500643",
     "status": "completed"
    },
    "tags": []
   },
   "outputs": [],
   "source": [
    "from sklearn.preprocessing import OneHotEncoder\n",
    "\n",
    "# Encode categorical features\n",
    "encoder = OneHotEncoder(sparse_output=False)\n",
    "X_encoded = encoder.fit_transform(X_scaled[categorical_features])\n",
    "\n",
    "# Convert the encoded features back to a DataFrame\n",
    "encoded_feature_names = encoder.get_feature_names_out(categorical_features)\n",
    "X_encoded = pd.DataFrame(X_encoded, columns=encoded_feature_names)\n",
    "\n",
    "# Combine numerical and encoded categorical features\n",
    "final_X = pd.concat([X_scaled[numerical_features], X_encoded], axis=1)"
   ]
  },
  {
   "cell_type": "code",
   "execution_count": 31,
   "id": "d5ac62b6",
   "metadata": {
    "execution": {
     "iopub.execute_input": "2024-11-27T15:15:43.592202Z",
     "iopub.status.busy": "2024-11-27T15:15:43.591804Z",
     "iopub.status.idle": "2024-11-27T15:15:43.620349Z",
     "shell.execute_reply": "2024-11-27T15:15:43.619104Z"
    },
    "papermill": {
     "duration": 0.050469,
     "end_time": "2024-11-27T15:15:43.622678",
     "exception": false,
     "start_time": "2024-11-27T15:15:43.572209",
     "status": "completed"
    },
    "tags": []
   },
   "outputs": [
    {
     "data": {
      "text/html": [
       "<div>\n",
       "<style scoped>\n",
       "    .dataframe tbody tr th:only-of-type {\n",
       "        vertical-align: middle;\n",
       "    }\n",
       "\n",
       "    .dataframe tbody tr th {\n",
       "        vertical-align: top;\n",
       "    }\n",
       "\n",
       "    .dataframe thead th {\n",
       "        text-align: right;\n",
       "    }\n",
       "</style>\n",
       "<table border=\"1\" class=\"dataframe\">\n",
       "  <thead>\n",
       "    <tr style=\"text-align: right;\">\n",
       "      <th></th>\n",
       "      <th>Year</th>\n",
       "      <th>kmDriven</th>\n",
       "      <th>Brand_0.0</th>\n",
       "      <th>Brand_1.0</th>\n",
       "      <th>Brand_2.0</th>\n",
       "      <th>Brand_3.0</th>\n",
       "      <th>Brand_4.0</th>\n",
       "      <th>Brand_5.0</th>\n",
       "      <th>Brand_6.0</th>\n",
       "      <th>Brand_7.0</th>\n",
       "      <th>...</th>\n",
       "      <th>Transmission_0.0</th>\n",
       "      <th>Transmission_1.0</th>\n",
       "      <th>Transmission_nan</th>\n",
       "      <th>FuelType_0.0</th>\n",
       "      <th>FuelType_1.0</th>\n",
       "      <th>FuelType_2.0</th>\n",
       "      <th>FuelType_nan</th>\n",
       "      <th>Owner_0.0</th>\n",
       "      <th>Owner_1.0</th>\n",
       "      <th>Owner_nan</th>\n",
       "    </tr>\n",
       "  </thead>\n",
       "  <tbody>\n",
       "    <tr>\n",
       "      <th>0</th>\n",
       "      <td>-3.776992</td>\n",
       "      <td>0.486525</td>\n",
       "      <td>1.0</td>\n",
       "      <td>0.0</td>\n",
       "      <td>0.0</td>\n",
       "      <td>0.0</td>\n",
       "      <td>0.0</td>\n",
       "      <td>0.0</td>\n",
       "      <td>0.0</td>\n",
       "      <td>0.0</td>\n",
       "      <td>...</td>\n",
       "      <td>1.0</td>\n",
       "      <td>0.0</td>\n",
       "      <td>0.0</td>\n",
       "      <td>1.0</td>\n",
       "      <td>0.0</td>\n",
       "      <td>0.0</td>\n",
       "      <td>0.0</td>\n",
       "      <td>1.0</td>\n",
       "      <td>0.0</td>\n",
       "      <td>0.0</td>\n",
       "    </tr>\n",
       "    <tr>\n",
       "      <th>1</th>\n",
       "      <td>-1.811813</td>\n",
       "      <td>2.120464</td>\n",
       "      <td>0.0</td>\n",
       "      <td>1.0</td>\n",
       "      <td>0.0</td>\n",
       "      <td>0.0</td>\n",
       "      <td>0.0</td>\n",
       "      <td>0.0</td>\n",
       "      <td>0.0</td>\n",
       "      <td>0.0</td>\n",
       "      <td>...</td>\n",
       "      <td>1.0</td>\n",
       "      <td>0.0</td>\n",
       "      <td>0.0</td>\n",
       "      <td>0.0</td>\n",
       "      <td>1.0</td>\n",
       "      <td>0.0</td>\n",
       "      <td>0.0</td>\n",
       "      <td>1.0</td>\n",
       "      <td>0.0</td>\n",
       "      <td>0.0</td>\n",
       "    </tr>\n",
       "    <tr>\n",
       "      <th>2</th>\n",
       "      <td>-1.566166</td>\n",
       "      <td>0.117930</td>\n",
       "      <td>0.0</td>\n",
       "      <td>0.0</td>\n",
       "      <td>1.0</td>\n",
       "      <td>0.0</td>\n",
       "      <td>0.0</td>\n",
       "      <td>0.0</td>\n",
       "      <td>0.0</td>\n",
       "      <td>0.0</td>\n",
       "      <td>...</td>\n",
       "      <td>1.0</td>\n",
       "      <td>0.0</td>\n",
       "      <td>0.0</td>\n",
       "      <td>0.0</td>\n",
       "      <td>1.0</td>\n",
       "      <td>0.0</td>\n",
       "      <td>0.0</td>\n",
       "      <td>0.0</td>\n",
       "      <td>1.0</td>\n",
       "      <td>0.0</td>\n",
       "    </tr>\n",
       "    <tr>\n",
       "      <th>3</th>\n",
       "      <td>0.153365</td>\n",
       "      <td>0.229002</td>\n",
       "      <td>0.0</td>\n",
       "      <td>0.0</td>\n",
       "      <td>0.0</td>\n",
       "      <td>1.0</td>\n",
       "      <td>0.0</td>\n",
       "      <td>0.0</td>\n",
       "      <td>0.0</td>\n",
       "      <td>0.0</td>\n",
       "      <td>...</td>\n",
       "      <td>1.0</td>\n",
       "      <td>0.0</td>\n",
       "      <td>0.0</td>\n",
       "      <td>0.0</td>\n",
       "      <td>1.0</td>\n",
       "      <td>0.0</td>\n",
       "      <td>0.0</td>\n",
       "      <td>1.0</td>\n",
       "      <td>0.0</td>\n",
       "      <td>0.0</td>\n",
       "    </tr>\n",
       "    <tr>\n",
       "      <th>4</th>\n",
       "      <td>0.644660</td>\n",
       "      <td>-0.454766</td>\n",
       "      <td>0.0</td>\n",
       "      <td>0.0</td>\n",
       "      <td>0.0</td>\n",
       "      <td>1.0</td>\n",
       "      <td>0.0</td>\n",
       "      <td>0.0</td>\n",
       "      <td>0.0</td>\n",
       "      <td>0.0</td>\n",
       "      <td>...</td>\n",
       "      <td>0.0</td>\n",
       "      <td>1.0</td>\n",
       "      <td>0.0</td>\n",
       "      <td>1.0</td>\n",
       "      <td>0.0</td>\n",
       "      <td>0.0</td>\n",
       "      <td>0.0</td>\n",
       "      <td>0.0</td>\n",
       "      <td>1.0</td>\n",
       "      <td>0.0</td>\n",
       "    </tr>\n",
       "  </tbody>\n",
       "</table>\n",
       "<p>5 rows × 51 columns</p>\n",
       "</div>"
      ],
      "text/plain": [
       "       Year  kmDriven  Brand_0.0  Brand_1.0  Brand_2.0  Brand_3.0  Brand_4.0  \\\n",
       "0 -3.776992  0.486525        1.0        0.0        0.0        0.0        0.0   \n",
       "1 -1.811813  2.120464        0.0        1.0        0.0        0.0        0.0   \n",
       "2 -1.566166  0.117930        0.0        0.0        1.0        0.0        0.0   \n",
       "3  0.153365  0.229002        0.0        0.0        0.0        1.0        0.0   \n",
       "4  0.644660 -0.454766        0.0        0.0        0.0        1.0        0.0   \n",
       "\n",
       "   Brand_5.0  Brand_6.0  Brand_7.0  ...  Transmission_0.0  Transmission_1.0  \\\n",
       "0        0.0        0.0        0.0  ...               1.0               0.0   \n",
       "1        0.0        0.0        0.0  ...               1.0               0.0   \n",
       "2        0.0        0.0        0.0  ...               1.0               0.0   \n",
       "3        0.0        0.0        0.0  ...               1.0               0.0   \n",
       "4        0.0        0.0        0.0  ...               0.0               1.0   \n",
       "\n",
       "   Transmission_nan  FuelType_0.0  FuelType_1.0  FuelType_2.0  FuelType_nan  \\\n",
       "0               0.0           1.0           0.0           0.0           0.0   \n",
       "1               0.0           0.0           1.0           0.0           0.0   \n",
       "2               0.0           0.0           1.0           0.0           0.0   \n",
       "3               0.0           0.0           1.0           0.0           0.0   \n",
       "4               0.0           1.0           0.0           0.0           0.0   \n",
       "\n",
       "   Owner_0.0  Owner_1.0  Owner_nan  \n",
       "0        1.0        0.0        0.0  \n",
       "1        1.0        0.0        0.0  \n",
       "2        0.0        1.0        0.0  \n",
       "3        1.0        0.0        0.0  \n",
       "4        0.0        1.0        0.0  \n",
       "\n",
       "[5 rows x 51 columns]"
      ]
     },
     "execution_count": 31,
     "metadata": {},
     "output_type": "execute_result"
    }
   ],
   "source": [
    "final_X.head()"
   ]
  },
  {
   "cell_type": "code",
   "execution_count": 32,
   "id": "549c3337",
   "metadata": {
    "execution": {
     "iopub.execute_input": "2024-11-27T15:15:43.661970Z",
     "iopub.status.busy": "2024-11-27T15:15:43.660916Z",
     "iopub.status.idle": "2024-11-27T15:15:43.676618Z",
     "shell.execute_reply": "2024-11-27T15:15:43.675067Z"
    },
    "papermill": {
     "duration": 0.0382,
     "end_time": "2024-11-27T15:15:43.679314",
     "exception": false,
     "start_time": "2024-11-27T15:15:43.641114",
     "status": "completed"
    },
    "tags": []
   },
   "outputs": [
    {
     "name": "stdout",
     "output_type": "stream",
     "text": [
      "<class 'pandas.core.frame.DataFrame'>\n",
      "Index: 9582 entries, 0 to 9563\n",
      "Data columns (total 51 columns):\n",
      " #   Column            Non-Null Count  Dtype  \n",
      "---  ------            --------------  -----  \n",
      " 0   Year              9535 non-null   float64\n",
      " 1   kmDriven          9535 non-null   float64\n",
      " 2   Brand_0.0         9581 non-null   float64\n",
      " 3   Brand_1.0         9581 non-null   float64\n",
      " 4   Brand_2.0         9581 non-null   float64\n",
      " 5   Brand_3.0         9581 non-null   float64\n",
      " 6   Brand_4.0         9581 non-null   float64\n",
      " 7   Brand_5.0         9581 non-null   float64\n",
      " 8   Brand_6.0         9581 non-null   float64\n",
      " 9   Brand_7.0         9581 non-null   float64\n",
      " 10  Brand_8.0         9581 non-null   float64\n",
      " 11  Brand_9.0         9581 non-null   float64\n",
      " 12  Brand_10.0        9581 non-null   float64\n",
      " 13  Brand_11.0        9581 non-null   float64\n",
      " 14  Brand_12.0        9581 non-null   float64\n",
      " 15  Brand_13.0        9581 non-null   float64\n",
      " 16  Brand_14.0        9581 non-null   float64\n",
      " 17  Brand_15.0        9581 non-null   float64\n",
      " 18  Brand_16.0        9581 non-null   float64\n",
      " 19  Brand_17.0        9581 non-null   float64\n",
      " 20  Brand_18.0        9581 non-null   float64\n",
      " 21  Brand_19.0        9581 non-null   float64\n",
      " 22  Brand_20.0        9581 non-null   float64\n",
      " 23  Brand_21.0        9581 non-null   float64\n",
      " 24  Brand_22.0        9581 non-null   float64\n",
      " 25  Brand_23.0        9581 non-null   float64\n",
      " 26  Brand_24.0        9581 non-null   float64\n",
      " 27  Brand_25.0        9581 non-null   float64\n",
      " 28  Brand_26.0        9581 non-null   float64\n",
      " 29  Brand_27.0        9581 non-null   float64\n",
      " 30  Brand_28.0        9581 non-null   float64\n",
      " 31  Brand_29.0        9581 non-null   float64\n",
      " 32  Brand_30.0        9581 non-null   float64\n",
      " 33  Brand_31.0        9581 non-null   float64\n",
      " 34  Brand_32.0        9581 non-null   float64\n",
      " 35  Brand_33.0        9581 non-null   float64\n",
      " 36  Brand_34.0        9581 non-null   float64\n",
      " 37  Brand_35.0        9581 non-null   float64\n",
      " 38  Brand_36.0        9581 non-null   float64\n",
      " 39  Brand_37.0        9581 non-null   float64\n",
      " 40  Brand_nan         9581 non-null   float64\n",
      " 41  Transmission_0.0  9581 non-null   float64\n",
      " 42  Transmission_1.0  9581 non-null   float64\n",
      " 43  Transmission_nan  9581 non-null   float64\n",
      " 44  FuelType_0.0      9581 non-null   float64\n",
      " 45  FuelType_1.0      9581 non-null   float64\n",
      " 46  FuelType_2.0      9581 non-null   float64\n",
      " 47  FuelType_nan      9581 non-null   float64\n",
      " 48  Owner_0.0         9581 non-null   float64\n",
      " 49  Owner_1.0         9581 non-null   float64\n",
      " 50  Owner_nan         9581 non-null   float64\n",
      "dtypes: float64(51)\n",
      "memory usage: 3.8 MB\n"
     ]
    }
   ],
   "source": [
    "final_X.info()"
   ]
  },
  {
   "cell_type": "code",
   "execution_count": 33,
   "id": "8f785838",
   "metadata": {
    "execution": {
     "iopub.execute_input": "2024-11-27T15:15:43.718445Z",
     "iopub.status.busy": "2024-11-27T15:15:43.718079Z",
     "iopub.status.idle": "2024-11-27T15:15:43.726453Z",
     "shell.execute_reply": "2024-11-27T15:15:43.725302Z"
    },
    "papermill": {
     "duration": 0.030564,
     "end_time": "2024-11-27T15:15:43.728564",
     "exception": false,
     "start_time": "2024-11-27T15:15:43.698000",
     "status": "completed"
    },
    "tags": []
   },
   "outputs": [
    {
     "data": {
      "text/plain": [
       "46.0"
      ]
     },
     "execution_count": 33,
     "metadata": {},
     "output_type": "execute_result"
    }
   ],
   "source": [
    "final_X['Transmission_nan'].sum()  # Ignores NaN by default"
   ]
  },
  {
   "cell_type": "code",
   "execution_count": 34,
   "id": "1af6e9ec",
   "metadata": {
    "execution": {
     "iopub.execute_input": "2024-11-27T15:15:43.768610Z",
     "iopub.status.busy": "2024-11-27T15:15:43.768150Z",
     "iopub.status.idle": "2024-11-27T15:15:43.782220Z",
     "shell.execute_reply": "2024-11-27T15:15:43.780897Z"
    },
    "papermill": {
     "duration": 0.036491,
     "end_time": "2024-11-27T15:15:43.784471",
     "exception": false,
     "start_time": "2024-11-27T15:15:43.747980",
     "status": "completed"
    },
    "tags": []
   },
   "outputs": [
    {
     "name": "stdout",
     "output_type": "stream",
     "text": [
      "<class 'pandas.core.frame.DataFrame'>\n",
      "Index: 9535 entries, 0 to 9581\n",
      "Data columns (total 10 columns):\n",
      " #   Column        Non-Null Count  Dtype\n",
      "---  ------        --------------  -----\n",
      " 0   Brand         9535 non-null   int64\n",
      " 1   model         9535 non-null   int64\n",
      " 2   Year          9535 non-null   int64\n",
      " 3   Age           9535 non-null   int64\n",
      " 4   kmDriven      9535 non-null   int64\n",
      " 5   Transmission  9535 non-null   int64\n",
      " 6   Owner         9535 non-null   int64\n",
      " 7   FuelType      9535 non-null   int64\n",
      " 8   PostedDate    9535 non-null   int64\n",
      " 9   AdditionInfo  9535 non-null   int64\n",
      "dtypes: int64(10)\n",
      "memory usage: 1.1 MB\n"
     ]
    }
   ],
   "source": [
    "X.info()"
   ]
  },
  {
   "cell_type": "code",
   "execution_count": 35,
   "id": "eb1469d8",
   "metadata": {
    "execution": {
     "iopub.execute_input": "2024-11-27T15:15:43.825282Z",
     "iopub.status.busy": "2024-11-27T15:15:43.824852Z",
     "iopub.status.idle": "2024-11-27T15:15:43.838917Z",
     "shell.execute_reply": "2024-11-27T15:15:43.837584Z"
    },
    "papermill": {
     "duration": 0.037511,
     "end_time": "2024-11-27T15:15:43.841451",
     "exception": false,
     "start_time": "2024-11-27T15:15:43.803940",
     "status": "completed"
    },
    "tags": []
   },
   "outputs": [
    {
     "name": "stdout",
     "output_type": "stream",
     "text": [
      "<class 'pandas.core.frame.DataFrame'>\n",
      "RangeIndex: 9581 entries, 0 to 9580\n",
      "Data columns (total 49 columns):\n",
      " #   Column            Non-Null Count  Dtype  \n",
      "---  ------            --------------  -----  \n",
      " 0   Brand_0.0         9581 non-null   float64\n",
      " 1   Brand_1.0         9581 non-null   float64\n",
      " 2   Brand_2.0         9581 non-null   float64\n",
      " 3   Brand_3.0         9581 non-null   float64\n",
      " 4   Brand_4.0         9581 non-null   float64\n",
      " 5   Brand_5.0         9581 non-null   float64\n",
      " 6   Brand_6.0         9581 non-null   float64\n",
      " 7   Brand_7.0         9581 non-null   float64\n",
      " 8   Brand_8.0         9581 non-null   float64\n",
      " 9   Brand_9.0         9581 non-null   float64\n",
      " 10  Brand_10.0        9581 non-null   float64\n",
      " 11  Brand_11.0        9581 non-null   float64\n",
      " 12  Brand_12.0        9581 non-null   float64\n",
      " 13  Brand_13.0        9581 non-null   float64\n",
      " 14  Brand_14.0        9581 non-null   float64\n",
      " 15  Brand_15.0        9581 non-null   float64\n",
      " 16  Brand_16.0        9581 non-null   float64\n",
      " 17  Brand_17.0        9581 non-null   float64\n",
      " 18  Brand_18.0        9581 non-null   float64\n",
      " 19  Brand_19.0        9581 non-null   float64\n",
      " 20  Brand_20.0        9581 non-null   float64\n",
      " 21  Brand_21.0        9581 non-null   float64\n",
      " 22  Brand_22.0        9581 non-null   float64\n",
      " 23  Brand_23.0        9581 non-null   float64\n",
      " 24  Brand_24.0        9581 non-null   float64\n",
      " 25  Brand_25.0        9581 non-null   float64\n",
      " 26  Brand_26.0        9581 non-null   float64\n",
      " 27  Brand_27.0        9581 non-null   float64\n",
      " 28  Brand_28.0        9581 non-null   float64\n",
      " 29  Brand_29.0        9581 non-null   float64\n",
      " 30  Brand_30.0        9581 non-null   float64\n",
      " 31  Brand_31.0        9581 non-null   float64\n",
      " 32  Brand_32.0        9581 non-null   float64\n",
      " 33  Brand_33.0        9581 non-null   float64\n",
      " 34  Brand_34.0        9581 non-null   float64\n",
      " 35  Brand_35.0        9581 non-null   float64\n",
      " 36  Brand_36.0        9581 non-null   float64\n",
      " 37  Brand_37.0        9581 non-null   float64\n",
      " 38  Brand_nan         9581 non-null   float64\n",
      " 39  Transmission_0.0  9581 non-null   float64\n",
      " 40  Transmission_1.0  9581 non-null   float64\n",
      " 41  Transmission_nan  9581 non-null   float64\n",
      " 42  FuelType_0.0      9581 non-null   float64\n",
      " 43  FuelType_1.0      9581 non-null   float64\n",
      " 44  FuelType_2.0      9581 non-null   float64\n",
      " 45  FuelType_nan      9581 non-null   float64\n",
      " 46  Owner_0.0         9581 non-null   float64\n",
      " 47  Owner_1.0         9581 non-null   float64\n",
      " 48  Owner_nan         9581 non-null   float64\n",
      "dtypes: float64(49)\n",
      "memory usage: 3.6 MB\n"
     ]
    }
   ],
   "source": [
    "X_encoded.info()"
   ]
  },
  {
   "cell_type": "code",
   "execution_count": 36,
   "id": "3b15236f",
   "metadata": {
    "execution": {
     "iopub.execute_input": "2024-11-27T15:15:43.881395Z",
     "iopub.status.busy": "2024-11-27T15:15:43.880978Z",
     "iopub.status.idle": "2024-11-27T15:15:43.888613Z",
     "shell.execute_reply": "2024-11-27T15:15:43.887424Z"
    },
    "papermill": {
     "duration": 0.030464,
     "end_time": "2024-11-27T15:15:43.890800",
     "exception": false,
     "start_time": "2024-11-27T15:15:43.860336",
     "status": "completed"
    },
    "tags": []
   },
   "outputs": [
    {
     "name": "stdout",
     "output_type": "stream",
     "text": [
      "(9535, 10)\n",
      "(9535, 4)\n",
      "(9581, 49)\n"
     ]
    }
   ],
   "source": [
    "print(X.shape)  # Original X\n",
    "print(X[categorical_features].shape)  # Subset with categorical features\n",
    "print(X_encoded.shape)  # Encoded data"
   ]
  },
  {
   "cell_type": "code",
   "execution_count": null,
   "id": "b98b8221",
   "metadata": {
    "papermill": {
     "duration": 0.018776,
     "end_time": "2024-11-27T15:15:43.929639",
     "exception": false,
     "start_time": "2024-11-27T15:15:43.910863",
     "status": "completed"
    },
    "tags": []
   },
   "outputs": [],
   "source": []
  }
 ],
 "metadata": {
  "kaggle": {
   "accelerator": "none",
   "dataSources": [
    {
     "datasetId": 6153826,
     "sourceId": 9998181,
     "sourceType": "datasetVersion"
    }
   ],
   "dockerImageVersionId": 30786,
   "isGpuEnabled": false,
   "isInternetEnabled": true,
   "language": "python",
   "sourceType": "notebook"
  },
  "kernelspec": {
   "display_name": "Python 3",
   "language": "python",
   "name": "python3"
  },
  "language_info": {
   "codemirror_mode": {
    "name": "ipython",
    "version": 3
   },
   "file_extension": ".py",
   "mimetype": "text/x-python",
   "name": "python",
   "nbconvert_exporter": "python",
   "pygments_lexer": "ipython3",
   "version": "3.10.14"
  },
  "papermill": {
   "default_parameters": {},
   "duration": 15.478868,
   "end_time": "2024-11-27T15:15:44.672827",
   "environment_variables": {},
   "exception": null,
   "input_path": "__notebook__.ipynb",
   "output_path": "__notebook__.ipynb",
   "parameters": {},
   "start_time": "2024-11-27T15:15:29.193959",
   "version": "2.6.0"
  }
 },
 "nbformat": 4,
 "nbformat_minor": 5
}
