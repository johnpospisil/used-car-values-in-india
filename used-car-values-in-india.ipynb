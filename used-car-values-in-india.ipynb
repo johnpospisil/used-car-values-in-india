{
 "cells": [
  {
   "cell_type": "code",
   "execution_count": 1,
   "id": "2769fb10",
   "metadata": {
    "_cell_guid": "b1076dfc-b9ad-4769-8c92-a6c4dae69d19",
    "_uuid": "8f2839f25d086af736a60e9eeb907d3b93b6e0e5",
    "execution": {
     "iopub.execute_input": "2024-11-25T16:56:11.447397Z",
     "iopub.status.busy": "2024-11-25T16:56:11.447026Z",
     "iopub.status.idle": "2024-11-25T16:56:12.515781Z",
     "shell.execute_reply": "2024-11-25T16:56:12.514562Z"
    },
    "papermill": {
     "duration": 1.080034,
     "end_time": "2024-11-25T16:56:12.519287",
     "exception": false,
     "start_time": "2024-11-25T16:56:11.439253",
     "status": "completed"
    },
    "tags": []
   },
   "outputs": [
    {
     "name": "stdout",
     "output_type": "stream",
     "text": [
      "/kaggle/input/used-car-dataset/used_car_dataset.csv\n"
     ]
    }
   ],
   "source": [
    "# This Python 3 environment comes with many helpful analytics libraries installed\n",
    "# It is defined by the kaggle/python Docker image: https://github.com/kaggle/docker-python\n",
    "# For example, here's several helpful packages to load\n",
    "\n",
    "import numpy as np # linear algebra\n",
    "import pandas as pd # data processing, CSV file I/O (e.g. pd.read_csv)\n",
    "\n",
    "# Input data files are available in the read-only \"../input/\" directory\n",
    "# For example, running this (by clicking run or pressing Shift+Enter) will list all files under the input directory\n",
    "\n",
    "import os\n",
    "for dirname, _, filenames in os.walk('/kaggle/input'):\n",
    "    for filename in filenames:\n",
    "        print(os.path.join(dirname, filename))\n",
    "\n",
    "# You can write up to 20GB to the current directory (/kaggle/working/) that gets preserved as output when you create a version using \"Save & Run All\" \n",
    "# You can also write temporary files to /kaggle/temp/, but they won't be saved outside of the current session"
   ]
  },
  {
   "cell_type": "markdown",
   "id": "82d153cf",
   "metadata": {
    "papermill": {
     "duration": 0.005323,
     "end_time": "2024-11-25T16:56:12.531033",
     "exception": false,
     "start_time": "2024-11-25T16:56:12.525710",
     "status": "completed"
    },
    "tags": []
   },
   "source": [
    "Load the dataset and look at the first few rows of data."
   ]
  },
  {
   "cell_type": "code",
   "execution_count": 2,
   "id": "5a2e770a",
   "metadata": {
    "execution": {
     "iopub.execute_input": "2024-11-25T16:56:12.543915Z",
     "iopub.status.busy": "2024-11-25T16:56:12.543349Z",
     "iopub.status.idle": "2024-11-25T16:56:12.624176Z",
     "shell.execute_reply": "2024-11-25T16:56:12.623164Z"
    },
    "papermill": {
     "duration": 0.089672,
     "end_time": "2024-11-25T16:56:12.626285",
     "exception": false,
     "start_time": "2024-11-25T16:56:12.536613",
     "status": "completed"
    },
    "tags": []
   },
   "outputs": [
    {
     "data": {
      "text/html": [
       "<div>\n",
       "<style scoped>\n",
       "    .dataframe tbody tr th:only-of-type {\n",
       "        vertical-align: middle;\n",
       "    }\n",
       "\n",
       "    .dataframe tbody tr th {\n",
       "        vertical-align: top;\n",
       "    }\n",
       "\n",
       "    .dataframe thead th {\n",
       "        text-align: right;\n",
       "    }\n",
       "</style>\n",
       "<table border=\"1\" class=\"dataframe\">\n",
       "  <thead>\n",
       "    <tr style=\"text-align: right;\">\n",
       "      <th></th>\n",
       "      <th>Brand</th>\n",
       "      <th>model</th>\n",
       "      <th>Year</th>\n",
       "      <th>Age</th>\n",
       "      <th>kmDriven</th>\n",
       "      <th>Transmission</th>\n",
       "      <th>Owner</th>\n",
       "      <th>FuelType</th>\n",
       "      <th>PostedDate</th>\n",
       "      <th>AdditionInfo</th>\n",
       "      <th>AskPrice</th>\n",
       "    </tr>\n",
       "  </thead>\n",
       "  <tbody>\n",
       "    <tr>\n",
       "      <th>0</th>\n",
       "      <td>Honda</td>\n",
       "      <td>City</td>\n",
       "      <td>2001</td>\n",
       "      <td>23</td>\n",
       "      <td>98,000 km</td>\n",
       "      <td>Manual</td>\n",
       "      <td>second</td>\n",
       "      <td>Petrol</td>\n",
       "      <td>Nov-24</td>\n",
       "      <td>Honda City v teck in mint condition, valid gen...</td>\n",
       "      <td>₹ 1,95,000</td>\n",
       "    </tr>\n",
       "    <tr>\n",
       "      <th>1</th>\n",
       "      <td>Toyota</td>\n",
       "      <td>Innova</td>\n",
       "      <td>2009</td>\n",
       "      <td>15</td>\n",
       "      <td>190000.0 km</td>\n",
       "      <td>Manual</td>\n",
       "      <td>second</td>\n",
       "      <td>Diesel</td>\n",
       "      <td>Jul-24</td>\n",
       "      <td>Toyota Innova 2.5 G (Diesel) 7 Seater, 2009, D...</td>\n",
       "      <td>₹ 3,75,000</td>\n",
       "    </tr>\n",
       "    <tr>\n",
       "      <th>2</th>\n",
       "      <td>Volkswagen</td>\n",
       "      <td>VentoTest</td>\n",
       "      <td>2010</td>\n",
       "      <td>14</td>\n",
       "      <td>77,246 km</td>\n",
       "      <td>Manual</td>\n",
       "      <td>first</td>\n",
       "      <td>Diesel</td>\n",
       "      <td>Nov-24</td>\n",
       "      <td>Volkswagen Vento 2010-2013 Diesel Breeze, 2010...</td>\n",
       "      <td>₹ 1,84,999</td>\n",
       "    </tr>\n",
       "    <tr>\n",
       "      <th>3</th>\n",
       "      <td>Maruti Suzuki</td>\n",
       "      <td>Swift</td>\n",
       "      <td>2017</td>\n",
       "      <td>7</td>\n",
       "      <td>83,500 km</td>\n",
       "      <td>Manual</td>\n",
       "      <td>second</td>\n",
       "      <td>Diesel</td>\n",
       "      <td>Nov-24</td>\n",
       "      <td>Maruti Suzuki Swift 2017 Diesel Good Condition</td>\n",
       "      <td>₹ 5,65,000</td>\n",
       "    </tr>\n",
       "    <tr>\n",
       "      <th>4</th>\n",
       "      <td>Maruti Suzuki</td>\n",
       "      <td>Baleno</td>\n",
       "      <td>2019</td>\n",
       "      <td>5</td>\n",
       "      <td>45,000 km</td>\n",
       "      <td>Automatic</td>\n",
       "      <td>first</td>\n",
       "      <td>Petrol</td>\n",
       "      <td>Nov-24</td>\n",
       "      <td>Maruti Suzuki Baleno Alpha CVT, 2019, Petrol</td>\n",
       "      <td>₹ 6,85,000</td>\n",
       "    </tr>\n",
       "  </tbody>\n",
       "</table>\n",
       "</div>"
      ],
      "text/plain": [
       "           Brand      model  Year  Age     kmDriven Transmission   Owner  \\\n",
       "0          Honda       City  2001   23    98,000 km       Manual  second   \n",
       "1         Toyota     Innova  2009   15  190000.0 km       Manual  second   \n",
       "2     Volkswagen  VentoTest  2010   14    77,246 km       Manual   first   \n",
       "3  Maruti Suzuki      Swift  2017    7    83,500 km       Manual  second   \n",
       "4  Maruti Suzuki     Baleno  2019    5    45,000 km    Automatic   first   \n",
       "\n",
       "  FuelType PostedDate                                       AdditionInfo  \\\n",
       "0   Petrol     Nov-24  Honda City v teck in mint condition, valid gen...   \n",
       "1   Diesel     Jul-24  Toyota Innova 2.5 G (Diesel) 7 Seater, 2009, D...   \n",
       "2   Diesel     Nov-24  Volkswagen Vento 2010-2013 Diesel Breeze, 2010...   \n",
       "3   Diesel     Nov-24     Maruti Suzuki Swift 2017 Diesel Good Condition   \n",
       "4   Petrol     Nov-24       Maruti Suzuki Baleno Alpha CVT, 2019, Petrol   \n",
       "\n",
       "     AskPrice  \n",
       "0  ₹ 1,95,000  \n",
       "1  ₹ 3,75,000  \n",
       "2  ₹ 1,84,999  \n",
       "3  ₹ 5,65,000  \n",
       "4  ₹ 6,85,000  "
      ]
     },
     "execution_count": 2,
     "metadata": {},
     "output_type": "execute_result"
    }
   ],
   "source": [
    "df = pd.read_csv('/kaggle/input/used-car-dataset/used_car_dataset.csv')\n",
    "df.head()"
   ]
  },
  {
   "cell_type": "markdown",
   "id": "f8e455ec",
   "metadata": {
    "papermill": {
     "duration": 0.005423,
     "end_time": "2024-11-25T16:56:12.637716",
     "exception": false,
     "start_time": "2024-11-25T16:56:12.632293",
     "status": "completed"
    },
    "tags": []
   },
   "source": [
    "Let's see the total number of rows and columns."
   ]
  },
  {
   "cell_type": "code",
   "execution_count": 3,
   "id": "da0419cd",
   "metadata": {
    "execution": {
     "iopub.execute_input": "2024-11-25T16:56:12.651375Z",
     "iopub.status.busy": "2024-11-25T16:56:12.651007Z",
     "iopub.status.idle": "2024-11-25T16:56:12.657256Z",
     "shell.execute_reply": "2024-11-25T16:56:12.656260Z"
    },
    "papermill": {
     "duration": 0.015046,
     "end_time": "2024-11-25T16:56:12.659267",
     "exception": false,
     "start_time": "2024-11-25T16:56:12.644221",
     "status": "completed"
    },
    "tags": []
   },
   "outputs": [
    {
     "data": {
      "text/plain": [
       "(9582, 11)"
      ]
     },
     "execution_count": 3,
     "metadata": {},
     "output_type": "execute_result"
    }
   ],
   "source": [
    "df.shape"
   ]
  },
  {
   "cell_type": "markdown",
   "id": "cf3628ea",
   "metadata": {
    "papermill": {
     "duration": 0.005374,
     "end_time": "2024-11-25T16:56:12.670417",
     "exception": false,
     "start_time": "2024-11-25T16:56:12.665043",
     "status": "completed"
    },
    "tags": []
   },
   "source": [
    "Let's see if we have any missing values in this table."
   ]
  },
  {
   "cell_type": "code",
   "execution_count": 4,
   "id": "37b09ec2",
   "metadata": {
    "execution": {
     "iopub.execute_input": "2024-11-25T16:56:12.684938Z",
     "iopub.status.busy": "2024-11-25T16:56:12.683913Z",
     "iopub.status.idle": "2024-11-25T16:56:12.716775Z",
     "shell.execute_reply": "2024-11-25T16:56:12.715623Z"
    },
    "papermill": {
     "duration": 0.04284,
     "end_time": "2024-11-25T16:56:12.719167",
     "exception": false,
     "start_time": "2024-11-25T16:56:12.676327",
     "status": "completed"
    },
    "tags": []
   },
   "outputs": [
    {
     "name": "stdout",
     "output_type": "stream",
     "text": [
      "<class 'pandas.core.frame.DataFrame'>\n",
      "RangeIndex: 9582 entries, 0 to 9581\n",
      "Data columns (total 11 columns):\n",
      " #   Column        Non-Null Count  Dtype \n",
      "---  ------        --------------  ----- \n",
      " 0   Brand         9582 non-null   object\n",
      " 1   model         9582 non-null   object\n",
      " 2   Year          9582 non-null   int64 \n",
      " 3   Age           9582 non-null   int64 \n",
      " 4   kmDriven      9535 non-null   object\n",
      " 5   Transmission  9582 non-null   object\n",
      " 6   Owner         9582 non-null   object\n",
      " 7   FuelType      9582 non-null   object\n",
      " 8   PostedDate    9582 non-null   object\n",
      " 9   AdditionInfo  9582 non-null   object\n",
      " 10  AskPrice      9582 non-null   object\n",
      "dtypes: int64(2), object(9)\n",
      "memory usage: 823.6+ KB\n"
     ]
    }
   ],
   "source": [
    "df.info()       # Information about columns, data types, and non-null counts"
   ]
  },
  {
   "cell_type": "markdown",
   "id": "c926c600",
   "metadata": {
    "papermill": {
     "duration": 0.0056,
     "end_time": "2024-11-25T16:56:12.731503",
     "exception": false,
     "start_time": "2024-11-25T16:56:12.725903",
     "status": "completed"
    },
    "tags": []
   },
   "source": [
    "All of the features except 'kmDriven' are complete."
   ]
  },
  {
   "cell_type": "code",
   "execution_count": 5,
   "id": "d44b3253",
   "metadata": {
    "execution": {
     "iopub.execute_input": "2024-11-25T16:56:12.745385Z",
     "iopub.status.busy": "2024-11-25T16:56:12.744378Z",
     "iopub.status.idle": "2024-11-25T16:56:12.751224Z",
     "shell.execute_reply": "2024-11-25T16:56:12.750101Z"
    },
    "papermill": {
     "duration": 0.016773,
     "end_time": "2024-11-25T16:56:12.754186",
     "exception": false,
     "start_time": "2024-11-25T16:56:12.737413",
     "status": "completed"
    },
    "tags": []
   },
   "outputs": [
    {
     "name": "stdout",
     "output_type": "stream",
     "text": [
      "The kmDriven feature is missing 47 values\n"
     ]
    }
   ],
   "source": [
    "# Count missing values in 'kmDriven'\n",
    "missing_values = df.kmDriven.isna().sum()\n",
    "\n",
    "# Display the result\n",
    "print(f'The kmDriven feature is missing {missing_values} values')"
   ]
  },
  {
   "cell_type": "markdown",
   "id": "70b59352",
   "metadata": {
    "papermill": {
     "duration": 0.005626,
     "end_time": "2024-11-25T16:56:12.765933",
     "exception": false,
     "start_time": "2024-11-25T16:56:12.760307",
     "status": "completed"
    },
    "tags": []
   },
   "source": [
    "Let's see the rows with missing kmDriven and see if we can spot any similarities between the entries."
   ]
  },
  {
   "cell_type": "code",
   "execution_count": 6,
   "id": "3a36bf25",
   "metadata": {
    "execution": {
     "iopub.execute_input": "2024-11-25T16:56:12.779419Z",
     "iopub.status.busy": "2024-11-25T16:56:12.779049Z",
     "iopub.status.idle": "2024-11-25T16:56:12.796686Z",
     "shell.execute_reply": "2024-11-25T16:56:12.795499Z"
    },
    "papermill": {
     "duration": 0.027275,
     "end_time": "2024-11-25T16:56:12.799176",
     "exception": false,
     "start_time": "2024-11-25T16:56:12.771901",
     "status": "completed"
    },
    "tags": []
   },
   "outputs": [
    {
     "name": "stdout",
     "output_type": "stream",
     "text": [
      "              Brand              model  Year  Age kmDriven Transmission  \\\n",
      "231   Maruti Suzuki           Alto-800  2019    5      NaN       Manual   \n",
      "353          Toyota             Innova  2016    8      NaN       Manual   \n",
      "444           Honda            City ZX  2024    0      NaN    Automatic   \n",
      "476         Hyundai        Santro Xing  2010   14      NaN    Automatic   \n",
      "608          Toyota              Etios  2012   12      NaN       Manual   \n",
      "793           Skoda             Kushaq  2010   14      NaN    Automatic   \n",
      "976        Mahindra    Bolero Neo Plus  2015    9      NaN    Automatic   \n",
      "1164       Mahindra         Bolero Neo  2023    1      NaN       Manual   \n",
      "1199           Tata             Indica  2014   10      NaN       Manual   \n",
      "1413        Hyundai        Santro Xing  2007   17      NaN       Manual   \n",
      "1978           Tata          Tiago Nrg  2021    3      NaN    Automatic   \n",
      "2680  Maruti Suzuki         Zen-Estilo  2008   16      NaN    Automatic   \n",
      "2847  Maruti Suzuki           S-Presso  2021    3      NaN    Automatic   \n",
      "3009  Maruti Suzuki             Baleno  2018    6      NaN       Manual   \n",
      "3361     Ambassador         Ambassador  2008   16      NaN       Manual   \n",
      "3418          Honda               City  2001   23      NaN       Manual   \n",
      "3749       Mahindra  Bolero Power Plus  2015    9      NaN    Automatic   \n",
      "3869  Maruti Suzuki             Esteem  2007   17      NaN       Manual   \n",
      "3922  Maruti Suzuki               Omni  2008   16      NaN       Manual   \n",
      "4192           ICML           Rhino Rx  2010   14      NaN       Manual   \n",
      "4937         Toyota             Innova  2014   10      NaN       Manual   \n",
      "5056  Maruti Suzuki        Swift-Dzire  2011   13      NaN       Manual   \n",
      "5074        Hyundai          Grand i10  2019    5      NaN       Manual   \n",
      "5180           Tata              Tiago  2018    6      NaN    Automatic   \n",
      "5398  Maruti Suzuki        Swift-Dzire  2014   10      NaN       Manual   \n",
      "5690  Maruti Suzuki              Swift  2007   17      NaN    Automatic   \n",
      "5762        Renault               KWID  2019    5      NaN    Automatic   \n",
      "5953  Maruti Suzuki          Baleno-RS  2017    7      NaN       Manual   \n",
      "5971  Maruti Suzuki               Eeco  2019    5      NaN    Automatic   \n",
      "6003           Tata          Indigo Cs  2016    8      NaN    Automatic   \n",
      "6384  Maruti Suzuki            Wagon-R  2010   14      NaN    Automatic   \n",
      "6718        Hyundai               Aura  2022    2      NaN    Automatic   \n",
      "6749  Maruti Suzuki             Brezza  2023    1      NaN    Automatic   \n",
      "7023         Toyota              Etios  2013   11      NaN    Automatic   \n",
      "7076  Maruti Suzuki        Swift-Dzire  2013   11      NaN       Manual   \n",
      "7242  Maruti Suzuki         Zen-Estilo  1998   26      NaN       Manual   \n",
      "7867  Maruti Suzuki               Eeco  2015    9      NaN    Automatic   \n",
      "7904  Maruti Suzuki            Wagon-R  2015    9      NaN       Manual   \n",
      "8039     Volkswagen              Jetta  2013   11      NaN       Manual   \n",
      "8238           Tata               Nano  2015    9      NaN       Manual   \n",
      "8361  Maruti Suzuki               Alto  2005   19      NaN       Manual   \n",
      "8591  Maruti Suzuki               Eeco  2015    9      NaN    Automatic   \n",
      "8851        Hyundai          Elite i20  2019    5      NaN       Manual   \n",
      "9015          Honda             Accord  2007   17      NaN    Automatic   \n",
      "9105  Maruti Suzuki                800  2004   20      NaN    Automatic   \n",
      "9178        Hyundai        Santro Xing  2007   17      NaN       Manual   \n",
      "9563  Maruti Suzuki               Eeco  2015    9      NaN       Manual   \n",
      "\n",
      "       Owner    FuelType PostedDate  \\\n",
      "231    first      Petrol     Nov-24   \n",
      "353   second      Diesel     Nov-24   \n",
      "444    first      Petrol     Nov-24   \n",
      "476   second      Petrol     Nov-24   \n",
      "608   second      Diesel     Nov-24   \n",
      "793    first      Petrol     Nov-24   \n",
      "976    first      Diesel     Nov-24   \n",
      "1164   first      Diesel     Nov-24   \n",
      "1199   first      Diesel     Nov-24   \n",
      "1413  second      Petrol     Nov-24   \n",
      "1978   first      Petrol     Nov-24   \n",
      "2680  second      Petrol     Nov-24   \n",
      "2847   first      Petrol     Nov-24   \n",
      "3009   first      Petrol     Nov-24   \n",
      "3361   first      Diesel     Nov-24   \n",
      "3418  second      Petrol     Nov-24   \n",
      "3749  second      Diesel     Nov-24   \n",
      "3869  second  Hybrid/CNG     Nov-24   \n",
      "3922  second  Hybrid/CNG     Nov-24   \n",
      "4192  second      Diesel     Nov-24   \n",
      "4937  second      Diesel     Nov-24   \n",
      "5056  second      Petrol     Nov-24   \n",
      "5074   first      Petrol     Nov-24   \n",
      "5180  second  Hybrid/CNG     Nov-24   \n",
      "5398  second      Diesel     Nov-24   \n",
      "5690  second  Hybrid/CNG     Nov-24   \n",
      "5762  second  Hybrid/CNG     Nov-24   \n",
      "5953   first      Petrol     Nov-24   \n",
      "5971  second  Hybrid/CNG     Nov-24   \n",
      "6003   first  Hybrid/CNG     Oct-24   \n",
      "6384   first  Hybrid/CNG     Nov-24   \n",
      "6718   first  Hybrid/CNG     Nov-24   \n",
      "6749   first  Hybrid/CNG     Nov-24   \n",
      "7023  second      Petrol     Nov-24   \n",
      "7076  second      Diesel     Nov-24   \n",
      "7242  second      Petrol     Nov-24   \n",
      "7867  second  Hybrid/CNG     Nov-24   \n",
      "7904  second  Hybrid/CNG     Nov-24   \n",
      "8039  second      Diesel     Nov-24   \n",
      "8238  second      Petrol     Nov-24   \n",
      "8361  second      Petrol     Nov-24   \n",
      "8591  second  Hybrid/CNG     Nov-24   \n",
      "8851   first      Petrol     Nov-24   \n",
      "9015  second  Hybrid/CNG     Nov-24   \n",
      "9105  second      Petrol     Nov-24   \n",
      "9178  second      Petrol     Nov-24   \n",
      "9563  second  Hybrid/CNG     Nov-24   \n",
      "\n",
      "                                           AdditionInfo     AskPrice  \n",
      "231                              Maruti Suzuki Alto 800   ₹ 3,00,000  \n",
      "353                     Toyota Innova 2016 model Diesel   ₹ 8,60,000  \n",
      "444                                          Honda City  ₹ 15,50,000  \n",
      "476                            Hyundai Santro Xing 2010   ₹ 1,20,000  \n",
      "608                  Toyota Etios Diesel Good Condition   ₹ 3,30,000  \n",
      "793   Car will have perfect condition,negotiation ar...   ₹ 4,00,000  \n",
      "976                       Mahindra Bolero Neo Plus 2015   ₹ 4,50,000  \n",
      "1164                    Mahindra Bolero Neo 2023 Diesel  ₹ 10,00,000  \n",
      "1199                                       Good running   ₹ 2,50,000  \n",
      "1413     Hyundai Santro Xing 2007 Petrol Good Condition   ₹ 1,48,000  \n",
      "1978     Tata Tiago NRG 2021Last Petrol Well Maintained   ₹ 4,30,000  \n",
      "2680                             Renuw RR validity 2028   ₹ 1,80,000  \n",
      "2847                             Maruti Suzuki S-Presso   ₹ 4,25,000  \n",
      "3009                          Maruti Suzuki Baleno 2018   ₹ 4,85,000  \n",
      "3361  Ambassador Ambassador 2008 Diesel Well Maintained   ₹ 1,50,000  \n",
      "3418  Honda City 2001 Petrol with CNG for immediate ...     ₹ 55,000  \n",
      "3749  Mahindra Bolero Power Plus 2015 Diesel Good Co...   ₹ 4,50,000  \n",
      "3869  Maruti Suzuki Esteem 2007 CNG & Hybrids Good C...   ₹ 1,00,000  \n",
      "3922                                       Sell for car     ₹ 51,786  \n",
      "4192          ICML Rhino Rx 2010 Diesel Well Maintained   ₹ 1,95,000  \n",
      "4937                                 Toyota Innova 2014  ₹ 10,50,000  \n",
      "5056  Maruti Suzuki Swift Dzire 2011 Petrol Well Mai...   ₹ 3,50,000  \n",
      "5074      Hyundai Grand i10 2019 Petrol Well Maintained   ₹ 5,50,000  \n",
      "5180                      Tata Tiago 2018 CNG & Hybrids   ₹ 4,20,000  \n",
      "5398                     Maruti Suzuki Swift Dzire 2014   ₹ 4,10,000  \n",
      "5690             Maruti Suzuki Swift 2007 CNG & Hybrids   ₹ 1,18,000  \n",
      "5762                   CNG car with GPS  good condition   ₹ 3,10,000  \n",
      "5953                Maruti Suzuki Baleno RS 2017 Petrol   ₹ 4,70,000  \n",
      "5971                          CNG bahar se lagi Hui hai   ₹ 4,50,000  \n",
      "6003                         Tata Indigo CS 2016 Petrol   ₹ 1,60,000  \n",
      "6384           Maruti Suzuki Wagon R 2010 CNG & Hybrids     ₹ 95,000  \n",
      "6718    Hyundai Aura 2022 CNG & Hybrids Well Maintained   ₹ 7,80,000  \n",
      "6749                             Toli  becani  h urgent   ₹ 1,50,000  \n",
      "7023             Etios v 2013 modal didwana sell 320000   ₹ 3,20,000  \n",
      "7076              Maruti Suzuki Swift Dzire 2013 Diesel   ₹ 2,45,000  \n",
      "7242  Zen 1998 model,insurence renewed,test in 2025 ...     ₹ 27,000  \n",
      "7867                                  ecco7 full okay h   ₹ 2,60,000  \n",
      "7904                         Maruti Suzuki Wagon R 2015   ₹ 2,15,000  \n",
      "8039        Volkswagen Jetta 2013 Diesel Good Condition   ₹ 3,10,000  \n",
      "8238                      Tata Nano 2015 Good Condition   ₹ 1,14,999  \n",
      "8361      Maruti Suzuki Alto 2005 Petrol Good Condition     ₹ 40,000  \n",
      "8591                                  ecco7 full okay h   ₹ 2,60,000  \n",
      "8851      Hyundai Elite i20 2019 Petrol Well Maintained   ₹ 4,75,000  \n",
      "9015                    Honda Accord 2007 CNG & Hybrids   ₹ 1,35,000  \n",
      "9105                      Maruti Suzuki 800 2004 Petrol     ₹ 60,000  \n",
      "9178                                Well maintained car     ₹ 90,000  \n",
      "9563  Maruti Suzuki Eeco 2015 CNG & Hybrids Well Mai...   ₹ 3,20,000  \n"
     ]
    }
   ],
   "source": [
    "# Show rows where column kmDriven has missing values\n",
    "rows_with_missing = df[df['kmDriven'].isna()]\n",
    "\n",
    "# Display the result\n",
    "print(rows_with_missing)"
   ]
  },
  {
   "cell_type": "markdown",
   "id": "b8bed94b",
   "metadata": {
    "papermill": {
     "duration": 0.005856,
     "end_time": "2024-11-25T16:56:12.811638",
     "exception": false,
     "start_time": "2024-11-25T16:56:12.805782",
     "status": "completed"
    },
    "tags": []
   },
   "source": [
    "I'm seeing a lot of 'Maruti Suzuki' entries. I wonder how common this Brand is in India? There are a few rows with this value for Brand in the rows with missing prices. Let's see how many rows have 'Maruti Suzuki' as the Brand in the whole dataset."
   ]
  },
  {
   "cell_type": "code",
   "execution_count": 7,
   "id": "438d2677",
   "metadata": {
    "execution": {
     "iopub.execute_input": "2024-11-25T16:56:12.825763Z",
     "iopub.status.busy": "2024-11-25T16:56:12.825354Z",
     "iopub.status.idle": "2024-11-25T16:56:12.833410Z",
     "shell.execute_reply": "2024-11-25T16:56:12.832367Z"
    },
    "papermill": {
     "duration": 0.017427,
     "end_time": "2024-11-25T16:56:12.835552",
     "exception": false,
     "start_time": "2024-11-25T16:56:12.818125",
     "status": "completed"
    },
    "tags": []
   },
   "outputs": [
    {
     "data": {
      "text/plain": [
       "2720"
      ]
     },
     "execution_count": 7,
     "metadata": {},
     "output_type": "execute_result"
    }
   ],
   "source": [
    "# Count rows where model has the value \"Maruti Suzuki\"\n",
    "rows_count = (df['Brand'] == 'Maruti Suzuki').sum()\n",
    "rows_count"
   ]
  },
  {
   "cell_type": "markdown",
   "id": "5df929fc",
   "metadata": {
    "papermill": {
     "duration": 0.006048,
     "end_time": "2024-11-25T16:56:12.848005",
     "exception": false,
     "start_time": "2024-11-25T16:56:12.841957",
     "status": "completed"
    },
    "tags": []
   },
   "source": [
    "OK! That's a lot more than I expected. I don't think we need to worry too much about the large representation of 'Maruti Suzuki' branded cars in the rows with missing prices."
   ]
  },
  {
   "cell_type": "markdown",
   "id": "d9ea394f",
   "metadata": {
    "papermill": {
     "duration": 0.005903,
     "end_time": "2024-11-25T16:56:12.860130",
     "exception": false,
     "start_time": "2024-11-25T16:56:12.854227",
     "status": "completed"
    },
    "tags": []
   },
   "source": [
    "Next Let's fill in those missing data with the average mileage based on the Age of the car."
   ]
  },
  {
   "cell_type": "markdown",
   "id": "81e16c81",
   "metadata": {
    "papermill": {
     "duration": 0.005754,
     "end_time": "2024-11-25T16:56:12.872050",
     "exception": false,
     "start_time": "2024-11-25T16:56:12.866296",
     "status": "completed"
    },
    "tags": []
   },
   "source": [
    "First we need to convert the AskPrice to integers."
   ]
  },
  {
   "cell_type": "code",
   "execution_count": 8,
   "id": "4f358335",
   "metadata": {
    "execution": {
     "iopub.execute_input": "2024-11-25T16:56:12.886645Z",
     "iopub.status.busy": "2024-11-25T16:56:12.885536Z",
     "iopub.status.idle": "2024-11-25T16:56:12.901107Z",
     "shell.execute_reply": "2024-11-25T16:56:12.899790Z"
    },
    "papermill": {
     "duration": 0.024897,
     "end_time": "2024-11-25T16:56:12.903020",
     "exception": false,
     "start_time": "2024-11-25T16:56:12.878123",
     "status": "completed"
    },
    "tags": []
   },
   "outputs": [],
   "source": [
    "# Convert the AskPrice column to numeric values\n",
    "df[\"AskPrice\"] = (\n",
    "    df[\"AskPrice\"]  # Original column\n",
    "    .str.replace(\"₹\", \"\", regex=False)  # Remove the currency symbol\n",
    "    .str.replace(\",\", \"\")  # Remove commas\n",
    "    .astype(int)  # Convert to integer\n",
    ")"
   ]
  },
  {
   "cell_type": "code",
   "execution_count": 9,
   "id": "a9fd6cc3",
   "metadata": {
    "execution": {
     "iopub.execute_input": "2024-11-25T16:56:12.918401Z",
     "iopub.status.busy": "2024-11-25T16:56:12.917536Z",
     "iopub.status.idle": "2024-11-25T16:56:12.925531Z",
     "shell.execute_reply": "2024-11-25T16:56:12.924441Z"
    },
    "papermill": {
     "duration": 0.018185,
     "end_time": "2024-11-25T16:56:12.927638",
     "exception": false,
     "start_time": "2024-11-25T16:56:12.909453",
     "status": "completed"
    },
    "tags": []
   },
   "outputs": [
    {
     "data": {
      "text/plain": [
       "Brand           object\n",
       "model           object\n",
       "Year             int64\n",
       "Age              int64\n",
       "kmDriven        object\n",
       "Transmission    object\n",
       "Owner           object\n",
       "FuelType        object\n",
       "PostedDate      object\n",
       "AdditionInfo    object\n",
       "AskPrice         int64\n",
       "dtype: object"
      ]
     },
     "execution_count": 9,
     "metadata": {},
     "output_type": "execute_result"
    }
   ],
   "source": [
    "# df[\"Age\"] = df[\"Age\"].astype(\"object\")\n",
    "df.dtypes"
   ]
  },
  {
   "cell_type": "code",
   "execution_count": 10,
   "id": "5506e3f2",
   "metadata": {
    "execution": {
     "iopub.execute_input": "2024-11-25T16:56:12.942887Z",
     "iopub.status.busy": "2024-11-25T16:56:12.942466Z",
     "iopub.status.idle": "2024-11-25T16:56:12.962247Z",
     "shell.execute_reply": "2024-11-25T16:56:12.960999Z"
    },
    "papermill": {
     "duration": 0.029997,
     "end_time": "2024-11-25T16:56:12.964533",
     "exception": false,
     "start_time": "2024-11-25T16:56:12.934536",
     "status": "completed"
    },
    "tags": []
   },
   "outputs": [],
   "source": [
    "#  Clean up the knDriven text\n",
    "df[\"kmDriven\"] = (\n",
    "    df[\"kmDriven\"]\n",
    "    .str.replace(\",\", \"\", regex=False)\n",
    "    .str.replace(\" km\", \"\", regex=False)\n",
    "    .astype(float)  # Convert to float\n",
    ")\n",
    "\n",
    "# Drop rows with NaN in kmDriven\n",
    "df = df.dropna(subset=[\"kmDriven\"])\n",
    "\n",
    "# Convert to integer\n",
    "df[\"kmDriven\"] = df[\"kmDriven\"].astype(int)"
   ]
  },
  {
   "cell_type": "markdown",
   "id": "e19ace46",
   "metadata": {
    "papermill": {
     "duration": 0.007211,
     "end_time": "2024-11-25T16:56:12.978431",
     "exception": false,
     "start_time": "2024-11-25T16:56:12.971220",
     "status": "completed"
    },
    "tags": []
   },
   "source": [
    "Are the empty cells now filled?"
   ]
  },
  {
   "cell_type": "code",
   "execution_count": 11,
   "id": "b835eabc",
   "metadata": {
    "execution": {
     "iopub.execute_input": "2024-11-25T16:56:12.993426Z",
     "iopub.status.busy": "2024-11-25T16:56:12.993071Z",
     "iopub.status.idle": "2024-11-25T16:56:13.008350Z",
     "shell.execute_reply": "2024-11-25T16:56:13.006901Z"
    },
    "papermill": {
     "duration": 0.026887,
     "end_time": "2024-11-25T16:56:13.012026",
     "exception": false,
     "start_time": "2024-11-25T16:56:12.985139",
     "status": "completed"
    },
    "tags": []
   },
   "outputs": [
    {
     "name": "stdout",
     "output_type": "stream",
     "text": [
      "<class 'pandas.core.frame.DataFrame'>\n",
      "Index: 9535 entries, 0 to 9581\n",
      "Data columns (total 11 columns):\n",
      " #   Column        Non-Null Count  Dtype \n",
      "---  ------        --------------  ----- \n",
      " 0   Brand         9535 non-null   object\n",
      " 1   model         9535 non-null   object\n",
      " 2   Year          9535 non-null   int64 \n",
      " 3   Age           9535 non-null   int64 \n",
      " 4   kmDriven      9535 non-null   int64 \n",
      " 5   Transmission  9535 non-null   object\n",
      " 6   Owner         9535 non-null   object\n",
      " 7   FuelType      9535 non-null   object\n",
      " 8   PostedDate    9535 non-null   object\n",
      " 9   AdditionInfo  9535 non-null   object\n",
      " 10  AskPrice      9535 non-null   int64 \n",
      "dtypes: int64(4), object(7)\n",
      "memory usage: 893.9+ KB\n"
     ]
    }
   ],
   "source": [
    "df.info()       "
   ]
  },
  {
   "cell_type": "markdown",
   "id": "2a492a5a",
   "metadata": {
    "papermill": {
     "duration": 0.006235,
     "end_time": "2024-11-25T16:56:13.025171",
     "exception": false,
     "start_time": "2024-11-25T16:56:13.018936",
     "status": "completed"
    },
    "tags": []
   },
   "source": [
    "Yes they are!"
   ]
  },
  {
   "cell_type": "markdown",
   "id": "5d54908b",
   "metadata": {
    "papermill": {
     "duration": 0.006457,
     "end_time": "2024-11-25T16:56:13.037878",
     "exception": false,
     "start_time": "2024-11-25T16:56:13.031421",
     "status": "completed"
    },
    "tags": []
   },
   "source": []
  },
  {
   "cell_type": "code",
   "execution_count": 12,
   "id": "6e1a4f9c",
   "metadata": {
    "execution": {
     "iopub.execute_input": "2024-11-25T16:56:13.051941Z",
     "iopub.status.busy": "2024-11-25T16:56:13.051549Z",
     "iopub.status.idle": "2024-11-25T16:56:13.059526Z",
     "shell.execute_reply": "2024-11-25T16:56:13.058527Z"
    },
    "papermill": {
     "duration": 0.017881,
     "end_time": "2024-11-25T16:56:13.062004",
     "exception": false,
     "start_time": "2024-11-25T16:56:13.044123",
     "status": "completed"
    },
    "tags": []
   },
   "outputs": [
    {
     "data": {
      "text/plain": [
       "Brand           object\n",
       "model           object\n",
       "Year             int64\n",
       "Age              int64\n",
       "kmDriven         int64\n",
       "Transmission    object\n",
       "Owner           object\n",
       "FuelType        object\n",
       "PostedDate      object\n",
       "AdditionInfo    object\n",
       "AskPrice         int64\n",
       "dtype: object"
      ]
     },
     "execution_count": 12,
     "metadata": {},
     "output_type": "execute_result"
    }
   ],
   "source": [
    "df.dtypes"
   ]
  },
  {
   "cell_type": "markdown",
   "id": "a42ae5bc",
   "metadata": {
    "papermill": {
     "duration": 0.006469,
     "end_time": "2024-11-25T16:56:13.075036",
     "exception": false,
     "start_time": "2024-11-25T16:56:13.068567",
     "status": "completed"
    },
    "tags": []
   },
   "source": [
    "Now we need to look at some of these columns and determine the type of data in them, and how we may need to encode some of them."
   ]
  },
  {
   "cell_type": "code",
   "execution_count": 13,
   "id": "e4b78401",
   "metadata": {
    "execution": {
     "iopub.execute_input": "2024-11-25T16:56:13.089836Z",
     "iopub.status.busy": "2024-11-25T16:56:13.089394Z",
     "iopub.status.idle": "2024-11-25T16:56:13.104772Z",
     "shell.execute_reply": "2024-11-25T16:56:13.103502Z"
    },
    "papermill": {
     "duration": 0.025707,
     "end_time": "2024-11-25T16:56:13.107268",
     "exception": false,
     "start_time": "2024-11-25T16:56:13.081561",
     "status": "completed"
    },
    "tags": []
   },
   "outputs": [
    {
     "name": "stdout",
     "output_type": "stream",
     "text": [
      "Brand             38\n",
      "model            398\n",
      "Year              32\n",
      "Age               32\n",
      "kmDriven        1745\n",
      "Transmission       2\n",
      "Owner              2\n",
      "FuelType           3\n",
      "PostedDate        12\n",
      "AdditionInfo    7270\n",
      "AskPrice        1326\n",
      "dtype: int64\n"
     ]
    }
   ],
   "source": [
    "unique_counts = df.nunique(dropna=False)\n",
    "\n",
    "# Display the result\n",
    "print(unique_counts)"
   ]
  },
  {
   "cell_type": "markdown",
   "id": "47f2db83",
   "metadata": {
    "papermill": {
     "duration": 0.006401,
     "end_time": "2024-11-25T16:56:13.120961",
     "exception": false,
     "start_time": "2024-11-25T16:56:13.114560",
     "status": "completed"
    },
    "tags": []
   },
   "source": [
    "Here are the unique Brands. Let's look for any accidental duplicates caused by mispelling or other causes."
   ]
  },
  {
   "cell_type": "code",
   "execution_count": 14,
   "id": "0c15c536",
   "metadata": {
    "execution": {
     "iopub.execute_input": "2024-11-25T16:56:13.136061Z",
     "iopub.status.busy": "2024-11-25T16:56:13.135645Z",
     "iopub.status.idle": "2024-11-25T16:56:13.143154Z",
     "shell.execute_reply": "2024-11-25T16:56:13.141765Z"
    },
    "papermill": {
     "duration": 0.018341,
     "end_time": "2024-11-25T16:56:13.145931",
     "exception": false,
     "start_time": "2024-11-25T16:56:13.127590",
     "status": "completed"
    },
    "tags": []
   },
   "outputs": [
    {
     "name": "stdout",
     "output_type": "stream",
     "text": [
      "['Ambassador', 'Ashok', 'Aston Martin', 'Audi', 'BMW', 'Bajaj', 'Bentley', 'Chevrolet', 'Datsun', 'Fiat', 'Force', 'Ford', 'Honda', 'Hyundai', 'Isuzu', 'Jaguar', 'Jeep', 'Kia', 'Land Rover', 'Lexus', 'MG', 'Mahindra', 'Maruti Suzuki', 'Maserati', 'Mercedes-Benz', 'Mini', 'Mitsubishi', 'Nissan', 'Opel', 'Porsche', 'Renault', 'Rolls-Royce', 'Skoda', 'Ssangyong', 'Tata', 'Toyota', 'Volkswagen', 'Volvo']\n"
     ]
    }
   ],
   "source": [
    "# Show unique values of Brand\n",
    "unique_brands = sorted(df[\"Brand\"].unique())\n",
    "\n",
    "# Display the result\n",
    "print(unique_brands)"
   ]
  },
  {
   "cell_type": "markdown",
   "id": "61d2f361",
   "metadata": {
    "papermill": {
     "duration": 0.006457,
     "end_time": "2024-11-25T16:56:13.159902",
     "exception": false,
     "start_time": "2024-11-25T16:56:13.153445",
     "status": "completed"
    },
    "tags": []
   },
   "source": [
    "Good. They are all unique brands."
   ]
  },
  {
   "cell_type": "code",
   "execution_count": 15,
   "id": "b4cdd0f1",
   "metadata": {
    "execution": {
     "iopub.execute_input": "2024-11-25T16:56:13.175428Z",
     "iopub.status.busy": "2024-11-25T16:56:13.175040Z",
     "iopub.status.idle": "2024-11-25T16:56:13.182017Z",
     "shell.execute_reply": "2024-11-25T16:56:13.180885Z"
    },
    "papermill": {
     "duration": 0.01742,
     "end_time": "2024-11-25T16:56:13.184323",
     "exception": false,
     "start_time": "2024-11-25T16:56:13.166903",
     "status": "completed"
    },
    "tags": []
   },
   "outputs": [
    {
     "name": "stdout",
     "output_type": "stream",
     "text": [
      "[' Wagon R', '1 Series', '1000', '2 Series', '2.8 Legender 4X2', '2.9 Sportback', '3 DOOR', '3 Series', '3 Series GT', '3 Series Gran Limousine', '5 DOOR', '5 Series', '5 Series Gt', '6 Series', '6 Series GT', '7 Series', '718', '800', 'A Class', 'A-Class Limousine', 'A-Star', 'A-class Limousine', 'A3', 'A3 Cabriolet', 'A4', 'A5', 'A6', 'A8 L', 'AMG', 'AMG A35', 'AMG C 43', 'AMG GLE Coupe', 'ASTOR', 'Accent', 'Accent Hatchback', 'Accord', 'Alcazar', 'Alto', 'Alto 800', 'Alto K10', 'Alto-800', 'Alto-K10', 'Altroz', 'Alturas G4', 'Amaze', 'Ambassador', 'Ameo', 'Aspire', 'Aura', 'Avventura', 'B Class', 'BRV', 'Baleno', 'Baleno-RS', 'Beat', 'Beetle', 'Bolero', 'Bolero Neo', 'Bolero Neo Plus', 'Bolero Power Plus', 'Bolt', 'Boxster', 'Brezza', 'Brio', 'C Class', 'C-Class', 'CERATO', 'CLA', 'CLS-Class', 'CR-V', 'CRV', 'Camry', 'Captiva', 'Captur', 'Carens', 'Carnival', 'Cayenne', 'Cayenne Coupe', 'Cayman', 'Cedia', 'Celerio', 'Celerio X', 'Celerio-X', 'Ciaz', 'City', 'City Hybrid eHEV', 'City ZX', 'Civic', 'Compass', 'Cooper', 'Cooper 3 DOOR', 'Cooper 5 DOOR', 'Cooper Clubman', 'Cooper Convertible', 'Cooper Countryman', 'Cooper S', 'Corolla', 'Corolla Altis', 'Corsa', 'Countryman', 'Creta', 'Creta Facelift', 'CrossPolo', 'Cruze', 'Curvv', 'D-Max V-Cross', 'Defender', 'Discovery', 'Discovery Sport', 'Duster', 'Dzire', 'E-20', 'E-Class', 'EON', 'ES', 'Ecosport', 'Eeco', 'Elantra', 'Elevate', 'Elite i20', 'Endeavour', 'Enjoy', 'Eon', 'Ertiga', 'Esteem', 'Estilo', 'Estima', 'Etios', 'Etios Cross', 'Etios Liva', 'Exter', 'F-Pace', 'Fabia', 'Fiesta', 'Fiesta Classic', 'Figo', 'Figo Aspire', 'Fluence', 'Fluidic Verna', 'Flying Spur', 'Fortuner', 'Free Style', 'Freelander 2', 'Fronx', 'Fronx ', 'G', 'G Class', 'G-Class', 'GL-Class', 'GLA', 'GLA Class', 'GLC', 'GLC Class', 'GLC Coupe', 'GLE', 'GLE COUPE', 'GLE Class', 'GLS', 'GO', 'GO Plus', 'GTI', 'Getz', 'Getz Prime', 'Glanza', 'Gloster', 'Gran Turismo', 'Grand Punto', 'Grand Vitara', 'Grand i10', 'Grand i10 Nios', 'Grand i10 Prime', 'Gypsy', 'H5x', 'Harrier', 'Hector', 'Hector Plus', 'Hexa', 'Hi-Lande Isuzu Hi-Lander', 'Ignis', 'Ikon', 'Indica', 'Indica Ev2', 'Indica V2', 'Indica Vista', 'Indigo Cs', 'Indigo Ecs', 'Indigo Marina', 'Innova', 'Innova Crysta', 'Innova Hycross', 'Invicto', 'Jazz', 'Jeep', 'Jetta', 'Jimny', 'KUV 100', 'KUV100 NXT', 'KWID', 'Kicks', 'Kiger', 'Kodiaq', 'Kushaq', 'LS', 'LX', 'Lancer', 'Land Cruiser', 'Land Cruiser Prado', 'Laura', 'Leyland Stile', 'Linea', 'Lodgy', 'M-Class', 'M340i', 'MAX', 'MICRA PRIMO', 'MUX', 'Macan', 'Magnite', 'Manza', 'Marazzo', 'Marshal', 'Meridian', 'Micra', 'Micra Active', 'Mobilio', 'Motors FM Force One Test', 'Motors FM Gurkha', 'Motors FM Trax Cruiser', 'Mustang', 'NX', 'Nano', 'Nano Genx', 'New Accord', 'New Duster', 'New Elantra', 'New Santro', 'New i20', 'New-gen Swift', 'Nexon', 'Nuvosport', 'Octavia', 'Omni', 'Optra', 'Optra Magnum', 'OptraSRV', 'Others', 'Outlander', 'PATROL', 'Pajero Sport', 'Panamera', 'Passat', 'Phantom Drop HeadCoupe', 'Phantom Series II', 'Polo', 'Polo GTI', 'Pulse', 'Punch', 'Punch ', 'Punto', 'Punto EVO', 'Punto Pure', 'Q3', 'Q5', 'Q7', 'Quanto', 'RE60', 'RX', 'Range Rover', 'Range Rover Evoque', 'Range Rover Sport', 'Range Rover Velar', 'Rapid', 'Redi Go', 'RediGO', 'Renault Logan', 'Rexton', 'Ritz', 'S 80', 'S-Class', 'S-Cross', 'S-Cross1', 'S-Presso', 'S60', 'S60 Cross Country', 'S80', 'S90', 'SL-Class', 'SLK-Class', 'SX4', 'Safari', 'Safari Storme', 'Sail', 'Sail U-VA', 'Santa Fe', 'Santro', 'Santro Xing', 'Scala', 'Scorpio', 'Scorpio Classic', 'Scorpio N', 'Scorpio-N', 'Seltos', 'Slavia', 'Sonata', 'Sonata Embera', 'Sonet', 'Spark', 'Ssangyong Rexton', 'Ssangyong-Rexton', 'Stingray', 'Sumo', 'Sumo Gold', 'Sumo Grande MK II', 'Sumo Victa', 'Sunny', 'Superb', 'Swift', 'Swift Dzire', 'Swift-Dzire', 'Swift-Dzire-Tour', 'Sx4', 'TUV', 'TUV 300', 'TUV 300-plus', 'Taigun', 'Tavera', 'Teana', 'Terrano', 'Thar', 'Tiago', 'Tigor', 'Tiguan', 'Tiguan All Space', 'Trailblazer', 'Triber', 'Tucson', 'Urban Cross', 'Urban Cruiser', 'Urban Cruiser Hyryder', 'Urvan', 'V-Class', 'V40 Cross Country', 'VELLFIRE', 'Vanquish', 'Vento', 'VentoTest', 'Venture', 'Venue', 'Venue N Line', 'Verito', 'Verna', 'Virtus', 'Vista Tech', 'Vitara Brezza', 'Vitara-Brezza', 'WR-V', 'WRV', 'Wagon R', 'Wagon R 1.0', 'Wagon-R', 'Wagon-R-1-0', 'Wagon-R-Stingray', 'Wrangler', 'X1', 'X3', 'X4', 'X5', 'X5 M', 'X6', 'X7', 'XC 90', 'XC40', 'XC60', 'XC90', 'XE', 'XF', 'XJ', 'XL6', 'XUV 300', 'XUV300', 'XUV500', 'XUV700', 'Xcent', 'Xcent Prime', 'Xenon XT', 'Xylo', 'Yaris', 'Z4', 'Zen Estilo', 'Zen-Estilo', 'Zest', 'i10', 'i20', 'i20 Active', 'i20 N Line', 'maruti-suzuki-brezza', 'maruti-suzuki-dzire', 'tata-punch']\n"
     ]
    }
   ],
   "source": [
    "# Show unique values of Brand\n",
    "unique_models = sorted(df[\"model\"].unique())\n",
    "\n",
    "# Display the result\n",
    "print(unique_models)"
   ]
  },
  {
   "cell_type": "code",
   "execution_count": null,
   "id": "46976c32",
   "metadata": {
    "papermill": {
     "duration": 0.006884,
     "end_time": "2024-11-25T16:56:13.198036",
     "exception": false,
     "start_time": "2024-11-25T16:56:13.191152",
     "status": "completed"
    },
    "tags": []
   },
   "outputs": [],
   "source": []
  }
 ],
 "metadata": {
  "kaggle": {
   "accelerator": "none",
   "dataSources": [
    {
     "datasetId": 6153826,
     "sourceId": 9998181,
     "sourceType": "datasetVersion"
    }
   ],
   "dockerImageVersionId": 30786,
   "isGpuEnabled": false,
   "isInternetEnabled": true,
   "language": "python",
   "sourceType": "notebook"
  },
  "kernelspec": {
   "display_name": "Python 3",
   "language": "python",
   "name": "python3"
  },
  "language_info": {
   "codemirror_mode": {
    "name": "ipython",
    "version": 3
   },
   "file_extension": ".py",
   "mimetype": "text/x-python",
   "name": "python",
   "nbconvert_exporter": "python",
   "pygments_lexer": "ipython3",
   "version": "3.10.14"
  },
  "papermill": {
   "default_parameters": {},
   "duration": 5.161537,
   "end_time": "2024-11-25T16:56:13.726181",
   "environment_variables": {},
   "exception": null,
   "input_path": "__notebook__.ipynb",
   "output_path": "__notebook__.ipynb",
   "parameters": {},
   "start_time": "2024-11-25T16:56:08.564644",
   "version": "2.6.0"
  }
 },
 "nbformat": 4,
 "nbformat_minor": 5
}
