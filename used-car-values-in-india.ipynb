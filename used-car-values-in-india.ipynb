{
 "cells": [
  {
   "cell_type": "code",
   "execution_count": 1,
   "id": "efa53952",
   "metadata": {
    "_cell_guid": "b1076dfc-b9ad-4769-8c92-a6c4dae69d19",
    "_uuid": "8f2839f25d086af736a60e9eeb907d3b93b6e0e5",
    "execution": {
     "iopub.execute_input": "2024-11-28T00:15:06.125263Z",
     "iopub.status.busy": "2024-11-28T00:15:06.124868Z",
     "iopub.status.idle": "2024-11-28T00:15:06.993284Z",
     "shell.execute_reply": "2024-11-28T00:15:06.991878Z"
    },
    "papermill": {
     "duration": 0.885663,
     "end_time": "2024-11-28T00:15:06.995794",
     "exception": false,
     "start_time": "2024-11-28T00:15:06.110131",
     "status": "completed"
    },
    "tags": []
   },
   "outputs": [
    {
     "name": "stdout",
     "output_type": "stream",
     "text": [
      "/kaggle/input/used-car-dataset/used_car_dataset.csv\n"
     ]
    }
   ],
   "source": [
    "# This Python 3 environment comes with many helpful analytics libraries installed\n",
    "# It is defined by the kaggle/python Docker image: https://github.com/kaggle/docker-python\n",
    "# For example, here's several helpful packages to load\n",
    "\n",
    "import numpy as np # linear algebra\n",
    "import pandas as pd # data processing, CSV file I/O (e.g. pd.read_csv)\n",
    "\n",
    "# Input data files are available in the read-only \"../input/\" directory\n",
    "# For example, running this (by clicking run or pressing Shift+Enter) will list all files under the input directory\n",
    "\n",
    "import os\n",
    "for dirname, _, filenames in os.walk('/kaggle/input'):\n",
    "    for filename in filenames:\n",
    "        print(os.path.join(dirname, filename))\n",
    "\n",
    "# You can write up to 20GB to the current directory (/kaggle/working/) that gets preserved as output when you create a version using \"Save & Run All\" \n",
    "# You can also write temporary files to /kaggle/temp/, but they won't be saved outside of the current session"
   ]
  },
  {
   "cell_type": "markdown",
   "id": "5a7a3135",
   "metadata": {
    "papermill": {
     "duration": 0.011743,
     "end_time": "2024-11-28T00:15:07.023186",
     "exception": false,
     "start_time": "2024-11-28T00:15:07.011443",
     "status": "completed"
    },
    "tags": []
   },
   "source": [
    "Load the dataset and look at the first few rows of data."
   ]
  },
  {
   "cell_type": "code",
   "execution_count": 2,
   "id": "14c39ce4",
   "metadata": {
    "execution": {
     "iopub.execute_input": "2024-11-28T00:15:07.049166Z",
     "iopub.status.busy": "2024-11-28T00:15:07.048257Z",
     "iopub.status.idle": "2024-11-28T00:15:07.149792Z",
     "shell.execute_reply": "2024-11-28T00:15:07.148656Z"
    },
    "papermill": {
     "duration": 0.117002,
     "end_time": "2024-11-28T00:15:07.152089",
     "exception": false,
     "start_time": "2024-11-28T00:15:07.035087",
     "status": "completed"
    },
    "tags": []
   },
   "outputs": [
    {
     "data": {
      "text/html": [
       "<div>\n",
       "<style scoped>\n",
       "    .dataframe tbody tr th:only-of-type {\n",
       "        vertical-align: middle;\n",
       "    }\n",
       "\n",
       "    .dataframe tbody tr th {\n",
       "        vertical-align: top;\n",
       "    }\n",
       "\n",
       "    .dataframe thead th {\n",
       "        text-align: right;\n",
       "    }\n",
       "</style>\n",
       "<table border=\"1\" class=\"dataframe\">\n",
       "  <thead>\n",
       "    <tr style=\"text-align: right;\">\n",
       "      <th></th>\n",
       "      <th>Brand</th>\n",
       "      <th>model</th>\n",
       "      <th>Year</th>\n",
       "      <th>Age</th>\n",
       "      <th>kmDriven</th>\n",
       "      <th>Transmission</th>\n",
       "      <th>Owner</th>\n",
       "      <th>FuelType</th>\n",
       "      <th>PostedDate</th>\n",
       "      <th>AdditionInfo</th>\n",
       "      <th>AskPrice</th>\n",
       "    </tr>\n",
       "  </thead>\n",
       "  <tbody>\n",
       "    <tr>\n",
       "      <th>0</th>\n",
       "      <td>Honda</td>\n",
       "      <td>City</td>\n",
       "      <td>2001</td>\n",
       "      <td>23</td>\n",
       "      <td>98,000 km</td>\n",
       "      <td>Manual</td>\n",
       "      <td>second</td>\n",
       "      <td>Petrol</td>\n",
       "      <td>Nov-24</td>\n",
       "      <td>Honda City v teck in mint condition, valid gen...</td>\n",
       "      <td>₹ 1,95,000</td>\n",
       "    </tr>\n",
       "    <tr>\n",
       "      <th>1</th>\n",
       "      <td>Toyota</td>\n",
       "      <td>Innova</td>\n",
       "      <td>2009</td>\n",
       "      <td>15</td>\n",
       "      <td>190000.0 km</td>\n",
       "      <td>Manual</td>\n",
       "      <td>second</td>\n",
       "      <td>Diesel</td>\n",
       "      <td>Jul-24</td>\n",
       "      <td>Toyota Innova 2.5 G (Diesel) 7 Seater, 2009, D...</td>\n",
       "      <td>₹ 3,75,000</td>\n",
       "    </tr>\n",
       "    <tr>\n",
       "      <th>2</th>\n",
       "      <td>Volkswagen</td>\n",
       "      <td>VentoTest</td>\n",
       "      <td>2010</td>\n",
       "      <td>14</td>\n",
       "      <td>77,246 km</td>\n",
       "      <td>Manual</td>\n",
       "      <td>first</td>\n",
       "      <td>Diesel</td>\n",
       "      <td>Nov-24</td>\n",
       "      <td>Volkswagen Vento 2010-2013 Diesel Breeze, 2010...</td>\n",
       "      <td>₹ 1,84,999</td>\n",
       "    </tr>\n",
       "    <tr>\n",
       "      <th>3</th>\n",
       "      <td>Maruti Suzuki</td>\n",
       "      <td>Swift</td>\n",
       "      <td>2017</td>\n",
       "      <td>7</td>\n",
       "      <td>83,500 km</td>\n",
       "      <td>Manual</td>\n",
       "      <td>second</td>\n",
       "      <td>Diesel</td>\n",
       "      <td>Nov-24</td>\n",
       "      <td>Maruti Suzuki Swift 2017 Diesel Good Condition</td>\n",
       "      <td>₹ 5,65,000</td>\n",
       "    </tr>\n",
       "    <tr>\n",
       "      <th>4</th>\n",
       "      <td>Maruti Suzuki</td>\n",
       "      <td>Baleno</td>\n",
       "      <td>2019</td>\n",
       "      <td>5</td>\n",
       "      <td>45,000 km</td>\n",
       "      <td>Automatic</td>\n",
       "      <td>first</td>\n",
       "      <td>Petrol</td>\n",
       "      <td>Nov-24</td>\n",
       "      <td>Maruti Suzuki Baleno Alpha CVT, 2019, Petrol</td>\n",
       "      <td>₹ 6,85,000</td>\n",
       "    </tr>\n",
       "  </tbody>\n",
       "</table>\n",
       "</div>"
      ],
      "text/plain": [
       "           Brand      model  Year  Age     kmDriven Transmission   Owner  \\\n",
       "0          Honda       City  2001   23    98,000 km       Manual  second   \n",
       "1         Toyota     Innova  2009   15  190000.0 km       Manual  second   \n",
       "2     Volkswagen  VentoTest  2010   14    77,246 km       Manual   first   \n",
       "3  Maruti Suzuki      Swift  2017    7    83,500 km       Manual  second   \n",
       "4  Maruti Suzuki     Baleno  2019    5    45,000 km    Automatic   first   \n",
       "\n",
       "  FuelType PostedDate                                       AdditionInfo  \\\n",
       "0   Petrol     Nov-24  Honda City v teck in mint condition, valid gen...   \n",
       "1   Diesel     Jul-24  Toyota Innova 2.5 G (Diesel) 7 Seater, 2009, D...   \n",
       "2   Diesel     Nov-24  Volkswagen Vento 2010-2013 Diesel Breeze, 2010...   \n",
       "3   Diesel     Nov-24     Maruti Suzuki Swift 2017 Diesel Good Condition   \n",
       "4   Petrol     Nov-24       Maruti Suzuki Baleno Alpha CVT, 2019, Petrol   \n",
       "\n",
       "     AskPrice  \n",
       "0  ₹ 1,95,000  \n",
       "1  ₹ 3,75,000  \n",
       "2  ₹ 1,84,999  \n",
       "3  ₹ 5,65,000  \n",
       "4  ₹ 6,85,000  "
      ]
     },
     "execution_count": 2,
     "metadata": {},
     "output_type": "execute_result"
    }
   ],
   "source": [
    "df = pd.read_csv('/kaggle/input/used-car-dataset/used_car_dataset.csv')\n",
    "df.head()"
   ]
  },
  {
   "cell_type": "markdown",
   "id": "904b75f4",
   "metadata": {
    "papermill": {
     "duration": 0.011908,
     "end_time": "2024-11-28T00:15:07.176412",
     "exception": false,
     "start_time": "2024-11-28T00:15:07.164504",
     "status": "completed"
    },
    "tags": []
   },
   "source": [
    "Let's see the total number of rows and columns."
   ]
  },
  {
   "cell_type": "code",
   "execution_count": 3,
   "id": "55661784",
   "metadata": {
    "execution": {
     "iopub.execute_input": "2024-11-28T00:15:07.204208Z",
     "iopub.status.busy": "2024-11-28T00:15:07.203832Z",
     "iopub.status.idle": "2024-11-28T00:15:07.210085Z",
     "shell.execute_reply": "2024-11-28T00:15:07.209023Z"
    },
    "papermill": {
     "duration": 0.021731,
     "end_time": "2024-11-28T00:15:07.212125",
     "exception": false,
     "start_time": "2024-11-28T00:15:07.190394",
     "status": "completed"
    },
    "tags": []
   },
   "outputs": [
    {
     "data": {
      "text/plain": [
       "(9582, 11)"
      ]
     },
     "execution_count": 3,
     "metadata": {},
     "output_type": "execute_result"
    }
   ],
   "source": [
    "df.shape"
   ]
  },
  {
   "cell_type": "markdown",
   "id": "0fe34d71",
   "metadata": {
    "papermill": {
     "duration": 0.011791,
     "end_time": "2024-11-28T00:15:07.236080",
     "exception": false,
     "start_time": "2024-11-28T00:15:07.224289",
     "status": "completed"
    },
    "tags": []
   },
   "source": [
    "Let's see if we have any missing values in this table."
   ]
  },
  {
   "cell_type": "code",
   "execution_count": 4,
   "id": "cc2f499e",
   "metadata": {
    "execution": {
     "iopub.execute_input": "2024-11-28T00:15:07.261671Z",
     "iopub.status.busy": "2024-11-28T00:15:07.261276Z",
     "iopub.status.idle": "2024-11-28T00:15:07.287481Z",
     "shell.execute_reply": "2024-11-28T00:15:07.286345Z"
    },
    "papermill": {
     "duration": 0.041416,
     "end_time": "2024-11-28T00:15:07.289636",
     "exception": false,
     "start_time": "2024-11-28T00:15:07.248220",
     "status": "completed"
    },
    "tags": []
   },
   "outputs": [
    {
     "name": "stdout",
     "output_type": "stream",
     "text": [
      "<class 'pandas.core.frame.DataFrame'>\n",
      "RangeIndex: 9582 entries, 0 to 9581\n",
      "Data columns (total 11 columns):\n",
      " #   Column        Non-Null Count  Dtype \n",
      "---  ------        --------------  ----- \n",
      " 0   Brand         9582 non-null   object\n",
      " 1   model         9582 non-null   object\n",
      " 2   Year          9582 non-null   int64 \n",
      " 3   Age           9582 non-null   int64 \n",
      " 4   kmDriven      9535 non-null   object\n",
      " 5   Transmission  9582 non-null   object\n",
      " 6   Owner         9582 non-null   object\n",
      " 7   FuelType      9582 non-null   object\n",
      " 8   PostedDate    9582 non-null   object\n",
      " 9   AdditionInfo  9582 non-null   object\n",
      " 10  AskPrice      9582 non-null   object\n",
      "dtypes: int64(2), object(9)\n",
      "memory usage: 823.6+ KB\n"
     ]
    }
   ],
   "source": [
    "df.info()       # Information about columns, data types, and non-null counts"
   ]
  },
  {
   "cell_type": "markdown",
   "id": "13bfbf62",
   "metadata": {
    "papermill": {
     "duration": 0.012967,
     "end_time": "2024-11-28T00:15:07.314890",
     "exception": false,
     "start_time": "2024-11-28T00:15:07.301923",
     "status": "completed"
    },
    "tags": []
   },
   "source": [
    "All of the features except 'kmDriven' are complete."
   ]
  },
  {
   "cell_type": "code",
   "execution_count": 5,
   "id": "88f05a58",
   "metadata": {
    "execution": {
     "iopub.execute_input": "2024-11-28T00:15:07.341335Z",
     "iopub.status.busy": "2024-11-28T00:15:07.340949Z",
     "iopub.status.idle": "2024-11-28T00:15:07.347446Z",
     "shell.execute_reply": "2024-11-28T00:15:07.346364Z"
    },
    "papermill": {
     "duration": 0.023048,
     "end_time": "2024-11-28T00:15:07.350266",
     "exception": false,
     "start_time": "2024-11-28T00:15:07.327218",
     "status": "completed"
    },
    "tags": []
   },
   "outputs": [
    {
     "name": "stdout",
     "output_type": "stream",
     "text": [
      "The kmDriven feature is missing 47 values\n"
     ]
    }
   ],
   "source": [
    "# Count missing values in 'kmDriven'\n",
    "missing_values = df.kmDriven.isna().sum()\n",
    "\n",
    "# Display the result\n",
    "print(f'The kmDriven feature is missing {missing_values} values')"
   ]
  },
  {
   "cell_type": "markdown",
   "id": "e985f9de",
   "metadata": {
    "papermill": {
     "duration": 0.011972,
     "end_time": "2024-11-28T00:15:07.374477",
     "exception": false,
     "start_time": "2024-11-28T00:15:07.362505",
     "status": "completed"
    },
    "tags": []
   },
   "source": [
    "Let's see the rows with missing kmDriven and see if we can spot any similarities between the entries."
   ]
  },
  {
   "cell_type": "code",
   "execution_count": 6,
   "id": "c9a0cb77",
   "metadata": {
    "execution": {
     "iopub.execute_input": "2024-11-28T00:15:07.400352Z",
     "iopub.status.busy": "2024-11-28T00:15:07.400018Z",
     "iopub.status.idle": "2024-11-28T00:15:07.416112Z",
     "shell.execute_reply": "2024-11-28T00:15:07.415050Z"
    },
    "papermill": {
     "duration": 0.032563,
     "end_time": "2024-11-28T00:15:07.419309",
     "exception": false,
     "start_time": "2024-11-28T00:15:07.386746",
     "status": "completed"
    },
    "tags": []
   },
   "outputs": [
    {
     "name": "stdout",
     "output_type": "stream",
     "text": [
      "              Brand              model  Year  Age kmDriven Transmission  \\\n",
      "231   Maruti Suzuki           Alto-800  2019    5      NaN       Manual   \n",
      "353          Toyota             Innova  2016    8      NaN       Manual   \n",
      "444           Honda            City ZX  2024    0      NaN    Automatic   \n",
      "476         Hyundai        Santro Xing  2010   14      NaN    Automatic   \n",
      "608          Toyota              Etios  2012   12      NaN       Manual   \n",
      "793           Skoda             Kushaq  2010   14      NaN    Automatic   \n",
      "976        Mahindra    Bolero Neo Plus  2015    9      NaN    Automatic   \n",
      "1164       Mahindra         Bolero Neo  2023    1      NaN       Manual   \n",
      "1199           Tata             Indica  2014   10      NaN       Manual   \n",
      "1413        Hyundai        Santro Xing  2007   17      NaN       Manual   \n",
      "1978           Tata          Tiago Nrg  2021    3      NaN    Automatic   \n",
      "2680  Maruti Suzuki         Zen-Estilo  2008   16      NaN    Automatic   \n",
      "2847  Maruti Suzuki           S-Presso  2021    3      NaN    Automatic   \n",
      "3009  Maruti Suzuki             Baleno  2018    6      NaN       Manual   \n",
      "3361     Ambassador         Ambassador  2008   16      NaN       Manual   \n",
      "3418          Honda               City  2001   23      NaN       Manual   \n",
      "3749       Mahindra  Bolero Power Plus  2015    9      NaN    Automatic   \n",
      "3869  Maruti Suzuki             Esteem  2007   17      NaN       Manual   \n",
      "3922  Maruti Suzuki               Omni  2008   16      NaN       Manual   \n",
      "4192           ICML           Rhino Rx  2010   14      NaN       Manual   \n",
      "4937         Toyota             Innova  2014   10      NaN       Manual   \n",
      "5056  Maruti Suzuki        Swift-Dzire  2011   13      NaN       Manual   \n",
      "5074        Hyundai          Grand i10  2019    5      NaN       Manual   \n",
      "5180           Tata              Tiago  2018    6      NaN    Automatic   \n",
      "5398  Maruti Suzuki        Swift-Dzire  2014   10      NaN       Manual   \n",
      "5690  Maruti Suzuki              Swift  2007   17      NaN    Automatic   \n",
      "5762        Renault               KWID  2019    5      NaN    Automatic   \n",
      "5953  Maruti Suzuki          Baleno-RS  2017    7      NaN       Manual   \n",
      "5971  Maruti Suzuki               Eeco  2019    5      NaN    Automatic   \n",
      "6003           Tata          Indigo Cs  2016    8      NaN    Automatic   \n",
      "6384  Maruti Suzuki            Wagon-R  2010   14      NaN    Automatic   \n",
      "6718        Hyundai               Aura  2022    2      NaN    Automatic   \n",
      "6749  Maruti Suzuki             Brezza  2023    1      NaN    Automatic   \n",
      "7023         Toyota              Etios  2013   11      NaN    Automatic   \n",
      "7076  Maruti Suzuki        Swift-Dzire  2013   11      NaN       Manual   \n",
      "7242  Maruti Suzuki         Zen-Estilo  1998   26      NaN       Manual   \n",
      "7867  Maruti Suzuki               Eeco  2015    9      NaN    Automatic   \n",
      "7904  Maruti Suzuki            Wagon-R  2015    9      NaN       Manual   \n",
      "8039     Volkswagen              Jetta  2013   11      NaN       Manual   \n",
      "8238           Tata               Nano  2015    9      NaN       Manual   \n",
      "8361  Maruti Suzuki               Alto  2005   19      NaN       Manual   \n",
      "8591  Maruti Suzuki               Eeco  2015    9      NaN    Automatic   \n",
      "8851        Hyundai          Elite i20  2019    5      NaN       Manual   \n",
      "9015          Honda             Accord  2007   17      NaN    Automatic   \n",
      "9105  Maruti Suzuki                800  2004   20      NaN    Automatic   \n",
      "9178        Hyundai        Santro Xing  2007   17      NaN       Manual   \n",
      "9563  Maruti Suzuki               Eeco  2015    9      NaN       Manual   \n",
      "\n",
      "       Owner    FuelType PostedDate  \\\n",
      "231    first      Petrol     Nov-24   \n",
      "353   second      Diesel     Nov-24   \n",
      "444    first      Petrol     Nov-24   \n",
      "476   second      Petrol     Nov-24   \n",
      "608   second      Diesel     Nov-24   \n",
      "793    first      Petrol     Nov-24   \n",
      "976    first      Diesel     Nov-24   \n",
      "1164   first      Diesel     Nov-24   \n",
      "1199   first      Diesel     Nov-24   \n",
      "1413  second      Petrol     Nov-24   \n",
      "1978   first      Petrol     Nov-24   \n",
      "2680  second      Petrol     Nov-24   \n",
      "2847   first      Petrol     Nov-24   \n",
      "3009   first      Petrol     Nov-24   \n",
      "3361   first      Diesel     Nov-24   \n",
      "3418  second      Petrol     Nov-24   \n",
      "3749  second      Diesel     Nov-24   \n",
      "3869  second  Hybrid/CNG     Nov-24   \n",
      "3922  second  Hybrid/CNG     Nov-24   \n",
      "4192  second      Diesel     Nov-24   \n",
      "4937  second      Diesel     Nov-24   \n",
      "5056  second      Petrol     Nov-24   \n",
      "5074   first      Petrol     Nov-24   \n",
      "5180  second  Hybrid/CNG     Nov-24   \n",
      "5398  second      Diesel     Nov-24   \n",
      "5690  second  Hybrid/CNG     Nov-24   \n",
      "5762  second  Hybrid/CNG     Nov-24   \n",
      "5953   first      Petrol     Nov-24   \n",
      "5971  second  Hybrid/CNG     Nov-24   \n",
      "6003   first  Hybrid/CNG     Oct-24   \n",
      "6384   first  Hybrid/CNG     Nov-24   \n",
      "6718   first  Hybrid/CNG     Nov-24   \n",
      "6749   first  Hybrid/CNG     Nov-24   \n",
      "7023  second      Petrol     Nov-24   \n",
      "7076  second      Diesel     Nov-24   \n",
      "7242  second      Petrol     Nov-24   \n",
      "7867  second  Hybrid/CNG     Nov-24   \n",
      "7904  second  Hybrid/CNG     Nov-24   \n",
      "8039  second      Diesel     Nov-24   \n",
      "8238  second      Petrol     Nov-24   \n",
      "8361  second      Petrol     Nov-24   \n",
      "8591  second  Hybrid/CNG     Nov-24   \n",
      "8851   first      Petrol     Nov-24   \n",
      "9015  second  Hybrid/CNG     Nov-24   \n",
      "9105  second      Petrol     Nov-24   \n",
      "9178  second      Petrol     Nov-24   \n",
      "9563  second  Hybrid/CNG     Nov-24   \n",
      "\n",
      "                                           AdditionInfo     AskPrice  \n",
      "231                              Maruti Suzuki Alto 800   ₹ 3,00,000  \n",
      "353                     Toyota Innova 2016 model Diesel   ₹ 8,60,000  \n",
      "444                                          Honda City  ₹ 15,50,000  \n",
      "476                            Hyundai Santro Xing 2010   ₹ 1,20,000  \n",
      "608                  Toyota Etios Diesel Good Condition   ₹ 3,30,000  \n",
      "793   Car will have perfect condition,negotiation ar...   ₹ 4,00,000  \n",
      "976                       Mahindra Bolero Neo Plus 2015   ₹ 4,50,000  \n",
      "1164                    Mahindra Bolero Neo 2023 Diesel  ₹ 10,00,000  \n",
      "1199                                       Good running   ₹ 2,50,000  \n",
      "1413     Hyundai Santro Xing 2007 Petrol Good Condition   ₹ 1,48,000  \n",
      "1978     Tata Tiago NRG 2021Last Petrol Well Maintained   ₹ 4,30,000  \n",
      "2680                             Renuw RR validity 2028   ₹ 1,80,000  \n",
      "2847                             Maruti Suzuki S-Presso   ₹ 4,25,000  \n",
      "3009                          Maruti Suzuki Baleno 2018   ₹ 4,85,000  \n",
      "3361  Ambassador Ambassador 2008 Diesel Well Maintained   ₹ 1,50,000  \n",
      "3418  Honda City 2001 Petrol with CNG for immediate ...     ₹ 55,000  \n",
      "3749  Mahindra Bolero Power Plus 2015 Diesel Good Co...   ₹ 4,50,000  \n",
      "3869  Maruti Suzuki Esteem 2007 CNG & Hybrids Good C...   ₹ 1,00,000  \n",
      "3922                                       Sell for car     ₹ 51,786  \n",
      "4192          ICML Rhino Rx 2010 Diesel Well Maintained   ₹ 1,95,000  \n",
      "4937                                 Toyota Innova 2014  ₹ 10,50,000  \n",
      "5056  Maruti Suzuki Swift Dzire 2011 Petrol Well Mai...   ₹ 3,50,000  \n",
      "5074      Hyundai Grand i10 2019 Petrol Well Maintained   ₹ 5,50,000  \n",
      "5180                      Tata Tiago 2018 CNG & Hybrids   ₹ 4,20,000  \n",
      "5398                     Maruti Suzuki Swift Dzire 2014   ₹ 4,10,000  \n",
      "5690             Maruti Suzuki Swift 2007 CNG & Hybrids   ₹ 1,18,000  \n",
      "5762                   CNG car with GPS  good condition   ₹ 3,10,000  \n",
      "5953                Maruti Suzuki Baleno RS 2017 Petrol   ₹ 4,70,000  \n",
      "5971                          CNG bahar se lagi Hui hai   ₹ 4,50,000  \n",
      "6003                         Tata Indigo CS 2016 Petrol   ₹ 1,60,000  \n",
      "6384           Maruti Suzuki Wagon R 2010 CNG & Hybrids     ₹ 95,000  \n",
      "6718    Hyundai Aura 2022 CNG & Hybrids Well Maintained   ₹ 7,80,000  \n",
      "6749                             Toli  becani  h urgent   ₹ 1,50,000  \n",
      "7023             Etios v 2013 modal didwana sell 320000   ₹ 3,20,000  \n",
      "7076              Maruti Suzuki Swift Dzire 2013 Diesel   ₹ 2,45,000  \n",
      "7242  Zen 1998 model,insurence renewed,test in 2025 ...     ₹ 27,000  \n",
      "7867                                  ecco7 full okay h   ₹ 2,60,000  \n",
      "7904                         Maruti Suzuki Wagon R 2015   ₹ 2,15,000  \n",
      "8039        Volkswagen Jetta 2013 Diesel Good Condition   ₹ 3,10,000  \n",
      "8238                      Tata Nano 2015 Good Condition   ₹ 1,14,999  \n",
      "8361      Maruti Suzuki Alto 2005 Petrol Good Condition     ₹ 40,000  \n",
      "8591                                  ecco7 full okay h   ₹ 2,60,000  \n",
      "8851      Hyundai Elite i20 2019 Petrol Well Maintained   ₹ 4,75,000  \n",
      "9015                    Honda Accord 2007 CNG & Hybrids   ₹ 1,35,000  \n",
      "9105                      Maruti Suzuki 800 2004 Petrol     ₹ 60,000  \n",
      "9178                                Well maintained car     ₹ 90,000  \n",
      "9563  Maruti Suzuki Eeco 2015 CNG & Hybrids Well Mai...   ₹ 3,20,000  \n"
     ]
    }
   ],
   "source": [
    "# Show rows where column kmDriven has missing values\n",
    "rows_with_missing = df[df['kmDriven'].isna()]\n",
    "\n",
    "# Display the result\n",
    "print(rows_with_missing)"
   ]
  },
  {
   "cell_type": "markdown",
   "id": "f4242a7f",
   "metadata": {
    "papermill": {
     "duration": 0.012305,
     "end_time": "2024-11-28T00:15:07.444503",
     "exception": false,
     "start_time": "2024-11-28T00:15:07.432198",
     "status": "completed"
    },
    "tags": []
   },
   "source": [
    "I'm seeing a lot of 'Maruti Suzuki' entries. I wonder how common this Brand is in India? There are a few rows with this value for Brand in the rows with missing prices. Let's see how many rows have 'Maruti Suzuki' as the Brand in the whole dataset."
   ]
  },
  {
   "cell_type": "code",
   "execution_count": 7,
   "id": "52b59b04",
   "metadata": {
    "execution": {
     "iopub.execute_input": "2024-11-28T00:15:07.471189Z",
     "iopub.status.busy": "2024-11-28T00:15:07.470794Z",
     "iopub.status.idle": "2024-11-28T00:15:07.478549Z",
     "shell.execute_reply": "2024-11-28T00:15:07.477627Z"
    },
    "papermill": {
     "duration": 0.023579,
     "end_time": "2024-11-28T00:15:07.480566",
     "exception": false,
     "start_time": "2024-11-28T00:15:07.456987",
     "status": "completed"
    },
    "tags": []
   },
   "outputs": [
    {
     "data": {
      "text/plain": [
       "2720"
      ]
     },
     "execution_count": 7,
     "metadata": {},
     "output_type": "execute_result"
    }
   ],
   "source": [
    "# Count rows where model has the value \"Maruti Suzuki\"\n",
    "rows_count = (df['Brand'] == 'Maruti Suzuki').sum()\n",
    "rows_count"
   ]
  },
  {
   "cell_type": "markdown",
   "id": "9e75332f",
   "metadata": {
    "papermill": {
     "duration": 0.013412,
     "end_time": "2024-11-28T00:15:07.507496",
     "exception": false,
     "start_time": "2024-11-28T00:15:07.494084",
     "status": "completed"
    },
    "tags": []
   },
   "source": [
    "OK! That's a lot more than I expected. I don't think we need to worry too much about the large representation of 'Maruti Suzuki' branded cars in the rows with missing prices."
   ]
  },
  {
   "cell_type": "markdown",
   "id": "d664b91f",
   "metadata": {
    "papermill": {
     "duration": 0.012381,
     "end_time": "2024-11-28T00:15:07.532653",
     "exception": false,
     "start_time": "2024-11-28T00:15:07.520272",
     "status": "completed"
    },
    "tags": []
   },
   "source": [
    "Next, let's remove the rows with missing 'kmDriven' values. We will also clean up the 'kmDriven' and convert it to an integer datatype."
   ]
  },
  {
   "cell_type": "code",
   "execution_count": 8,
   "id": "888977df",
   "metadata": {
    "execution": {
     "iopub.execute_input": "2024-11-28T00:15:07.560939Z",
     "iopub.status.busy": "2024-11-28T00:15:07.560211Z",
     "iopub.status.idle": "2024-11-28T00:15:07.578771Z",
     "shell.execute_reply": "2024-11-28T00:15:07.577631Z"
    },
    "papermill": {
     "duration": 0.034858,
     "end_time": "2024-11-28T00:15:07.581003",
     "exception": false,
     "start_time": "2024-11-28T00:15:07.546145",
     "status": "completed"
    },
    "tags": []
   },
   "outputs": [],
   "source": [
    "#  Clean up the kmDriven text\n",
    "df[\"kmDriven\"] = (\n",
    "    df[\"kmDriven\"]\n",
    "    .str.replace(\",\", \"\", regex=False)\n",
    "    .str.replace(\" km\", \"\", regex=False)\n",
    "    .astype(float)  # Convert to float\n",
    ")\n",
    "\n",
    "# Drop rows with NaN in kmDriven\n",
    "df = df.dropna(subset=[\"kmDriven\"])\n",
    "\n",
    "# Convert to integer\n",
    "df[\"kmDriven\"] = df[\"kmDriven\"].astype(int)"
   ]
  },
  {
   "cell_type": "markdown",
   "id": "9114982f",
   "metadata": {
    "papermill": {
     "duration": 0.012598,
     "end_time": "2024-11-28T00:15:07.606485",
     "exception": false,
     "start_time": "2024-11-28T00:15:07.593887",
     "status": "completed"
    },
    "tags": []
   },
   "source": [
    "Let's also clean up AskPrice."
   ]
  },
  {
   "cell_type": "code",
   "execution_count": 9,
   "id": "20a1aebc",
   "metadata": {
    "execution": {
     "iopub.execute_input": "2024-11-28T00:15:07.633854Z",
     "iopub.status.busy": "2024-11-28T00:15:07.633469Z",
     "iopub.status.idle": "2024-11-28T00:15:07.651415Z",
     "shell.execute_reply": "2024-11-28T00:15:07.650551Z"
    },
    "papermill": {
     "duration": 0.034068,
     "end_time": "2024-11-28T00:15:07.653364",
     "exception": false,
     "start_time": "2024-11-28T00:15:07.619296",
     "status": "completed"
    },
    "tags": []
   },
   "outputs": [],
   "source": [
    "#  Clean up the kmDriven text\n",
    "df[\"AskPrice\"] = (\n",
    "    df[\"AskPrice\"]\n",
    "    .str.replace(\",\", \"\", regex=False)\n",
    "    .str.replace(\"₹\", \"\", regex=False)\n",
    "    .astype(float)  # Convert to float\n",
    ")\n",
    "\n",
    "# Convert to integer\n",
    "df[\"AskPrice\"] = df[\"AskPrice\"].astype(int)"
   ]
  },
  {
   "cell_type": "markdown",
   "id": "1e177668",
   "metadata": {
    "papermill": {
     "duration": 0.012331,
     "end_time": "2024-11-28T00:15:07.678494",
     "exception": false,
     "start_time": "2024-11-28T00:15:07.666163",
     "status": "completed"
    },
    "tags": []
   },
   "source": [
    "Let's verify that 'kmDriven' and 'AskPrice' are integers now."
   ]
  },
  {
   "cell_type": "code",
   "execution_count": 10,
   "id": "eee52bd4",
   "metadata": {
    "execution": {
     "iopub.execute_input": "2024-11-28T00:15:07.706395Z",
     "iopub.status.busy": "2024-11-28T00:15:07.705550Z",
     "iopub.status.idle": "2024-11-28T00:15:07.719182Z",
     "shell.execute_reply": "2024-11-28T00:15:07.717973Z"
    },
    "papermill": {
     "duration": 0.029806,
     "end_time": "2024-11-28T00:15:07.721337",
     "exception": false,
     "start_time": "2024-11-28T00:15:07.691531",
     "status": "completed"
    },
    "tags": []
   },
   "outputs": [
    {
     "name": "stdout",
     "output_type": "stream",
     "text": [
      "<class 'pandas.core.frame.DataFrame'>\n",
      "Index: 9535 entries, 0 to 9581\n",
      "Data columns (total 11 columns):\n",
      " #   Column        Non-Null Count  Dtype \n",
      "---  ------        --------------  ----- \n",
      " 0   Brand         9535 non-null   object\n",
      " 1   model         9535 non-null   object\n",
      " 2   Year          9535 non-null   int64 \n",
      " 3   Age           9535 non-null   int64 \n",
      " 4   kmDriven      9535 non-null   int64 \n",
      " 5   Transmission  9535 non-null   object\n",
      " 6   Owner         9535 non-null   object\n",
      " 7   FuelType      9535 non-null   object\n",
      " 8   PostedDate    9535 non-null   object\n",
      " 9   AdditionInfo  9535 non-null   object\n",
      " 10  AskPrice      9535 non-null   int64 \n",
      "dtypes: int64(4), object(7)\n",
      "memory usage: 893.9+ KB\n"
     ]
    }
   ],
   "source": [
    "df.info()"
   ]
  },
  {
   "cell_type": "markdown",
   "id": "173e2feb",
   "metadata": {
    "papermill": {
     "duration": 0.012554,
     "end_time": "2024-11-28T00:15:07.747018",
     "exception": false,
     "start_time": "2024-11-28T00:15:07.734464",
     "status": "completed"
    },
    "tags": []
   },
   "source": [
    "Indeed they are.\n",
    "Are the rows with missing values gone?"
   ]
  },
  {
   "cell_type": "code",
   "execution_count": 11,
   "id": "ddaeddc5",
   "metadata": {
    "execution": {
     "iopub.execute_input": "2024-11-28T00:15:07.774572Z",
     "iopub.status.busy": "2024-11-28T00:15:07.774181Z",
     "iopub.status.idle": "2024-11-28T00:15:07.788887Z",
     "shell.execute_reply": "2024-11-28T00:15:07.787684Z"
    },
    "papermill": {
     "duration": 0.031128,
     "end_time": "2024-11-28T00:15:07.791030",
     "exception": false,
     "start_time": "2024-11-28T00:15:07.759902",
     "status": "completed"
    },
    "tags": []
   },
   "outputs": [
    {
     "name": "stdout",
     "output_type": "stream",
     "text": [
      "<class 'pandas.core.frame.DataFrame'>\n",
      "Index: 9535 entries, 0 to 9581\n",
      "Data columns (total 11 columns):\n",
      " #   Column        Non-Null Count  Dtype \n",
      "---  ------        --------------  ----- \n",
      " 0   Brand         9535 non-null   object\n",
      " 1   model         9535 non-null   object\n",
      " 2   Year          9535 non-null   int64 \n",
      " 3   Age           9535 non-null   int64 \n",
      " 4   kmDriven      9535 non-null   int64 \n",
      " 5   Transmission  9535 non-null   object\n",
      " 6   Owner         9535 non-null   object\n",
      " 7   FuelType      9535 non-null   object\n",
      " 8   PostedDate    9535 non-null   object\n",
      " 9   AdditionInfo  9535 non-null   object\n",
      " 10  AskPrice      9535 non-null   int64 \n",
      "dtypes: int64(4), object(7)\n",
      "memory usage: 893.9+ KB\n"
     ]
    }
   ],
   "source": [
    "df.info()       "
   ]
  },
  {
   "cell_type": "markdown",
   "id": "19f30ea7",
   "metadata": {
    "papermill": {
     "duration": 0.012627,
     "end_time": "2024-11-28T00:15:07.816921",
     "exception": false,
     "start_time": "2024-11-28T00:15:07.804294",
     "status": "completed"
    },
    "tags": []
   },
   "source": [
    "Yes they are! The dataset has no missing values now."
   ]
  },
  {
   "cell_type": "markdown",
   "id": "fd57b706",
   "metadata": {
    "papermill": {
     "duration": 0.012454,
     "end_time": "2024-11-28T00:15:07.842120",
     "exception": false,
     "start_time": "2024-11-28T00:15:07.829666",
     "status": "completed"
    },
    "tags": []
   },
   "source": [
    "Now we need to look at some of these features and determine the categorical data in them, and how we will need to encode them."
   ]
  },
  {
   "cell_type": "markdown",
   "id": "7af1800c",
   "metadata": {
    "papermill": {
     "duration": 0.012463,
     "end_time": "2024-11-28T00:15:07.867251",
     "exception": false,
     "start_time": "2024-11-28T00:15:07.854788",
     "status": "completed"
    },
    "tags": []
   },
   "source": [
    "Here are the unique values in each feature. This should give us an indication of which features are categorical."
   ]
  },
  {
   "cell_type": "code",
   "execution_count": 12,
   "id": "e9a26e60",
   "metadata": {
    "execution": {
     "iopub.execute_input": "2024-11-28T00:15:07.894440Z",
     "iopub.status.busy": "2024-11-28T00:15:07.893793Z",
     "iopub.status.idle": "2024-11-28T00:15:07.908026Z",
     "shell.execute_reply": "2024-11-28T00:15:07.906741Z"
    },
    "papermill": {
     "duration": 0.030244,
     "end_time": "2024-11-28T00:15:07.910158",
     "exception": false,
     "start_time": "2024-11-28T00:15:07.879914",
     "status": "completed"
    },
    "tags": []
   },
   "outputs": [
    {
     "name": "stdout",
     "output_type": "stream",
     "text": [
      "Brand             38\n",
      "model            398\n",
      "Year              32\n",
      "Age               32\n",
      "kmDriven        1745\n",
      "Transmission       2\n",
      "Owner              2\n",
      "FuelType           3\n",
      "PostedDate        12\n",
      "AdditionInfo    7270\n",
      "AskPrice        1326\n",
      "dtype: int64\n"
     ]
    }
   ],
   "source": [
    "unique_counts = df.nunique(dropna=False)\n",
    "\n",
    "# Display the result\n",
    "print(unique_counts)"
   ]
  },
  {
   "cell_type": "markdown",
   "id": "331303df",
   "metadata": {
    "papermill": {
     "duration": 0.012707,
     "end_time": "2024-11-28T00:15:07.936196",
     "exception": false,
     "start_time": "2024-11-28T00:15:07.923489",
     "status": "completed"
    },
    "tags": []
   },
   "source": [
    "It looks like we need to consider the features \"Brand\", \"Model\", \"Transmission\", \"Owner\", and \"FuelType\" for encoding."
   ]
  },
  {
   "cell_type": "markdown",
   "id": "462e1560",
   "metadata": {
    "papermill": {
     "duration": 0.013459,
     "end_time": "2024-11-28T00:15:07.964138",
     "exception": false,
     "start_time": "2024-11-28T00:15:07.950679",
     "status": "completed"
    },
    "tags": []
   },
   "source": [
    "Let's start by ensuring there are no accidental duplicate entries in \"Brand\" due to typos."
   ]
  },
  {
   "cell_type": "code",
   "execution_count": 13,
   "id": "cfa20825",
   "metadata": {
    "execution": {
     "iopub.execute_input": "2024-11-28T00:15:07.992104Z",
     "iopub.status.busy": "2024-11-28T00:15:07.991760Z",
     "iopub.status.idle": "2024-11-28T00:15:07.997622Z",
     "shell.execute_reply": "2024-11-28T00:15:07.996601Z"
    },
    "papermill": {
     "duration": 0.022547,
     "end_time": "2024-11-28T00:15:07.999876",
     "exception": false,
     "start_time": "2024-11-28T00:15:07.977329",
     "status": "completed"
    },
    "tags": []
   },
   "outputs": [
    {
     "name": "stdout",
     "output_type": "stream",
     "text": [
      "['Ambassador', 'Ashok', 'Aston Martin', 'Audi', 'BMW', 'Bajaj', 'Bentley', 'Chevrolet', 'Datsun', 'Fiat', 'Force', 'Ford', 'Honda', 'Hyundai', 'Isuzu', 'Jaguar', 'Jeep', 'Kia', 'Land Rover', 'Lexus', 'MG', 'Mahindra', 'Maruti Suzuki', 'Maserati', 'Mercedes-Benz', 'Mini', 'Mitsubishi', 'Nissan', 'Opel', 'Porsche', 'Renault', 'Rolls-Royce', 'Skoda', 'Ssangyong', 'Tata', 'Toyota', 'Volkswagen', 'Volvo']\n"
     ]
    }
   ],
   "source": [
    "# Show unique values of Brand\n",
    "unique_brands = sorted(df[\"Brand\"].unique())\n",
    "\n",
    "# Display the result\n",
    "print(unique_brands)"
   ]
  },
  {
   "cell_type": "markdown",
   "id": "65e459ee",
   "metadata": {
    "papermill": {
     "duration": 0.01278,
     "end_time": "2024-11-28T00:15:08.026012",
     "exception": false,
     "start_time": "2024-11-28T00:15:08.013232",
     "status": "completed"
    },
    "tags": []
   },
   "source": [
    "Good. They are all unique brands."
   ]
  },
  {
   "cell_type": "markdown",
   "id": "78d51337",
   "metadata": {
    "papermill": {
     "duration": 0.013347,
     "end_time": "2024-11-28T00:15:08.052459",
     "exception": false,
     "start_time": "2024-11-28T00:15:08.039112",
     "status": "completed"
    },
    "tags": []
   },
   "source": [
    "Let's check for typos in Year and Age."
   ]
  },
  {
   "cell_type": "code",
   "execution_count": 14,
   "id": "ce91e125",
   "metadata": {
    "execution": {
     "iopub.execute_input": "2024-11-28T00:15:08.081403Z",
     "iopub.status.busy": "2024-11-28T00:15:08.080986Z",
     "iopub.status.idle": "2024-11-28T00:15:08.087442Z",
     "shell.execute_reply": "2024-11-28T00:15:08.086296Z"
    },
    "papermill": {
     "duration": 0.023994,
     "end_time": "2024-11-28T00:15:08.089796",
     "exception": false,
     "start_time": "2024-11-28T00:15:08.065802",
     "status": "completed"
    },
    "tags": []
   },
   "outputs": [
    {
     "name": "stdout",
     "output_type": "stream",
     "text": [
      "[1986, 1990, 1994, 1996, 1997, 1998, 1999, 2000, 2001, 2002, 2003, 2004, 2005, 2006, 2007, 2008, 2009, 2010, 2011, 2012, 2013, 2014, 2015, 2016, 2017, 2018, 2019, 2020, 2021, 2022, 2023, 2024]\n"
     ]
    }
   ],
   "source": [
    "# Show unique values of Year\n",
    "unique_years = sorted(df[\"Year\"].unique())\n",
    "\n",
    "# Display the result\n",
    "print(unique_years)"
   ]
  },
  {
   "cell_type": "code",
   "execution_count": 15,
   "id": "60871953",
   "metadata": {
    "execution": {
     "iopub.execute_input": "2024-11-28T00:15:08.118067Z",
     "iopub.status.busy": "2024-11-28T00:15:08.117656Z",
     "iopub.status.idle": "2024-11-28T00:15:08.123971Z",
     "shell.execute_reply": "2024-11-28T00:15:08.122871Z"
    },
    "papermill": {
     "duration": 0.023102,
     "end_time": "2024-11-28T00:15:08.126214",
     "exception": false,
     "start_time": "2024-11-28T00:15:08.103112",
     "status": "completed"
    },
    "tags": []
   },
   "outputs": [
    {
     "name": "stdout",
     "output_type": "stream",
     "text": [
      "[0, 1, 2, 3, 4, 5, 6, 7, 8, 9, 10, 11, 12, 13, 14, 15, 16, 17, 18, 19, 20, 21, 22, 23, 24, 25, 26, 27, 28, 30, 34, 38]\n"
     ]
    }
   ],
   "source": [
    "# Show unique values of Age\n",
    "unique_ages = sorted(df[\"Age\"].unique())\n",
    "\n",
    "# Display the result\n",
    "print(unique_ages)"
   ]
  },
  {
   "cell_type": "markdown",
   "id": "bd7c0e0c",
   "metadata": {
    "papermill": {
     "duration": 0.012913,
     "end_time": "2024-11-28T00:15:08.152357",
     "exception": false,
     "start_time": "2024-11-28T00:15:08.139444",
     "status": "completed"
    },
    "tags": []
   },
   "source": [
    "No typos."
   ]
  },
  {
   "cell_type": "markdown",
   "id": "faaab80f",
   "metadata": {
    "papermill": {
     "duration": 0.012729,
     "end_time": "2024-11-28T00:15:08.178083",
     "exception": false,
     "start_time": "2024-11-28T00:15:08.165354",
     "status": "completed"
    },
    "tags": []
   },
   "source": [
    "Now let's check the unique values of Transmission, Owners, and FuelType."
   ]
  },
  {
   "cell_type": "code",
   "execution_count": 16,
   "id": "a554a071",
   "metadata": {
    "execution": {
     "iopub.execute_input": "2024-11-28T00:15:08.208715Z",
     "iopub.status.busy": "2024-11-28T00:15:08.208074Z",
     "iopub.status.idle": "2024-11-28T00:15:08.214185Z",
     "shell.execute_reply": "2024-11-28T00:15:08.213182Z"
    },
    "papermill": {
     "duration": 0.022871,
     "end_time": "2024-11-28T00:15:08.216233",
     "exception": false,
     "start_time": "2024-11-28T00:15:08.193362",
     "status": "completed"
    },
    "tags": []
   },
   "outputs": [
    {
     "name": "stdout",
     "output_type": "stream",
     "text": [
      "['Automatic', 'Manual']\n"
     ]
    }
   ],
   "source": [
    "# Show unique values of Transmission\n",
    "unique_transmissions = sorted(df[\"Transmission\"].unique())\n",
    "\n",
    "# Display the result\n",
    "print(unique_transmissions)"
   ]
  },
  {
   "cell_type": "code",
   "execution_count": 17,
   "id": "bc5b4ebf",
   "metadata": {
    "execution": {
     "iopub.execute_input": "2024-11-28T00:15:08.244637Z",
     "iopub.status.busy": "2024-11-28T00:15:08.243760Z",
     "iopub.status.idle": "2024-11-28T00:15:08.249326Z",
     "shell.execute_reply": "2024-11-28T00:15:08.248410Z"
    },
    "papermill": {
     "duration": 0.022014,
     "end_time": "2024-11-28T00:15:08.251362",
     "exception": false,
     "start_time": "2024-11-28T00:15:08.229348",
     "status": "completed"
    },
    "tags": []
   },
   "outputs": [
    {
     "name": "stdout",
     "output_type": "stream",
     "text": [
      "['first', 'second']\n"
     ]
    }
   ],
   "source": [
    "# Show unique values of Owner\n",
    "unique_owners = sorted(df[\"Owner\"].unique())\n",
    "\n",
    "# Display the result\n",
    "print(unique_owners)"
   ]
  },
  {
   "cell_type": "code",
   "execution_count": 18,
   "id": "00939b02",
   "metadata": {
    "execution": {
     "iopub.execute_input": "2024-11-28T00:15:08.279884Z",
     "iopub.status.busy": "2024-11-28T00:15:08.279133Z",
     "iopub.status.idle": "2024-11-28T00:15:08.285090Z",
     "shell.execute_reply": "2024-11-28T00:15:08.284137Z"
    },
    "papermill": {
     "duration": 0.022458,
     "end_time": "2024-11-28T00:15:08.287146",
     "exception": false,
     "start_time": "2024-11-28T00:15:08.264688",
     "status": "completed"
    },
    "tags": []
   },
   "outputs": [
    {
     "name": "stdout",
     "output_type": "stream",
     "text": [
      "['Diesel', 'Hybrid/CNG', 'Petrol']\n"
     ]
    }
   ],
   "source": [
    "# Show unique values of FuelType\n",
    "unique_fuel_types = sorted(df[\"FuelType\"].unique())\n",
    "\n",
    "# Display the result\n",
    "print(unique_fuel_types)"
   ]
  },
  {
   "cell_type": "markdown",
   "id": "dcca17a5",
   "metadata": {
    "papermill": {
     "duration": 0.013037,
     "end_time": "2024-11-28T00:15:08.314352",
     "exception": false,
     "start_time": "2024-11-28T00:15:08.301315",
     "status": "completed"
    },
    "tags": []
   },
   "source": [
    "These all are categorical features."
   ]
  },
  {
   "cell_type": "markdown",
   "id": "ca33c112",
   "metadata": {
    "papermill": {
     "duration": 0.012789,
     "end_time": "2024-11-28T00:15:08.340440",
     "exception": false,
     "start_time": "2024-11-28T00:15:08.327651",
     "status": "completed"
    },
    "tags": []
   },
   "source": [
    "See which variables relate to each other."
   ]
  },
  {
   "cell_type": "code",
   "execution_count": 19,
   "id": "c28399ee",
   "metadata": {
    "execution": {
     "iopub.execute_input": "2024-11-28T00:15:08.368348Z",
     "iopub.status.busy": "2024-11-28T00:15:08.367965Z",
     "iopub.status.idle": "2024-11-28T00:15:08.387350Z",
     "shell.execute_reply": "2024-11-28T00:15:08.386578Z"
    },
    "papermill": {
     "duration": 0.036053,
     "end_time": "2024-11-28T00:15:08.389612",
     "exception": false,
     "start_time": "2024-11-28T00:15:08.353559",
     "status": "completed"
    },
    "tags": []
   },
   "outputs": [],
   "source": [
    "X = df.copy()\n",
    "y = X.pop(\"AskPrice\")\n",
    "\n",
    "# Label encoding for categoricals\n",
    "for colname in X.select_dtypes(\"object\"):\n",
    "    X[colname], _ = X[colname].factorize()\n",
    "\n",
    "# All discrete features should now have integer dtypes (double-check this before using MI!)\n",
    "discrete_features = X.dtypes == int"
   ]
  },
  {
   "cell_type": "code",
   "execution_count": 20,
   "id": "f0c2ceb0",
   "metadata": {
    "execution": {
     "iopub.execute_input": "2024-11-28T00:15:08.418152Z",
     "iopub.status.busy": "2024-11-28T00:15:08.417793Z",
     "iopub.status.idle": "2024-11-28T00:15:12.906394Z",
     "shell.execute_reply": "2024-11-28T00:15:12.905126Z"
    },
    "papermill": {
     "duration": 4.505632,
     "end_time": "2024-11-28T00:15:12.908887",
     "exception": false,
     "start_time": "2024-11-28T00:15:08.403255",
     "status": "completed"
    },
    "tags": []
   },
   "outputs": [
    {
     "data": {
      "text/plain": [
       "AdditionInfo    3.307861\n",
       "model           1.182237\n",
       "Brand           0.462218\n",
       "kmDriven        0.429166\n",
       "Year            0.397452\n",
       "Age             0.397452\n",
       "Transmission    0.130497\n",
       "FuelType        0.128565\n",
       "Owner           0.050002\n",
       "PostedDate      0.008548\n",
       "Name: MI Scores, dtype: float64"
      ]
     },
     "execution_count": 20,
     "metadata": {},
     "output_type": "execute_result"
    }
   ],
   "source": [
    "from sklearn.feature_selection import mutual_info_regression\n",
    "\n",
    "def make_mi_scores(X, y, discrete_features):\n",
    "    mi_scores = mutual_info_regression(X, y, discrete_features=discrete_features)\n",
    "    mi_scores = pd.Series(mi_scores, name=\"MI Scores\", index=X.columns)\n",
    "    mi_scores = mi_scores.sort_values(ascending=False)\n",
    "    return mi_scores\n",
    "\n",
    "mi_scores = make_mi_scores(X, y, discrete_features)\n",
    "mi_scores  # show features with their MI scores"
   ]
  },
  {
   "cell_type": "markdown",
   "id": "c23e7a38",
   "metadata": {
    "papermill": {
     "duration": 0.013225,
     "end_time": "2024-11-28T00:15:12.936411",
     "exception": false,
     "start_time": "2024-11-28T00:15:12.923186",
     "status": "completed"
    },
    "tags": []
   },
   "source": [
    "**Columns to be dropped from the dataset:**\n",
    "* AdditionalInfo - Despite the high score, this contains redundant information found elsewhere in the dataset.\n",
    "* Age - Essentially contains the same information as 'Year'.\n",
    "* PostedDate - Has insignificant contributions to the target."
   ]
  },
  {
   "cell_type": "code",
   "execution_count": 21,
   "id": "b9aca1fb",
   "metadata": {
    "execution": {
     "iopub.execute_input": "2024-11-28T00:15:12.965685Z",
     "iopub.status.busy": "2024-11-28T00:15:12.964879Z",
     "iopub.status.idle": "2024-11-28T00:15:12.973248Z",
     "shell.execute_reply": "2024-11-28T00:15:12.972259Z"
    },
    "papermill": {
     "duration": 0.025395,
     "end_time": "2024-11-28T00:15:12.975291",
     "exception": false,
     "start_time": "2024-11-28T00:15:12.949896",
     "status": "completed"
    },
    "tags": []
   },
   "outputs": [],
   "source": [
    "df = df.drop(columns=['AdditionInfo', 'PostedDate', 'Age'])"
   ]
  },
  {
   "cell_type": "markdown",
   "id": "b1bb41b9",
   "metadata": {
    "papermill": {
     "duration": 0.012992,
     "end_time": "2024-11-28T00:15:13.001752",
     "exception": false,
     "start_time": "2024-11-28T00:15:12.988760",
     "status": "completed"
    },
    "tags": []
   },
   "source": [
    "**Columns needing more research:**\n",
    "* Transmission\n",
    "* FuelType\n",
    "* Owner"
   ]
  },
  {
   "cell_type": "markdown",
   "id": "b330a6a8",
   "metadata": {
    "papermill": {
     "duration": 0.012943,
     "end_time": "2024-11-28T00:15:13.028001",
     "exception": false,
     "start_time": "2024-11-28T00:15:13.015058",
     "status": "completed"
    },
    "tags": []
   },
   "source": [
    "Let's plot the average AskPrice by Transmission type."
   ]
  },
  {
   "cell_type": "code",
   "execution_count": 22,
   "id": "fb3aa171",
   "metadata": {
    "execution": {
     "iopub.execute_input": "2024-11-28T00:15:13.056533Z",
     "iopub.status.busy": "2024-11-28T00:15:13.055591Z",
     "iopub.status.idle": "2024-11-28T00:15:13.767338Z",
     "shell.execute_reply": "2024-11-28T00:15:13.766267Z"
    },
    "papermill": {
     "duration": 0.728263,
     "end_time": "2024-11-28T00:15:13.769468",
     "exception": false,
     "start_time": "2024-11-28T00:15:13.041205",
     "status": "completed"
    },
    "tags": []
   },
   "outputs": [
    {
     "data": {
      "image/png": "[encoded data removed]",
      "text/plain": [
       "<Figure size 800x500 with 1 Axes>"
      ]
     },
     "metadata": {},
     "output_type": "display_data"
    }
   ],
   "source": [
    "import seaborn as sns\n",
    "import matplotlib.pyplot as plt\n",
    "\n",
    "# Group by transmission type and calculate average price\n",
    "price_trends_by_transmission = (\n",
    "    df.groupby('Transmission')['AskPrice']\n",
    "    .mean()\n",
    "    .sort_values(ascending=False)\n",
    "    .reset_index()\n",
    ")\n",
    "\n",
    "# Create a bar plot for price trends by transmission\n",
    "plt.figure(figsize=(8, 5))\n",
    "sns.barplot(\n",
    "    data=price_trends_by_transmission, \n",
    "    x='Transmission', \n",
    "    y='AskPrice'\n",
    ")\n",
    "plt.title('Average Car Prices by Transmission Type', fontsize=14)\n",
    "plt.xlabel('Transmission Type', fontsize=12)\n",
    "plt.ylabel('Average Ask Price (₹)', fontsize=12)\n",
    "\n",
    "plt.show()"
   ]
  },
  {
   "cell_type": "markdown",
   "id": "a0f89de5",
   "metadata": {
    "papermill": {
     "duration": 0.013609,
     "end_time": "2024-11-28T00:15:13.797356",
     "exception": false,
     "start_time": "2024-11-28T00:15:13.783747",
     "status": "completed"
    },
    "tags": []
   },
   "source": [
    "Wow! There is a BIG difference between Automatic and Manual Transmission types. We will keep this feature."
   ]
  },
  {
   "cell_type": "markdown",
   "id": "9e2e4b9d",
   "metadata": {
    "papermill": {
     "duration": 0.01339,
     "end_time": "2024-11-28T00:15:13.824618",
     "exception": false,
     "start_time": "2024-11-28T00:15:13.811228",
     "status": "completed"
    },
    "tags": []
   },
   "source": [
    "What about the Owner feature?"
   ]
  },
  {
   "cell_type": "code",
   "execution_count": 23,
   "id": "b62f23a5",
   "metadata": {
    "execution": {
     "iopub.execute_input": "2024-11-28T00:15:13.854230Z",
     "iopub.status.busy": "2024-11-28T00:15:13.853700Z",
     "iopub.status.idle": "2024-11-28T00:15:14.087954Z",
     "shell.execute_reply": "2024-11-28T00:15:14.086441Z"
    },
    "papermill": {
     "duration": 0.252155,
     "end_time": "2024-11-28T00:15:14.090677",
     "exception": false,
     "start_time": "2024-11-28T00:15:13.838522",
     "status": "completed"
    },
    "tags": []
   },
   "outputs": [
    {
     "data": {
      "image/png": "[encoded data removed]",
      "text/plain": [
       "<Figure size 800x500 with 1 Axes>"
      ]
     },
     "metadata": {},
     "output_type": "display_data"
    }
   ],
   "source": [
    "# Group by owner type and calculate average price\n",
    "price_trends_by_owner = (\n",
    "    df.groupby('Owner')['AskPrice']\n",
    "    .mean()\n",
    "    .sort_values(ascending=False)\n",
    "    .reset_index()\n",
    ")\n",
    "\n",
    "# Create a bar plot for price trends by owner\n",
    "plt.figure(figsize=(8, 5))\n",
    "sns.barplot(\n",
    "    data=price_trends_by_owner, \n",
    "    x='Owner', \n",
    "    y='AskPrice'\n",
    ")\n",
    "plt.title('Average Car Prices by Owner Type', fontsize=14)\n",
    "plt.xlabel('Owner Type', fontsize=12)\n",
    "plt.ylabel('Average Ask Price (₹)', fontsize=12)\n",
    "\n",
    "plt.show()"
   ]
  },
  {
   "cell_type": "markdown",
   "id": "0bbc0528",
   "metadata": {
    "papermill": {
     "duration": 0.014149,
     "end_time": "2024-11-28T00:15:14.119468",
     "exception": false,
     "start_time": "2024-11-28T00:15:14.105319",
     "status": "completed"
    },
    "tags": []
   },
   "source": [
    "There is a significant difference in the AskPrice for first and second owners. We will also keep this feature.  "
   ]
  },
  {
   "cell_type": "markdown",
   "id": "5b87ba90",
   "metadata": {
    "papermill": {
     "duration": 0.01843,
     "end_time": "2024-11-28T00:15:14.152461",
     "exception": false,
     "start_time": "2024-11-28T00:15:14.134031",
     "status": "completed"
    },
    "tags": []
   },
   "source": [
    "Last, let's examine FuelType."
   ]
  },
  {
   "cell_type": "code",
   "execution_count": 24,
   "id": "26f17e33",
   "metadata": {
    "execution": {
     "iopub.execute_input": "2024-11-28T00:15:14.185111Z",
     "iopub.status.busy": "2024-11-28T00:15:14.184318Z",
     "iopub.status.idle": "2024-11-28T00:15:14.433933Z",
     "shell.execute_reply": "2024-11-28T00:15:14.432967Z"
    },
    "papermill": {
     "duration": 0.268422,
     "end_time": "2024-11-28T00:15:14.436218",
     "exception": false,
     "start_time": "2024-11-28T00:15:14.167796",
     "status": "completed"
    },
    "tags": []
   },
   "outputs": [
    {
     "data": {
      "image/png": "[encoded data removed]",
      "text/plain": [
       "<Figure size 800x500 with 1 Axes>"
      ]
     },
     "metadata": {},
     "output_type": "display_data"
    }
   ],
   "source": [
    "# Group by fuel type and calculate average price\n",
    "price_trends_by_fuel_type = (\n",
    "    df.groupby('FuelType')['AskPrice']\n",
    "    .mean()\n",
    "    .sort_values(ascending=False)\n",
    "    .reset_index()\n",
    ")\n",
    "\n",
    "# Create a bar plot for price trends by fuel type\n",
    "plt.figure(figsize=(8, 5))\n",
    "sns.barplot(\n",
    "    data=price_trends_by_fuel_type, \n",
    "    x='FuelType', \n",
    "    y='AskPrice'\n",
    ")\n",
    "plt.title('Average Car Prices by Fuel Type', fontsize=14)\n",
    "plt.xlabel('Fuel Type', fontsize=12)\n",
    "plt.ylabel('Average Ask Price (₹)', fontsize=12)\n",
    "\n",
    "plt.show()"
   ]
  },
  {
   "cell_type": "markdown",
   "id": "e7dc5029",
   "metadata": {
    "papermill": {
     "duration": 0.014453,
     "end_time": "2024-11-28T00:15:14.465592",
     "exception": false,
     "start_time": "2024-11-28T00:15:14.451139",
     "status": "completed"
    },
    "tags": []
   },
   "source": [
    "There is a large difference between average asking prices for these three FuelTypes, si we will keep this feature. Surprisingly, Hybrid/CNG is lowest average AskPrice even as Hybrid cars are quite expensive. However, Compressed Natural Gas (CNG) vehicles can be quite inexpensive, and appear to make up a more significant portion of the dataset than more expensive Hybrid cards."
   ]
  },
  {
   "cell_type": "markdown",
   "id": "e4d02349",
   "metadata": {
    "papermill": {
     "duration": 0.0146,
     "end_time": "2024-11-28T00:15:14.495159",
     "exception": false,
     "start_time": "2024-11-28T00:15:14.480559",
     "status": "completed"
    },
    "tags": []
   },
   "source": [
    "Just for fun, let's see the average asking price for each Brand."
   ]
  },
  {
   "cell_type": "code",
   "execution_count": 25,
   "id": "8c2ed5f9",
   "metadata": {
    "execution": {
     "iopub.execute_input": "2024-11-28T00:15:14.527055Z",
     "iopub.status.busy": "2024-11-28T00:15:14.526082Z",
     "iopub.status.idle": "2024-11-28T00:15:15.135901Z",
     "shell.execute_reply": "2024-11-28T00:15:15.134833Z"
    },
    "papermill": {
     "duration": 0.628185,
     "end_time": "2024-11-28T00:15:15.138195",
     "exception": false,
     "start_time": "2024-11-28T00:15:14.510010",
     "status": "completed"
    },
    "tags": []
   },
   "outputs": [
    {
     "data": {
      "image/png": "[encoded data removed]",
      "text/plain": [
       "<Figure size 1200x600 with 1 Axes>"
      ]
     },
     "metadata": {},
     "output_type": "display_data"
    }
   ],
   "source": [
    "# Calculate the average asking price for each brand\n",
    "brand_avg_price_summary = df.groupby('Brand')['AskPrice'].mean().reset_index()\n",
    "\n",
    "# Sort the data for better visualization\n",
    "brand_avg_price_summary = brand_avg_price_summary.sort_values(by='AskPrice', ascending=False)\n",
    "\n",
    "# Create a seaborn bar plot for the average asking price by brand\n",
    "plt.figure(figsize=(12, 6))\n",
    "sns.barplot(data=brand_avg_price_summary, x='Brand', y='AskPrice')\n",
    "plt.title('Average Asking Price for Each Brand')\n",
    "plt.xlabel('Brand')\n",
    "plt.ylabel('Average Asking Price (₹)')\n",
    "plt.xticks(rotation=45, ha='right')\n",
    "plt.tight_layout()\n",
    "plt.show()"
   ]
  },
  {
   "cell_type": "markdown",
   "id": "67b13468",
   "metadata": {
    "papermill": {
     "duration": 0.016498,
     "end_time": "2024-11-28T00:15:15.172396",
     "exception": false,
     "start_time": "2024-11-28T00:15:15.155898",
     "status": "completed"
    },
    "tags": []
   },
   "source": [
    "We can see that a vast majority of car brands have an average AskPrice that is relatively low. Only a few brands have large AskPrices."
   ]
  },
  {
   "cell_type": "markdown",
   "id": "dfb3ccf5",
   "metadata": {
    "papermill": {
     "duration": 0.020858,
     "end_time": "2024-11-28T00:15:15.212278",
     "exception": false,
     "start_time": "2024-11-28T00:15:15.191420",
     "status": "completed"
    },
    "tags": []
   },
   "source": [
    "Now let's look at the total AskPrice for each Brand."
   ]
  },
  {
   "cell_type": "code",
   "execution_count": 26,
   "id": "b240bb08",
   "metadata": {
    "execution": {
     "iopub.execute_input": "2024-11-28T00:15:15.260696Z",
     "iopub.status.busy": "2024-11-28T00:15:15.259793Z",
     "iopub.status.idle": "2024-11-28T00:15:16.036192Z",
     "shell.execute_reply": "2024-11-28T00:15:16.035064Z"
    },
    "papermill": {
     "duration": 0.804156,
     "end_time": "2024-11-28T00:15:16.039049",
     "exception": false,
     "start_time": "2024-11-28T00:15:15.234893",
     "status": "completed"
    },
    "tags": []
   },
   "outputs": [
    {
     "data": {
      "image/png": "[encoded data removed]",
      "text/plain": [
       "<Figure size 1200x600 with 1 Axes>"
      ]
     },
     "metadata": {},
     "output_type": "display_data"
    }
   ],
   "source": [
    "# Recalculate the total AskPrice by Brand\n",
    "brand_price_summary = df.groupby('Brand')['AskPrice'].sum().reset_index()\n",
    "\n",
    "# Sort the data for better visualization\n",
    "brand_price_summary = brand_price_summary.sort_values(by='AskPrice', ascending=False)\n",
    "\n",
    "# Create a seaborn bar plot\n",
    "plt.figure(figsize=(12, 6))\n",
    "sns.barplot(data=brand_price_summary, x='Brand', y='AskPrice')\n",
    "plt.title('Total Asking Prices for Each Brand')\n",
    "plt.xlabel('Brand')\n",
    "plt.ylabel('Total Asking Prices (₹)')\n",
    "plt.xticks(rotation=45, ha='right')\n",
    "plt.tight_layout()\n",
    "plt.show()"
   ]
  },
  {
   "cell_type": "markdown",
   "id": "f602fcd4",
   "metadata": {
    "papermill": {
     "duration": 0.017653,
     "end_time": "2024-11-28T00:15:16.075295",
     "exception": false,
     "start_time": "2024-11-28T00:15:16.057642",
     "status": "completed"
    },
    "tags": []
   },
   "source": [
    "Now let's look at the total units sold of each Brand."
   ]
  },
  {
   "cell_type": "code",
   "execution_count": 27,
   "id": "07391031",
   "metadata": {
    "execution": {
     "iopub.execute_input": "2024-11-28T00:15:16.112287Z",
     "iopub.status.busy": "2024-11-28T00:15:16.111903Z",
     "iopub.status.idle": "2024-11-28T00:15:16.719591Z",
     "shell.execute_reply": "2024-11-28T00:15:16.718454Z"
    },
    "papermill": {
     "duration": 0.630614,
     "end_time": "2024-11-28T00:15:16.723523",
     "exception": false,
     "start_time": "2024-11-28T00:15:16.092909",
     "status": "completed"
    },
    "tags": []
   },
   "outputs": [
    {
     "data": {
      "image/png": "[encoded data removed]",
      "text/plain": [
       "<Figure size 1200x600 with 1 Axes>"
      ]
     },
     "metadata": {},
     "output_type": "display_data"
    }
   ],
   "source": [
    "# Count the total units sold (assuming each row represents one unit sold)\n",
    "brand_units_summary = df['Brand'].value_counts().reset_index()\n",
    "brand_units_summary.columns = ['Brand', 'TotalUnitsSold']\n",
    "\n",
    "# Sort the data for better visualization\n",
    "brand_units_summary = brand_units_summary.sort_values(by='TotalUnitsSold', ascending=False)\n",
    "\n",
    "# Create a seaborn bar plot for total units sold by brand\n",
    "plt.figure(figsize=(12, 6))\n",
    "sns.barplot(data=brand_units_summary, x='Brand', y='TotalUnitsSold')\n",
    "plt.title('Total Units Listed for Each Brand')\n",
    "plt.xlabel('Brand')\n",
    "plt.ylabel('Total Units Listed')\n",
    "plt.xticks(rotation=45, ha='right')\n",
    "plt.tight_layout()\n",
    "plt.show()"
   ]
  },
  {
   "cell_type": "markdown",
   "id": "d000a7bd",
   "metadata": {
    "papermill": {
     "duration": 0.018964,
     "end_time": "2024-11-28T00:15:16.770245",
     "exception": false,
     "start_time": "2024-11-28T00:15:16.751281",
     "status": "completed"
    },
    "tags": []
   },
   "source": [
    "Now we need to encode some of the features. First, we separate numerical and categorical columns."
   ]
  },
  {
   "cell_type": "markdown",
   "id": "3c0ae397",
   "metadata": {
    "papermill": {
     "duration": 0.020055,
     "end_time": "2024-11-28T00:15:16.809529",
     "exception": false,
     "start_time": "2024-11-28T00:15:16.789474",
     "status": "completed"
    },
    "tags": []
   },
   "source": [
    "The 'model' and 'Brand' features have very high cardinality in a relatively small dataset. For this reasons, we will use Target Encoding on these features."
   ]
  },
  {
   "cell_type": "code",
   "execution_count": 28,
   "id": "2b912f52",
   "metadata": {
    "execution": {
     "iopub.execute_input": "2024-11-28T00:15:16.851509Z",
     "iopub.status.busy": "2024-11-28T00:15:16.850543Z",
     "iopub.status.idle": "2024-11-28T00:15:16.876453Z",
     "shell.execute_reply": "2024-11-28T00:15:16.875240Z"
    },
    "papermill": {
     "duration": 0.049427,
     "end_time": "2024-11-28T00:15:16.878613",
     "exception": false,
     "start_time": "2024-11-28T00:15:16.829186",
     "status": "completed"
    },
    "tags": []
   },
   "outputs": [
    {
     "data": {
      "text/html": [
       "<div>\n",
       "<style scoped>\n",
       "    .dataframe tbody tr th:only-of-type {\n",
       "        vertical-align: middle;\n",
       "    }\n",
       "\n",
       "    .dataframe tbody tr th {\n",
       "        vertical-align: top;\n",
       "    }\n",
       "\n",
       "    .dataframe thead th {\n",
       "        text-align: right;\n",
       "    }\n",
       "</style>\n",
       "<table border=\"1\" class=\"dataframe\">\n",
       "  <thead>\n",
       "    <tr style=\"text-align: right;\">\n",
       "      <th></th>\n",
       "      <th>model</th>\n",
       "      <th>model_encoded</th>\n",
       "      <th>Brand</th>\n",
       "      <th>Brand_encoded</th>\n",
       "    </tr>\n",
       "  </thead>\n",
       "  <tbody>\n",
       "    <tr>\n",
       "      <th>0</th>\n",
       "      <td>City</td>\n",
       "      <td>566024.485282</td>\n",
       "      <td>Honda</td>\n",
       "      <td>5.285156e+05</td>\n",
       "    </tr>\n",
       "    <tr>\n",
       "      <th>1</th>\n",
       "      <td>Innova</td>\n",
       "      <td>867903.750083</td>\n",
       "      <td>Toyota</td>\n",
       "      <td>1.768970e+06</td>\n",
       "    </tr>\n",
       "    <tr>\n",
       "      <th>2</th>\n",
       "      <td>VentoTest</td>\n",
       "      <td>537433.747312</td>\n",
       "      <td>Volkswagen</td>\n",
       "      <td>7.202586e+05</td>\n",
       "    </tr>\n",
       "    <tr>\n",
       "      <th>3</th>\n",
       "      <td>Swift</td>\n",
       "      <td>497711.741475</td>\n",
       "      <td>Maruti Suzuki</td>\n",
       "      <td>4.907008e+05</td>\n",
       "    </tr>\n",
       "    <tr>\n",
       "      <th>4</th>\n",
       "      <td>Baleno</td>\n",
       "      <td>649402.444206</td>\n",
       "      <td>Maruti Suzuki</td>\n",
       "      <td>4.907008e+05</td>\n",
       "    </tr>\n",
       "  </tbody>\n",
       "</table>\n",
       "</div>"
      ],
      "text/plain": [
       "       model  model_encoded          Brand  Brand_encoded\n",
       "0       City  566024.485282          Honda   5.285156e+05\n",
       "1     Innova  867903.750083         Toyota   1.768970e+06\n",
       "2  VentoTest  537433.747312     Volkswagen   7.202586e+05\n",
       "3      Swift  497711.741475  Maruti Suzuki   4.907008e+05\n",
       "4     Baleno  649402.444206  Maruti Suzuki   4.907008e+05"
      ]
     },
     "execution_count": 28,
     "metadata": {},
     "output_type": "execute_result"
    }
   ],
   "source": [
    "# Define a function for target encoding with smoothing\n",
    "def target_encode(data, feature, target, smoothing=10):\n",
    "    # Calculate global mean of the target\n",
    "    global_mean = data[target].mean()\n",
    "    \n",
    "    # Calculate the mean and count for each category\n",
    "    agg = data.groupby(feature)[target].agg(['mean', 'count'])\n",
    "    mean = agg['mean']\n",
    "    count = agg['count']\n",
    "    \n",
    "    # Apply smoothing formula\n",
    "    smoothed_mean = (count * mean + smoothing * global_mean) / (count + smoothing)\n",
    "    \n",
    "    # Map the smoothed means back to the original feature\n",
    "    encoded_feature = data[feature].map(smoothed_mean)\n",
    "    return encoded_feature\n",
    "\n",
    "# Ensure 'AskPrice' is numeric\n",
    "df['AskPrice'] = df['AskPrice'].astype(float)\n",
    "\n",
    "# Apply target encoding to the 'model' feature\n",
    "df['model_encoded'] = target_encode(df, feature='model', target='AskPrice', smoothing=10)\n",
    "\n",
    "# Apply target encoding to the 'Brand' feature\n",
    "df['Brand_encoded'] = target_encode(df, feature='Brand', target='AskPrice', smoothing=10)\n",
    "\n",
    "# Display the dataset with the new encoded feature\n",
    "df[['model', 'model_encoded', 'Brand', 'Brand_encoded']].head()"
   ]
  },
  {
   "cell_type": "markdown",
   "id": "07e1eb37",
   "metadata": {
    "papermill": {
     "duration": 0.019072,
     "end_time": "2024-11-28T00:15:16.917180",
     "exception": false,
     "start_time": "2024-11-28T00:15:16.898108",
     "status": "completed"
    },
    "tags": []
   },
   "source": [
    "Remove the 'model' and 'Brand' columns."
   ]
  },
  {
   "cell_type": "code",
   "execution_count": 29,
   "id": "9b1312e5",
   "metadata": {
    "execution": {
     "iopub.execute_input": "2024-11-28T00:15:16.958354Z",
     "iopub.status.busy": "2024-11-28T00:15:16.957469Z",
     "iopub.status.idle": "2024-11-28T00:15:16.963717Z",
     "shell.execute_reply": "2024-11-28T00:15:16.962873Z"
    },
    "papermill": {
     "duration": 0.028937,
     "end_time": "2024-11-28T00:15:16.965704",
     "exception": false,
     "start_time": "2024-11-28T00:15:16.936767",
     "status": "completed"
    },
    "tags": []
   },
   "outputs": [],
   "source": [
    "df = df.drop(columns=['model', 'Brand'])"
   ]
  },
  {
   "cell_type": "code",
   "execution_count": 30,
   "id": "5b5c854c",
   "metadata": {
    "execution": {
     "iopub.execute_input": "2024-11-28T00:15:17.008432Z",
     "iopub.status.busy": "2024-11-28T00:15:17.008047Z",
     "iopub.status.idle": "2024-11-28T00:15:17.021926Z",
     "shell.execute_reply": "2024-11-28T00:15:17.020826Z"
    },
    "papermill": {
     "duration": 0.037096,
     "end_time": "2024-11-28T00:15:17.023823",
     "exception": false,
     "start_time": "2024-11-28T00:15:16.986727",
     "status": "completed"
    },
    "tags": []
   },
   "outputs": [
    {
     "data": {
      "text/html": [
       "<div>\n",
       "<style scoped>\n",
       "    .dataframe tbody tr th:only-of-type {\n",
       "        vertical-align: middle;\n",
       "    }\n",
       "\n",
       "    .dataframe tbody tr th {\n",
       "        vertical-align: top;\n",
       "    }\n",
       "\n",
       "    .dataframe thead th {\n",
       "        text-align: right;\n",
       "    }\n",
       "</style>\n",
       "<table border=\"1\" class=\"dataframe\">\n",
       "  <thead>\n",
       "    <tr style=\"text-align: right;\">\n",
       "      <th></th>\n",
       "      <th>Year</th>\n",
       "      <th>kmDriven</th>\n",
       "      <th>Transmission</th>\n",
       "      <th>Owner</th>\n",
       "      <th>FuelType</th>\n",
       "      <th>AskPrice</th>\n",
       "      <th>model_encoded</th>\n",
       "      <th>Brand_encoded</th>\n",
       "    </tr>\n",
       "  </thead>\n",
       "  <tbody>\n",
       "    <tr>\n",
       "      <th>0</th>\n",
       "      <td>2001</td>\n",
       "      <td>98000</td>\n",
       "      <td>Manual</td>\n",
       "      <td>second</td>\n",
       "      <td>Petrol</td>\n",
       "      <td>195000.0</td>\n",
       "      <td>566024.485282</td>\n",
       "      <td>5.285156e+05</td>\n",
       "    </tr>\n",
       "    <tr>\n",
       "      <th>1</th>\n",
       "      <td>2009</td>\n",
       "      <td>190000</td>\n",
       "      <td>Manual</td>\n",
       "      <td>second</td>\n",
       "      <td>Diesel</td>\n",
       "      <td>375000.0</td>\n",
       "      <td>867903.750083</td>\n",
       "      <td>1.768970e+06</td>\n",
       "    </tr>\n",
       "    <tr>\n",
       "      <th>2</th>\n",
       "      <td>2010</td>\n",
       "      <td>77246</td>\n",
       "      <td>Manual</td>\n",
       "      <td>first</td>\n",
       "      <td>Diesel</td>\n",
       "      <td>184999.0</td>\n",
       "      <td>537433.747312</td>\n",
       "      <td>7.202586e+05</td>\n",
       "    </tr>\n",
       "    <tr>\n",
       "      <th>3</th>\n",
       "      <td>2017</td>\n",
       "      <td>83500</td>\n",
       "      <td>Manual</td>\n",
       "      <td>second</td>\n",
       "      <td>Diesel</td>\n",
       "      <td>565000.0</td>\n",
       "      <td>497711.741475</td>\n",
       "      <td>4.907008e+05</td>\n",
       "    </tr>\n",
       "    <tr>\n",
       "      <th>4</th>\n",
       "      <td>2019</td>\n",
       "      <td>45000</td>\n",
       "      <td>Automatic</td>\n",
       "      <td>first</td>\n",
       "      <td>Petrol</td>\n",
       "      <td>685000.0</td>\n",
       "      <td>649402.444206</td>\n",
       "      <td>4.907008e+05</td>\n",
       "    </tr>\n",
       "  </tbody>\n",
       "</table>\n",
       "</div>"
      ],
      "text/plain": [
       "   Year  kmDriven Transmission   Owner FuelType  AskPrice  model_encoded  \\\n",
       "0  2001     98000       Manual  second   Petrol  195000.0  566024.485282   \n",
       "1  2009    190000       Manual  second   Diesel  375000.0  867903.750083   \n",
       "2  2010     77246       Manual   first   Diesel  184999.0  537433.747312   \n",
       "3  2017     83500       Manual  second   Diesel  565000.0  497711.741475   \n",
       "4  2019     45000    Automatic   first   Petrol  685000.0  649402.444206   \n",
       "\n",
       "   Brand_encoded  \n",
       "0   5.285156e+05  \n",
       "1   1.768970e+06  \n",
       "2   7.202586e+05  \n",
       "3   4.907008e+05  \n",
       "4   4.907008e+05  "
      ]
     },
     "execution_count": 30,
     "metadata": {},
     "output_type": "execute_result"
    }
   ],
   "source": [
    "df.head()"
   ]
  },
  {
   "cell_type": "markdown",
   "id": "26ca75d1",
   "metadata": {
    "papermill": {
     "duration": 0.019749,
     "end_time": "2024-11-28T00:15:17.063523",
     "exception": false,
     "start_time": "2024-11-28T00:15:17.043774",
     "status": "completed"
    },
    "tags": []
   },
   "source": [
    "Define the numerical features."
   ]
  },
  {
   "cell_type": "code",
   "execution_count": 31,
   "id": "e47ec44a",
   "metadata": {
    "execution": {
     "iopub.execute_input": "2024-11-28T00:15:17.105318Z",
     "iopub.status.busy": "2024-11-28T00:15:17.104494Z",
     "iopub.status.idle": "2024-11-28T00:15:17.109505Z",
     "shell.execute_reply": "2024-11-28T00:15:17.108441Z"
    },
    "papermill": {
     "duration": 0.028321,
     "end_time": "2024-11-28T00:15:17.111551",
     "exception": false,
     "start_time": "2024-11-28T00:15:17.083230",
     "status": "completed"
    },
    "tags": []
   },
   "outputs": [],
   "source": [
    "numerical_features = ['Year', 'kmDriven', 'AskPrice', 'model_encoded', 'Brand_encoded']  \n",
    "categorical_features = ['Transmission', 'FuelType', 'Owner']"
   ]
  },
  {
   "cell_type": "markdown",
   "id": "062ecac4",
   "metadata": {
    "execution": {
     "iopub.execute_input": "2024-11-27T15:56:43.120132Z",
     "iopub.status.busy": "2024-11-27T15:56:43.119759Z",
     "iopub.status.idle": "2024-11-27T15:56:43.131896Z",
     "shell.execute_reply": "2024-11-27T15:56:43.130510Z",
     "shell.execute_reply.started": "2024-11-27T15:56:43.120099Z"
    },
    "papermill": {
     "duration": 0.019242,
     "end_time": "2024-11-28T00:15:17.150886",
     "exception": false,
     "start_time": "2024-11-28T00:15:17.131644",
     "status": "completed"
    },
    "tags": []
   },
   "source": [
    "Scale the numerical data."
   ]
  },
  {
   "cell_type": "code",
   "execution_count": 32,
   "id": "cbb9a78c",
   "metadata": {
    "execution": {
     "iopub.execute_input": "2024-11-28T00:15:17.191926Z",
     "iopub.status.busy": "2024-11-28T00:15:17.191568Z",
     "iopub.status.idle": "2024-11-28T00:15:17.211452Z",
     "shell.execute_reply": "2024-11-28T00:15:17.210072Z"
    },
    "papermill": {
     "duration": 0.043734,
     "end_time": "2024-11-28T00:15:17.214333",
     "exception": false,
     "start_time": "2024-11-28T00:15:17.170599",
     "status": "completed"
    },
    "tags": []
   },
   "outputs": [],
   "source": [
    "from sklearn.preprocessing import OneHotEncoder\n",
    "\n",
    "# Encode categorical features\n",
    "encoder = OneHotEncoder(sparse_output=False)\n",
    "df_encoded = encoder.fit_transform(df[categorical_features])\n",
    "\n",
    "# Convert the encoded features back to a DataFrame\n",
    "encoded_feature_names = encoder.get_feature_names_out(categorical_features)\n",
    "df_encoded = pd.DataFrame(df_encoded, columns=encoded_feature_names)\n",
    "\n",
    "# Combine numerical and encoded categorical features\n",
    "# df_combined = pd.concat([df_scaled[numerical_features], df_encoded], axis=1)"
   ]
  },
  {
   "cell_type": "markdown",
   "id": "9f1d3e82",
   "metadata": {
    "papermill": {
     "duration": 0.019431,
     "end_time": "2024-11-28T00:15:17.254588",
     "exception": false,
     "start_time": "2024-11-28T00:15:17.235157",
     "status": "completed"
    },
    "tags": []
   },
   "source": [
    "Combine dataframes."
   ]
  },
  {
   "cell_type": "code",
   "execution_count": 33,
   "id": "2a02150e",
   "metadata": {
    "execution": {
     "iopub.execute_input": "2024-11-28T00:15:17.295896Z",
     "iopub.status.busy": "2024-11-28T00:15:17.294985Z",
     "iopub.status.idle": "2024-11-28T00:15:17.302990Z",
     "shell.execute_reply": "2024-11-28T00:15:17.301741Z"
    },
    "papermill": {
     "duration": 0.031067,
     "end_time": "2024-11-28T00:15:17.305158",
     "exception": false,
     "start_time": "2024-11-28T00:15:17.274091",
     "status": "completed"
    },
    "tags": []
   },
   "outputs": [],
   "source": [
    "df_encoded = df_encoded.reindex(df.index)\n",
    "df_combined = pd.concat([df, df_encoded], axis=1)"
   ]
  },
  {
   "cell_type": "markdown",
   "id": "5f708296",
   "metadata": {
    "papermill": {
     "duration": 0.019397,
     "end_time": "2024-11-28T00:15:17.344140",
     "exception": false,
     "start_time": "2024-11-28T00:15:17.324743",
     "status": "completed"
    },
    "tags": []
   },
   "source": [
    "Drop text-based columns."
   ]
  },
  {
   "cell_type": "code",
   "execution_count": 34,
   "id": "6ede47f4",
   "metadata": {
    "execution": {
     "iopub.execute_input": "2024-11-28T00:15:17.385361Z",
     "iopub.status.busy": "2024-11-28T00:15:17.384976Z",
     "iopub.status.idle": "2024-11-28T00:15:17.391753Z",
     "shell.execute_reply": "2024-11-28T00:15:17.390657Z"
    },
    "papermill": {
     "duration": 0.029944,
     "end_time": "2024-11-28T00:15:17.393894",
     "exception": false,
     "start_time": "2024-11-28T00:15:17.363950",
     "status": "completed"
    },
    "tags": []
   },
   "outputs": [],
   "source": [
    "df_combined.drop(columns=['Transmission', 'Owner', 'FuelType'], inplace=True)"
   ]
  },
  {
   "cell_type": "markdown",
   "id": "d2547c52",
   "metadata": {
    "papermill": {
     "duration": 0.019517,
     "end_time": "2024-11-28T00:15:17.433042",
     "exception": false,
     "start_time": "2024-11-28T00:15:17.413525",
     "status": "completed"
    },
    "tags": []
   },
   "source": [
    "Scale the Data"
   ]
  },
  {
   "cell_type": "code",
   "execution_count": 35,
   "id": "677c9d88",
   "metadata": {
    "execution": {
     "iopub.execute_input": "2024-11-28T00:15:17.473565Z",
     "iopub.status.busy": "2024-11-28T00:15:17.473169Z",
     "iopub.status.idle": "2024-11-28T00:15:17.484806Z",
     "shell.execute_reply": "2024-11-28T00:15:17.484021Z"
    },
    "papermill": {
     "duration": 0.034477,
     "end_time": "2024-11-28T00:15:17.486806",
     "exception": false,
     "start_time": "2024-11-28T00:15:17.452329",
     "status": "completed"
    },
    "tags": []
   },
   "outputs": [],
   "source": [
    "from sklearn.preprocessing import StandardScaler\n",
    "\n",
    "# Scale numerical features while preserving the index and column names\n",
    "scaler = StandardScaler()\n",
    "df_scaled = scaler.fit_transform(df_combined)\n",
    "\n",
    "# Create a DataFrame with the original column names and index\n",
    "df_final = pd.DataFrame(df_scaled, columns=df_combined.columns, index=df_combined.index)\n"
   ]
  },
  {
   "cell_type": "code",
   "execution_count": 36,
   "id": "20567d31",
   "metadata": {
    "execution": {
     "iopub.execute_input": "2024-11-28T00:15:17.530484Z",
     "iopub.status.busy": "2024-11-28T00:15:17.529640Z",
     "iopub.status.idle": "2024-11-28T00:15:17.545827Z",
     "shell.execute_reply": "2024-11-28T00:15:17.544731Z"
    },
    "papermill": {
     "duration": 0.03989,
     "end_time": "2024-11-28T00:15:17.547735",
     "exception": false,
     "start_time": "2024-11-28T00:15:17.507845",
     "status": "completed"
    },
    "tags": []
   },
   "outputs": [
    {
     "data": {
      "text/html": [
       "<div>\n",
       "<style scoped>\n",
       "    .dataframe tbody tr th:only-of-type {\n",
       "        vertical-align: middle;\n",
       "    }\n",
       "\n",
       "    .dataframe tbody tr th {\n",
       "        vertical-align: top;\n",
       "    }\n",
       "\n",
       "    .dataframe thead th {\n",
       "        text-align: right;\n",
       "    }\n",
       "</style>\n",
       "<table border=\"1\" class=\"dataframe\">\n",
       "  <thead>\n",
       "    <tr style=\"text-align: right;\">\n",
       "      <th></th>\n",
       "      <th>Year</th>\n",
       "      <th>kmDriven</th>\n",
       "      <th>AskPrice</th>\n",
       "      <th>model_encoded</th>\n",
       "      <th>Brand_encoded</th>\n",
       "      <th>Transmission_Automatic</th>\n",
       "      <th>Transmission_Manual</th>\n",
       "      <th>FuelType_Diesel</th>\n",
       "      <th>FuelType_Hybrid/CNG</th>\n",
       "      <th>FuelType_Petrol</th>\n",
       "      <th>Owner_first</th>\n",
       "      <th>Owner_second</th>\n",
       "    </tr>\n",
       "  </thead>\n",
       "  <tbody>\n",
       "    <tr>\n",
       "      <th>0</th>\n",
       "      <td>-3.776992</td>\n",
       "      <td>0.486525</td>\n",
       "      <td>-0.524896</td>\n",
       "      <td>-0.536862</td>\n",
       "      <td>-0.561606</td>\n",
       "      <td>-0.998841</td>\n",
       "      <td>0.998841</td>\n",
       "      <td>-0.819440</td>\n",
       "      <td>-0.498386</td>\n",
       "      <td>1.226521</td>\n",
       "      <td>-1.002849</td>\n",
       "      <td>1.002849</td>\n",
       "    </tr>\n",
       "    <tr>\n",
       "      <th>1</th>\n",
       "      <td>-1.811813</td>\n",
       "      <td>2.120464</td>\n",
       "      <td>-0.416566</td>\n",
       "      <td>-0.136129</td>\n",
       "      <td>0.799106</td>\n",
       "      <td>-0.998841</td>\n",
       "      <td>0.998841</td>\n",
       "      <td>1.220346</td>\n",
       "      <td>-0.498386</td>\n",
       "      <td>-0.815314</td>\n",
       "      <td>-1.002849</td>\n",
       "      <td>1.002849</td>\n",
       "    </tr>\n",
       "    <tr>\n",
       "      <th>2</th>\n",
       "      <td>-1.566166</td>\n",
       "      <td>0.117930</td>\n",
       "      <td>-0.530915</td>\n",
       "      <td>-0.574815</td>\n",
       "      <td>-0.351274</td>\n",
       "      <td>-0.998841</td>\n",
       "      <td>0.998841</td>\n",
       "      <td>1.220346</td>\n",
       "      <td>-0.498386</td>\n",
       "      <td>-0.815314</td>\n",
       "      <td>0.997159</td>\n",
       "      <td>-0.997159</td>\n",
       "    </tr>\n",
       "    <tr>\n",
       "      <th>3</th>\n",
       "      <td>0.153365</td>\n",
       "      <td>0.229002</td>\n",
       "      <td>-0.302218</td>\n",
       "      <td>-0.627544</td>\n",
       "      <td>-0.603087</td>\n",
       "      <td>-0.998841</td>\n",
       "      <td>0.998841</td>\n",
       "      <td>1.220346</td>\n",
       "      <td>-0.498386</td>\n",
       "      <td>-0.815314</td>\n",
       "      <td>-1.002849</td>\n",
       "      <td>1.002849</td>\n",
       "    </tr>\n",
       "    <tr>\n",
       "      <th>4</th>\n",
       "      <td>0.644660</td>\n",
       "      <td>-0.454766</td>\n",
       "      <td>-0.229998</td>\n",
       "      <td>-0.426181</td>\n",
       "      <td>-0.603087</td>\n",
       "      <td>1.001160</td>\n",
       "      <td>-1.001160</td>\n",
       "      <td>-0.819440</td>\n",
       "      <td>-0.498386</td>\n",
       "      <td>1.226521</td>\n",
       "      <td>0.997159</td>\n",
       "      <td>-0.997159</td>\n",
       "    </tr>\n",
       "  </tbody>\n",
       "</table>\n",
       "</div>"
      ],
      "text/plain": [
       "       Year  kmDriven  AskPrice  model_encoded  Brand_encoded  \\\n",
       "0 -3.776992  0.486525 -0.524896      -0.536862      -0.561606   \n",
       "1 -1.811813  2.120464 -0.416566      -0.136129       0.799106   \n",
       "2 -1.566166  0.117930 -0.530915      -0.574815      -0.351274   \n",
       "3  0.153365  0.229002 -0.302218      -0.627544      -0.603087   \n",
       "4  0.644660 -0.454766 -0.229998      -0.426181      -0.603087   \n",
       "\n",
       "   Transmission_Automatic  Transmission_Manual  FuelType_Diesel  \\\n",
       "0               -0.998841             0.998841        -0.819440   \n",
       "1               -0.998841             0.998841         1.220346   \n",
       "2               -0.998841             0.998841         1.220346   \n",
       "3               -0.998841             0.998841         1.220346   \n",
       "4                1.001160            -1.001160        -0.819440   \n",
       "\n",
       "   FuelType_Hybrid/CNG  FuelType_Petrol  Owner_first  Owner_second  \n",
       "0            -0.498386         1.226521    -1.002849      1.002849  \n",
       "1            -0.498386        -0.815314    -1.002849      1.002849  \n",
       "2            -0.498386        -0.815314     0.997159     -0.997159  \n",
       "3            -0.498386        -0.815314    -1.002849      1.002849  \n",
       "4            -0.498386         1.226521     0.997159     -0.997159  "
      ]
     },
     "execution_count": 36,
     "metadata": {},
     "output_type": "execute_result"
    }
   ],
   "source": [
    "df_final.head()"
   ]
  },
  {
   "cell_type": "code",
   "execution_count": 37,
   "id": "d7442a92",
   "metadata": {
    "execution": {
     "iopub.execute_input": "2024-11-28T00:15:17.589708Z",
     "iopub.status.busy": "2024-11-28T00:15:17.588908Z",
     "iopub.status.idle": "2024-11-28T00:15:17.600169Z",
     "shell.execute_reply": "2024-11-28T00:15:17.599030Z"
    },
    "papermill": {
     "duration": 0.034753,
     "end_time": "2024-11-28T00:15:17.602359",
     "exception": false,
     "start_time": "2024-11-28T00:15:17.567606",
     "status": "completed"
    },
    "tags": []
   },
   "outputs": [
    {
     "name": "stdout",
     "output_type": "stream",
     "text": [
      "<class 'pandas.core.frame.DataFrame'>\n",
      "Index: 9535 entries, 0 to 9581\n",
      "Data columns (total 12 columns):\n",
      " #   Column                  Non-Null Count  Dtype  \n",
      "---  ------                  --------------  -----  \n",
      " 0   Year                    9535 non-null   float64\n",
      " 1   kmDriven                9535 non-null   float64\n",
      " 2   AskPrice                9535 non-null   float64\n",
      " 3   model_encoded           9535 non-null   float64\n",
      " 4   Brand_encoded           9535 non-null   float64\n",
      " 5   Transmission_Automatic  9489 non-null   float64\n",
      " 6   Transmission_Manual     9489 non-null   float64\n",
      " 7   FuelType_Diesel         9489 non-null   float64\n",
      " 8   FuelType_Hybrid/CNG     9489 non-null   float64\n",
      " 9   FuelType_Petrol         9489 non-null   float64\n",
      " 10  Owner_first             9489 non-null   float64\n",
      " 11  Owner_second            9489 non-null   float64\n",
      "dtypes: float64(12)\n",
      "memory usage: 968.4 KB\n"
     ]
    }
   ],
   "source": [
    "df_final.info()"
   ]
  },
  {
   "cell_type": "markdown",
   "id": "1abd5639",
   "metadata": {
    "papermill": {
     "duration": 0.020117,
     "end_time": "2024-11-28T00:15:17.642554",
     "exception": false,
     "start_time": "2024-11-28T00:15:17.622437",
     "status": "completed"
    },
    "tags": []
   },
   "source": [
    "Add an XGBoost model."
   ]
  },
  {
   "cell_type": "code",
   "execution_count": 38,
   "id": "90906527",
   "metadata": {
    "execution": {
     "iopub.execute_input": "2024-11-28T00:15:17.685029Z",
     "iopub.status.busy": "2024-11-28T00:15:17.684508Z",
     "iopub.status.idle": "2024-11-28T00:15:18.559299Z",
     "shell.execute_reply": "2024-11-28T00:15:18.558422Z"
    },
    "papermill": {
     "duration": 0.899387,
     "end_time": "2024-11-28T00:15:18.562006",
     "exception": false,
     "start_time": "2024-11-28T00:15:17.662619",
     "status": "completed"
    },
    "tags": []
   },
   "outputs": [
    {
     "name": "stdout",
     "output_type": "stream",
     "text": [
      "Cross-Validation RMSE Scores: [0.57193908 0.63091615 0.30157833 0.43388178 0.39128636]\n",
      "Mean RMSE: 0.46592033970674834\n",
      "Standard Deviation of RMSE: 0.12005713935009221\n"
     ]
    }
   ],
   "source": [
    "from xgboost import XGBRegressor\n",
    "from sklearn.model_selection import cross_val_score\n",
    "from sklearn.metrics import make_scorer, mean_squared_error\n",
    "\n",
    "# Define the X and y variables\n",
    "X = df_final.drop(columns=['AskPrice'])  # Replace 'AskPrice' with your target column\n",
    "y = df_final['AskPrice']  # Replace 'AskPrice' with your target column\n",
    "\n",
    "# Initialize the XGBoost Regressor\n",
    "xgb_model = XGBRegressor(\n",
    "    n_estimators=100,\n",
    "    learning_rate=0.1,\n",
    "    max_depth=6,\n",
    "    random_state=0\n",
    ")\n",
    "\n",
    "# Define a custom scorer for RMSE (scikit-learn default is negative MSE)\n",
    "rmse_scorer = make_scorer(mean_squared_error, squared=False)\n",
    "\n",
    "# Perform cross-validation\n",
    "cv_scores = cross_val_score(xgb_model, X, y, cv=5, scoring=rmse_scorer)\n",
    "\n",
    "# Display the results\n",
    "print(f\"Cross-Validation RMSE Scores: {cv_scores}\")\n",
    "print(f\"Mean RMSE: {np.mean(cv_scores)}\")\n",
    "print(f\"Standard Deviation of RMSE: {np.std(cv_scores)}\")\n"
   ]
  },
  {
   "cell_type": "code",
   "execution_count": null,
   "id": "af37e5ea",
   "metadata": {
    "papermill": {
     "duration": 0.021563,
     "end_time": "2024-11-28T00:15:18.606502",
     "exception": false,
     "start_time": "2024-11-28T00:15:18.584939",
     "status": "completed"
    },
    "tags": []
   },
   "outputs": [],
   "source": []
  }
 ],
 "metadata": {
  "kaggle": {
   "accelerator": "none",
   "dataSources": [
    {
     "datasetId": 6153826,
     "sourceId": 9998181,
     "sourceType": "datasetVersion"
    }
   ],
   "dockerImageVersionId": 30786,
   "isGpuEnabled": false,
   "isInternetEnabled": true,
   "language": "python",
   "sourceType": "notebook"
  },
  "kernelspec": {
   "display_name": "Python 3",
   "language": "python",
   "name": "python3"
  },
  "language_info": {
   "codemirror_mode": {
    "name": "ipython",
    "version": 3
   },
   "file_extension": ".py",
   "mimetype": "text/x-python",
   "name": "python",
   "nbconvert_exporter": "python",
   "pygments_lexer": "ipython3",
   "version": "3.10.14"
  },
  "papermill": {
   "default_parameters": {},
   "duration": 15.844854,
   "end_time": "2024-11-28T00:15:19.350067",
   "environment_variables": {},
   "exception": null,
   "input_path": "__notebook__.ipynb",
   "output_path": "__notebook__.ipynb",
   "parameters": {},
   "start_time": "2024-11-28T00:15:03.505213",
   "version": "2.6.0"
  }
 },
 "nbformat": 4,
 "nbformat_minor": 5
}
